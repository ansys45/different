{
 "cells": [
  {
   "cell_type": "markdown",
   "metadata": {},
   "source": [
    "# Распознавание А и С с PyTorch"
   ]
  },
  {
   "cell_type": "code",
   "execution_count": 78,
   "metadata": {},
   "outputs": [],
   "source": [
    "import torch \n",
    "import torch.nn\n",
    "import torch.nn as nn\n",
    "import torch.nn.functional as F\n",
    "import torchvision\n",
    "from torchvision import transforms, datasets\n",
    "import matplotlib.pyplot as plt\n",
    "from PIL import Image\n",
    "import numpy as np\n",
    "import pandas as pd\n",
    "import os\n",
    "from sklearn.model_selection import train_test_split as tts"
   ]
  },
  {
   "cell_type": "markdown",
   "metadata": {},
   "source": [
    "## Данные"
   ]
  },
  {
   "cell_type": "code",
   "execution_count": 126,
   "metadata": {},
   "outputs": [],
   "source": [
    "# converts an image to a np array of 0 and 1\n",
    "def convert(file):\n",
    "    image = Image.open(file)\n",
    "    data = np.asarray(image)\n",
    "    data2 = data[:, :, 3].ravel()\n",
    "    data2 = np.where(data2, 1, 0)\n",
    "    tensor = torch.from_numpy(data2).float()\n",
    "    return data, data2, tensor\n",
    "\n",
    "\n",
    "#  A 100x100, output = 0\n",
    "A = []\n",
    "files = os.listdir('a')\n",
    "for file in files:\n",
    "    if '.png' in file:\n",
    "        path = 'a/' + file\n",
    "        _, _, x = convert(path)\n",
    "        A.append(x)\n",
    "A = A[:100]\n",
    "\n",
    "#  C 100x100, output = 1\n",
    "C = []\n",
    "files = os.listdir('c')\n",
    "for file in files:\n",
    "    if '.png' in file:\n",
    "        _, _, x = convert('c/' + file)\n",
    "        C.append(x)\n",
    "C = C[:100]"
   ]
  },
  {
   "cell_type": "code",
   "execution_count": 130,
   "metadata": {},
   "outputs": [
    {
     "data": {
      "text/plain": [
       "(tensor([0., 0., 0., 0., 0., 0., 0., 0., 0., 0., 0., 0., 0., 0., 1., 1., 0., 0.,\n",
       "         0., 0., 0., 0., 0., 1., 1., 1., 0., 0., 0., 0., 0., 0., 0., 1., 0., 1.,\n",
       "         0., 0., 0., 0., 0., 0., 1., 0., 0., 1., 0., 0., 0., 0., 0., 0., 1., 0.,\n",
       "         0., 0., 1., 0., 0., 0., 0., 0., 1., 1., 1., 1., 1., 0., 0., 0., 0., 1.,\n",
       "         0., 0., 0., 0., 1., 1., 0., 0., 0., 1., 0., 0., 0., 0., 0., 1., 0., 0.,\n",
       "         0., 0., 0., 0., 0., 0., 0., 0., 0., 0.]), tensor([0]))"
      ]
     },
     "execution_count": 130,
     "metadata": {},
     "output_type": "execute_result"
    }
   ],
   "source": [
    "Data = []\n",
    "for a in A: Data.append((a, torch.tensor([0])))\n",
    "for c in C: Data.append((c, torch.tensor([1])))\n",
    "Data[0]"
   ]
  },
  {
   "cell_type": "code",
   "execution_count": 131,
   "metadata": {},
   "outputs": [],
   "source": [
    "# Train / Test (70/30)\n",
    "np.random.shuffle(Data)\n",
    "train, test = Data[:140], Data[140:]"
   ]
  },
  {
   "cell_type": "markdown",
   "metadata": {},
   "source": [
    "## Нейронная сеть"
   ]
  },
  {
   "cell_type": "code",
   "execution_count": 146,
   "metadata": {},
   "outputs": [],
   "source": [
    "class Net(nn.Module):\n",
    "    def __init__(self):\n",
    "        super().__init__()\n",
    "        self.fc1 = nn.Linear(100, 64)\n",
    "        self.fc2 = nn.Linear(64, 30)\n",
    "        self.fc3 = nn.Linear(30, 10)\n",
    "        self.fc4 = nn.Linear(10, 2)\n",
    "\n",
    "    def forward(self, x):\n",
    "        x = F.sigmoid(self.fc1(x))\n",
    "        x = F.sigmoid(self.fc2(x))\n",
    "        x = F.sigmoid(self.fc3(x))\n",
    "        x = F.sigmoid(self.fc4(x))\n",
    "        return x\n"
   ]
  },
  {
   "cell_type": "code",
   "execution_count": 148,
   "metadata": {},
   "outputs": [
    {
     "data": {
      "text/plain": [
       "tensor(0.9232, grad_fn=<SumBackward0>)"
      ]
     },
     "execution_count": 148,
     "metadata": {},
     "output_type": "execute_result"
    }
   ],
   "source": [
    "net = Net()\n",
    "out = net(x.view(-1, 100))\n",
    "out.sum()"
   ]
  },
  {
   "cell_type": "code",
   "execution_count": 133,
   "metadata": {},
   "outputs": [
    {
     "name": "stderr",
     "output_type": "stream",
     "text": [
      "/opt/anaconda3/lib/python3.7/site-packages/ipykernel_launcher.py:16: UserWarning: To copy construct from a tensor, it is recommended to use sourceTensor.clone().detach() or sourceTensor.clone().detach().requires_grad_(True), rather than torch.tensor(sourceTensor).\n",
      "  app.launch_new_instance()\n"
     ]
    },
    {
     "name": "stdout",
     "output_type": "stream",
     "text": [
      "tensor(0.6584, grad_fn=<NllLossBackward>)\n",
      "tensor(0.6584, grad_fn=<NllLossBackward>)\n",
      "tensor(0.6584, grad_fn=<NllLossBackward>)\n",
      "tensor(0.6584, grad_fn=<NllLossBackward>)\n",
      "tensor(0.6584, grad_fn=<NllLossBackward>)\n",
      "tensor(0.6584, grad_fn=<NllLossBackward>)\n",
      "tensor(0.6584, grad_fn=<NllLossBackward>)\n",
      "tensor(0.6584, grad_fn=<NllLossBackward>)\n",
      "tensor(0.6584, grad_fn=<NllLossBackward>)\n",
      "tensor(0.6584, grad_fn=<NllLossBackward>)\n",
      "tensor(0.6584, grad_fn=<NllLossBackward>)\n",
      "tensor(0.6584, grad_fn=<NllLossBackward>)\n",
      "tensor(0.6584, grad_fn=<NllLossBackward>)\n",
      "tensor(0.6584, grad_fn=<NllLossBackward>)\n",
      "tensor(0.6584, grad_fn=<NllLossBackward>)\n",
      "tensor(0.6584, grad_fn=<NllLossBackward>)\n",
      "tensor(0.6584, grad_fn=<NllLossBackward>)\n",
      "tensor(0.6584, grad_fn=<NllLossBackward>)\n",
      "tensor(0.6584, grad_fn=<NllLossBackward>)\n",
      "tensor(0.6584, grad_fn=<NllLossBackward>)\n",
      "tensor(0.6584, grad_fn=<NllLossBackward>)\n",
      "tensor(0.6584, grad_fn=<NllLossBackward>)\n",
      "tensor(0.6584, grad_fn=<NllLossBackward>)\n",
      "tensor(0.6584, grad_fn=<NllLossBackward>)\n",
      "tensor(0.6584, grad_fn=<NllLossBackward>)\n",
      "tensor(0.6584, grad_fn=<NllLossBackward>)\n",
      "tensor(0.6584, grad_fn=<NllLossBackward>)\n",
      "tensor(0.6584, grad_fn=<NllLossBackward>)\n",
      "tensor(0.6584, grad_fn=<NllLossBackward>)\n",
      "tensor(0.6584, grad_fn=<NllLossBackward>)\n",
      "tensor(0.6584, grad_fn=<NllLossBackward>)\n",
      "tensor(0.6584, grad_fn=<NllLossBackward>)\n",
      "tensor(0.6584, grad_fn=<NllLossBackward>)\n",
      "tensor(0.6584, grad_fn=<NllLossBackward>)\n",
      "tensor(0.6584, grad_fn=<NllLossBackward>)\n",
      "tensor(0.6584, grad_fn=<NllLossBackward>)\n",
      "tensor(0.6584, grad_fn=<NllLossBackward>)\n",
      "tensor(0.6584, grad_fn=<NllLossBackward>)\n",
      "tensor(0.6584, grad_fn=<NllLossBackward>)\n",
      "tensor(0.6584, grad_fn=<NllLossBackward>)\n",
      "tensor(0.6584, grad_fn=<NllLossBackward>)\n",
      "tensor(0.6584, grad_fn=<NllLossBackward>)\n",
      "tensor(0.6584, grad_fn=<NllLossBackward>)\n",
      "tensor(0.6584, grad_fn=<NllLossBackward>)\n",
      "tensor(0.6584, grad_fn=<NllLossBackward>)\n",
      "tensor(0.6584, grad_fn=<NllLossBackward>)\n",
      "tensor(0.6584, grad_fn=<NllLossBackward>)\n",
      "tensor(0.6584, grad_fn=<NllLossBackward>)\n",
      "tensor(0.6584, grad_fn=<NllLossBackward>)\n",
      "tensor(0.6584, grad_fn=<NllLossBackward>)\n",
      "tensor(0.6584, grad_fn=<NllLossBackward>)\n",
      "tensor(0.6584, grad_fn=<NllLossBackward>)\n",
      "tensor(0.6584, grad_fn=<NllLossBackward>)\n",
      "tensor(0.6584, grad_fn=<NllLossBackward>)\n",
      "tensor(0.6584, grad_fn=<NllLossBackward>)\n",
      "tensor(0.6584, grad_fn=<NllLossBackward>)\n",
      "tensor(0.6584, grad_fn=<NllLossBackward>)\n",
      "tensor(0.6584, grad_fn=<NllLossBackward>)\n",
      "tensor(0.6584, grad_fn=<NllLossBackward>)\n",
      "tensor(0.6584, grad_fn=<NllLossBackward>)\n",
      "tensor(0.6584, grad_fn=<NllLossBackward>)\n",
      "tensor(0.6584, grad_fn=<NllLossBackward>)\n",
      "tensor(0.6584, grad_fn=<NllLossBackward>)\n",
      "tensor(0.6584, grad_fn=<NllLossBackward>)\n",
      "tensor(0.6584, grad_fn=<NllLossBackward>)\n",
      "tensor(0.6584, grad_fn=<NllLossBackward>)\n",
      "tensor(0.6584, grad_fn=<NllLossBackward>)\n",
      "tensor(0.6584, grad_fn=<NllLossBackward>)\n",
      "tensor(0.6584, grad_fn=<NllLossBackward>)\n",
      "tensor(0.6584, grad_fn=<NllLossBackward>)\n",
      "tensor(0.6584, grad_fn=<NllLossBackward>)\n",
      "tensor(0.6584, grad_fn=<NllLossBackward>)\n",
      "tensor(0.6584, grad_fn=<NllLossBackward>)\n",
      "tensor(0.6584, grad_fn=<NllLossBackward>)\n",
      "tensor(0.6584, grad_fn=<NllLossBackward>)\n",
      "tensor(0.6584, grad_fn=<NllLossBackward>)\n",
      "tensor(0.6584, grad_fn=<NllLossBackward>)\n",
      "tensor(0.6584, grad_fn=<NllLossBackward>)\n",
      "tensor(0.6584, grad_fn=<NllLossBackward>)\n",
      "tensor(0.6584, grad_fn=<NllLossBackward>)\n",
      "tensor(0.6584, grad_fn=<NllLossBackward>)\n",
      "tensor(0.6584, grad_fn=<NllLossBackward>)\n",
      "tensor(0.6584, grad_fn=<NllLossBackward>)\n",
      "tensor(0.6584, grad_fn=<NllLossBackward>)\n",
      "tensor(0.6584, grad_fn=<NllLossBackward>)\n",
      "tensor(0.6584, grad_fn=<NllLossBackward>)\n",
      "tensor(0.6584, grad_fn=<NllLossBackward>)\n",
      "tensor(0.6584, grad_fn=<NllLossBackward>)\n",
      "tensor(0.6584, grad_fn=<NllLossBackward>)\n",
      "tensor(0.6584, grad_fn=<NllLossBackward>)\n",
      "tensor(0.6584, grad_fn=<NllLossBackward>)\n",
      "tensor(0.6584, grad_fn=<NllLossBackward>)\n",
      "tensor(0.6584, grad_fn=<NllLossBackward>)\n",
      "tensor(0.6584, grad_fn=<NllLossBackward>)\n",
      "tensor(0.6584, grad_fn=<NllLossBackward>)\n",
      "tensor(0.6584, grad_fn=<NllLossBackward>)\n",
      "tensor(0.6584, grad_fn=<NllLossBackward>)\n",
      "tensor(0.6584, grad_fn=<NllLossBackward>)\n",
      "tensor(0.6584, grad_fn=<NllLossBackward>)\n",
      "tensor(0.6584, grad_fn=<NllLossBackward>)\n"
     ]
    }
   ],
   "source": [
    "import torch.optim as optim\n",
    "\n",
    "opt = optim.Adam(net.parameters(), lr=0.001)\n",
    "\n",
    "\n",
    "net = Net()\n",
    "EPOCHS = 100\n",
    "\n",
    "losses = []\n",
    "\n",
    "for epoch in range(EPOCHS):\n",
    "    for data in train:\n",
    "        X, y = data\n",
    "        net.zero_grad()\n",
    "        output = net(X.view(-1, 100))\n",
    "        loss = F.nll_loss(output, torch.tensor(y))\n",
    "        loss.backward()\n",
    "        opt.step()\n",
    "    print(loss)\n",
    "    losses.append(loss)"
   ]
  },
  {
   "cell_type": "code",
   "execution_count": 121,
   "metadata": {},
   "outputs": [
    {
     "ename": "NameError",
     "evalue": "name 'testset' is not defined",
     "output_type": "error",
     "traceback": [
      "\u001b[0;31m---------------------------------------------------------------------------\u001b[0m",
      "\u001b[0;31mNameError\u001b[0m                                 Traceback (most recent call last)",
      "\u001b[0;32m<ipython-input-121-4928ae610d96>\u001b[0m in \u001b[0;36m<module>\u001b[0;34m\u001b[0m\n\u001b[1;32m      3\u001b[0m \u001b[0;34m\u001b[0m\u001b[0m\n\u001b[1;32m      4\u001b[0m \u001b[0;32mwith\u001b[0m \u001b[0mtorch\u001b[0m\u001b[0;34m.\u001b[0m\u001b[0mno_grad\u001b[0m\u001b[0;34m(\u001b[0m\u001b[0;34m)\u001b[0m\u001b[0;34m:\u001b[0m\u001b[0;34m\u001b[0m\u001b[0;34m\u001b[0m\u001b[0m\n\u001b[0;32m----> 5\u001b[0;31m     \u001b[0;32mfor\u001b[0m \u001b[0mdata\u001b[0m \u001b[0;32min\u001b[0m \u001b[0mtestset\u001b[0m\u001b[0;34m:\u001b[0m\u001b[0;34m\u001b[0m\u001b[0;34m\u001b[0m\u001b[0m\n\u001b[0m\u001b[1;32m      6\u001b[0m         \u001b[0mX\u001b[0m\u001b[0;34m,\u001b[0m \u001b[0my\u001b[0m \u001b[0;34m=\u001b[0m \u001b[0mdata\u001b[0m\u001b[0;34m\u001b[0m\u001b[0;34m\u001b[0m\u001b[0m\n\u001b[1;32m      7\u001b[0m         \u001b[0moutput\u001b[0m \u001b[0;34m=\u001b[0m \u001b[0mnet\u001b[0m\u001b[0;34m(\u001b[0m\u001b[0mX\u001b[0m\u001b[0;34m.\u001b[0m\u001b[0mview\u001b[0m\u001b[0;34m(\u001b[0m\u001b[0;34m-\u001b[0m\u001b[0;36m1\u001b[0m\u001b[0;34m,\u001b[0m \u001b[0;36m784\u001b[0m\u001b[0;34m)\u001b[0m\u001b[0;34m)\u001b[0m\u001b[0;34m\u001b[0m\u001b[0;34m\u001b[0m\u001b[0m\n",
      "\u001b[0;31mNameError\u001b[0m: name 'testset' is not defined"
     ]
    }
   ],
   "source": [
    "correct = 0\n",
    "total = 0\n",
    "\n",
    "with torch.no_grad():\n",
    "    for data in testset:\n",
    "        X, y = data\n",
    "        output = net(X.view(-1, 784))\n",
    "        for i, out in enumerate(output):\n",
    "            if torch.argmax(out) == np.argmax(y):\n",
    "                correct += 1\n",
    "            total += 1\n",
    "print('Accuracy: ', correct/total)\n",
    "print('Total: ', total)"
   ]
  },
  {
   "cell_type": "code",
   "execution_count": null,
   "metadata": {},
   "outputs": [],
   "source": []
  },
  {
   "cell_type": "code",
   "execution_count": null,
   "metadata": {},
   "outputs": [],
   "source": []
  },
  {
   "cell_type": "code",
   "execution_count": null,
   "metadata": {},
   "outputs": [],
   "source": []
  },
  {
   "cell_type": "code",
   "execution_count": null,
   "metadata": {},
   "outputs": [],
   "source": []
  },
  {
   "cell_type": "code",
   "execution_count": null,
   "metadata": {},
   "outputs": [],
   "source": []
  },
  {
   "cell_type": "code",
   "execution_count": null,
   "metadata": {},
   "outputs": [],
   "source": []
  },
  {
   "cell_type": "code",
   "execution_count": null,
   "metadata": {},
   "outputs": [],
   "source": []
  }
 ],
 "metadata": {
  "kernelspec": {
   "display_name": "Python 3",
   "language": "python",
   "name": "python3"
  },
  "language_info": {
   "codemirror_mode": {
    "name": "ipython",
    "version": 3
   },
   "file_extension": ".py",
   "mimetype": "text/x-python",
   "name": "python",
   "nbconvert_exporter": "python",
   "pygments_lexer": "ipython3",
   "version": "3.7.4"
  }
 },
 "nbformat": 4,
 "nbformat_minor": 2
}
