{
 "cells": [
  {
   "cell_type": "code",
   "execution_count": 1,
   "metadata": {},
   "outputs": [],
   "source": [
    "import pandas as pd\n",
    "import numpy as np\n",
    "\n",
    "# load data \n",
    "df = pd.read_excel('ST2187_coursework_dataset_2020-21.xlsx')"
   ]
  },
  {
   "cell_type": "code",
   "execution_count": 2,
   "metadata": {},
   "outputs": [
    {
     "data": {
      "text/html": [
       "<div>\n",
       "<style scoped>\n",
       "    .dataframe tbody tr th:only-of-type {\n",
       "        vertical-align: middle;\n",
       "    }\n",
       "\n",
       "    .dataframe tbody tr th {\n",
       "        vertical-align: top;\n",
       "    }\n",
       "\n",
       "    .dataframe thead th {\n",
       "        text-align: right;\n",
       "    }\n",
       "</style>\n",
       "<table border=\"1\" class=\"dataframe\">\n",
       "  <thead>\n",
       "    <tr style=\"text-align: right;\">\n",
       "      <th></th>\n",
       "      <th>Order Date</th>\n",
       "      <th>Ship Date</th>\n",
       "      <th>Ship Mode</th>\n",
       "      <th>Customer ID</th>\n",
       "      <th>Segment</th>\n",
       "      <th>City</th>\n",
       "      <th>Country</th>\n",
       "      <th>Market</th>\n",
       "      <th>Category</th>\n",
       "      <th>Sub-Category</th>\n",
       "      <th>Sales</th>\n",
       "      <th>Quantity</th>\n",
       "      <th>Discount</th>\n",
       "      <th>Profit</th>\n",
       "      <th>Shipping Cost</th>\n",
       "      <th>Order Priority</th>\n",
       "    </tr>\n",
       "  </thead>\n",
       "  <tbody>\n",
       "    <tr>\n",
       "      <th>0</th>\n",
       "      <td>2012-07-31</td>\n",
       "      <td>2012-07-31</td>\n",
       "      <td>Same Day</td>\n",
       "      <td>RH-19495</td>\n",
       "      <td>Consumer</td>\n",
       "      <td>New York City</td>\n",
       "      <td>United States</td>\n",
       "      <td>US</td>\n",
       "      <td>Technology</td>\n",
       "      <td>Accessories</td>\n",
       "      <td>2309.650</td>\n",
       "      <td>7</td>\n",
       "      <td>0.0</td>\n",
       "      <td>762.1845</td>\n",
       "      <td>933.57</td>\n",
       "      <td>Critical</td>\n",
       "    </tr>\n",
       "    <tr>\n",
       "      <th>1</th>\n",
       "      <td>2013-02-05</td>\n",
       "      <td>2013-02-07</td>\n",
       "      <td>Second Class</td>\n",
       "      <td>JR-16210</td>\n",
       "      <td>Corporate</td>\n",
       "      <td>Wollongong</td>\n",
       "      <td>Australia</td>\n",
       "      <td>APAC</td>\n",
       "      <td>Furniture</td>\n",
       "      <td>Chairs</td>\n",
       "      <td>3709.395</td>\n",
       "      <td>9</td>\n",
       "      <td>0.1</td>\n",
       "      <td>-288.7650</td>\n",
       "      <td>923.63</td>\n",
       "      <td>Critical</td>\n",
       "    </tr>\n",
       "    <tr>\n",
       "      <th>2</th>\n",
       "      <td>2013-10-17</td>\n",
       "      <td>2013-10-18</td>\n",
       "      <td>First Class</td>\n",
       "      <td>CR-12730</td>\n",
       "      <td>Consumer</td>\n",
       "      <td>Brisbane</td>\n",
       "      <td>Australia</td>\n",
       "      <td>APAC</td>\n",
       "      <td>Technology</td>\n",
       "      <td>Phones</td>\n",
       "      <td>5175.171</td>\n",
       "      <td>9</td>\n",
       "      <td>0.1</td>\n",
       "      <td>919.9710</td>\n",
       "      <td>915.49</td>\n",
       "      <td>Medium</td>\n",
       "    </tr>\n",
       "  </tbody>\n",
       "</table>\n",
       "</div>"
      ],
      "text/plain": [
       "  Order Date  Ship Date     Ship Mode Customer ID    Segment           City  \\\n",
       "0 2012-07-31 2012-07-31      Same Day    RH-19495   Consumer  New York City   \n",
       "1 2013-02-05 2013-02-07  Second Class    JR-16210  Corporate     Wollongong   \n",
       "2 2013-10-17 2013-10-18   First Class    CR-12730   Consumer       Brisbane   \n",
       "\n",
       "         Country Market    Category Sub-Category     Sales  Quantity  \\\n",
       "0  United States     US  Technology  Accessories  2309.650         7   \n",
       "1      Australia   APAC   Furniture       Chairs  3709.395         9   \n",
       "2      Australia   APAC  Technology       Phones  5175.171         9   \n",
       "\n",
       "   Discount    Profit  Shipping Cost Order Priority  \n",
       "0       0.0  762.1845         933.57       Critical  \n",
       "1       0.1 -288.7650         923.63       Critical  \n",
       "2       0.1  919.9710         915.49         Medium  "
      ]
     },
     "execution_count": 2,
     "metadata": {},
     "output_type": "execute_result"
    }
   ],
   "source": [
    "# delete unnecessary columns\n",
    "bad_columns = ['Row ID', 'Order ID', 'Customer Name', 'State',\n",
    "               'Postal Code', 'Region', 'Product ID', 'Product Name']\n",
    "\n",
    "df.drop(bad_columns, axis=1, inplace=True)\n",
    "df.head(3)"
   ]
  },
  {
   "cell_type": "code",
   "execution_count": 3,
   "metadata": {
    "scrolled": false
   },
   "outputs": [],
   "source": [
    "# plots\n",
    "import matplotlib.pyplot as plt\n",
    "import seaborn as sns\n",
    "\n",
    "plt.style.use('seaborn-white')\n",
    "plt.rc('font', size=9)\n",
    "plt.rc('figure', titlesize=18)\n",
    "plt.rc('axes', labelsize=14)\n",
    "plt.rc('axes', titlesize=16)\n",
    "\n",
    "\n",
    "def get_kv(c):\n",
    "    temp = df.groupby(c)[c].count()\n",
    "    k = list(temp.keys())\n",
    "    v = temp.values\n",
    "    return k, v\n",
    "\n",
    "\n",
    "fig, axs = plt.subplots(1, 3, figsize=(16, 4))\n",
    "\n",
    "k, v = get_kv('Ship Mode')\n",
    "axs[0].title.set_text('Ship Mode')\n",
    "axs[0].bar(k, v, color='orange')\n",
    "\n",
    "k, v = get_kv('Segment')\n",
    "axs[1].title.set_text('Segment')\n",
    "axs[1].bar(k, v, color='green');\n",
    "\n",
    "k, v = get_kv('Category')\n",
    "axs[2].title.set_text('Category')\n",
    "axs[2].bar(k, v, color='skyblue');"
   ]
  },
  {
   "cell_type": "markdown",
   "metadata": {},
   "source": [
    "### What does discount depend on ?"
   ]
  },
  {
   "cell_type": "code",
   "execution_count": 4,
   "metadata": {
    "scrolled": true
   },
   "outputs": [
    {
     "data": {
      "text/plain": [
       "Customer ID\n",
       "AA-10315               [0.2, 0.0, 0.15, 0.45, 0.1, 0.25, 0.4]\n",
       "AA-10375                  [0.0, 0.4, 0.7, 0.1, 0.6, 0.5, 0.2]\n",
       "AA-10480        [0.17, 0.0, 0.15, 0.2, 0.002, 0.1, 0.45, 0.4]\n",
       "AA-10645    [0.07, 0.15, 0.1, 0.0, 0.3, 0.17, 0.202, 0.2, ...\n",
       "AA-315                                             [0.0, 0.6]\n",
       "                                  ...                        \n",
       "YS-21880                       [0.2, 0.0, 0.5, 0.1, 0.4, 0.6]\n",
       "ZC-11910                                                [0.7]\n",
       "ZC-21910    [0.2, 0.0, 0.4, 0.1, 0.8, 0.27, 0.5, 0.3, 0.6,...\n",
       "ZD-11925                                      [0.0, 0.7, 0.6]\n",
       "ZD-21925    [0.002, 0.15, 0.5, 0.2, 0.0, 0.3, 0.35, 0.1, 0...\n",
       "Name: Discount, Length: 1590, dtype: object"
      ]
     },
     "execution_count": 4,
     "metadata": {},
     "output_type": "execute_result"
    }
   ],
   "source": [
    "df.groupby('Customer ID')['Discount'].unique()"
   ]
  },
  {
   "cell_type": "markdown",
   "metadata": {},
   "source": [
    "**Discount does not depend on Customer**"
   ]
  },
  {
   "cell_type": "code",
   "execution_count": 5,
   "metadata": {
    "scrolled": true
   },
   "outputs": [
    {
     "data": {
      "image/png": "[encoded data removed]",
      "text/plain": [
       "<Figure size 432x288 with 1 Axes>"
      ]
     },
     "metadata": {
      "needs_background": "light"
     },
     "output_type": "display_data"
    }
   ],
   "source": [
    "# customer_id vs discount\n",
    "\n",
    "\"\"\"\n",
    "    Let's find the mean frequency of \n",
    "    clients' orders for each discount rate\n",
    "\"\"\"\n",
    "\n",
    "n_customers = df['Customer ID'].nunique()\n",
    "n_discount = df['Discount'].nunique()\n",
    "\n",
    "temp = np.unique(df['Customer ID'], return_counts=True)\n",
    "customer_freq = dict(zip(temp[0], temp[1]))\n",
    " \n",
    "temp = np.unique(df['Discount'], return_counts=True)\n",
    "disc_freq = dict(zip(temp[0], temp[1]))\n",
    "\n",
    "disc_count = dict(zip(temp[0], np.zeros(n_discount)))\n",
    "\n",
    "for i in range(len(df)):\n",
    "    c = df.iloc[i, 3]\n",
    "    d = df.iloc[i, 12]\n",
    "    \n",
    "    disc_count[d] += customer_freq[c]\n",
    "\n",
    "counts = np.array(list(disc_count.values()), dtype=int)\n",
    "freq = np.array(list(disc_freq.values()), dtype=int)\n",
    "\n",
    "mean_freq = counts / freq\n",
    "\n",
    "plt.scatter(list(disc_count.keys()), mean_freq)\n",
    "plt.xlabel('Discount')\n",
    "plt.ylabel('Mean Customer Frequency');"
   ]
  },
  {
   "cell_type": "markdown",
   "metadata": {},
   "source": [
    "**There is no correlation between the Mean Customer Frequency and Discount**"
   ]
  },
  {
   "cell_type": "code",
   "execution_count": 6,
   "metadata": {},
   "outputs": [
    {
     "data": {
      "text/html": [
       "<div>\n",
       "<style scoped>\n",
       "    .dataframe tbody tr th:only-of-type {\n",
       "        vertical-align: middle;\n",
       "    }\n",
       "\n",
       "    .dataframe tbody tr th {\n",
       "        vertical-align: top;\n",
       "    }\n",
       "\n",
       "    .dataframe thead th {\n",
       "        text-align: right;\n",
       "    }\n",
       "</style>\n",
       "<table border=\"1\" class=\"dataframe\">\n",
       "  <thead>\n",
       "    <tr style=\"text-align: right;\">\n",
       "      <th></th>\n",
       "      <th>Order Date</th>\n",
       "      <th>Ship Date</th>\n",
       "      <th>Ship Mode</th>\n",
       "      <th>Customer ID</th>\n",
       "      <th>Segment</th>\n",
       "      <th>City</th>\n",
       "      <th>Country</th>\n",
       "      <th>Market</th>\n",
       "      <th>Category</th>\n",
       "      <th>Sub-Category</th>\n",
       "      <th>Sales</th>\n",
       "      <th>Quantity</th>\n",
       "      <th>Discount</th>\n",
       "      <th>Profit</th>\n",
       "      <th>Shipping Cost</th>\n",
       "      <th>Order Priority</th>\n",
       "    </tr>\n",
       "  </thead>\n",
       "  <tbody>\n",
       "    <tr>\n",
       "      <th>0</th>\n",
       "      <td>2012-07-31</td>\n",
       "      <td>2012-07-31</td>\n",
       "      <td>Same Day</td>\n",
       "      <td>RH-19495</td>\n",
       "      <td>Consumer</td>\n",
       "      <td>New York City</td>\n",
       "      <td>United States</td>\n",
       "      <td>US</td>\n",
       "      <td>Technology</td>\n",
       "      <td>Accessories</td>\n",
       "      <td>2309.650</td>\n",
       "      <td>7</td>\n",
       "      <td>0.0</td>\n",
       "      <td>762.1845</td>\n",
       "      <td>933.57</td>\n",
       "      <td>Critical</td>\n",
       "    </tr>\n",
       "    <tr>\n",
       "      <th>1</th>\n",
       "      <td>2013-02-05</td>\n",
       "      <td>2013-02-07</td>\n",
       "      <td>Second Class</td>\n",
       "      <td>JR-16210</td>\n",
       "      <td>Corporate</td>\n",
       "      <td>Wollongong</td>\n",
       "      <td>Australia</td>\n",
       "      <td>APAC</td>\n",
       "      <td>Furniture</td>\n",
       "      <td>Chairs</td>\n",
       "      <td>3709.395</td>\n",
       "      <td>9</td>\n",
       "      <td>0.1</td>\n",
       "      <td>-288.7650</td>\n",
       "      <td>923.63</td>\n",
       "      <td>Critical</td>\n",
       "    </tr>\n",
       "    <tr>\n",
       "      <th>2</th>\n",
       "      <td>2013-10-17</td>\n",
       "      <td>2013-10-18</td>\n",
       "      <td>First Class</td>\n",
       "      <td>CR-12730</td>\n",
       "      <td>Consumer</td>\n",
       "      <td>Brisbane</td>\n",
       "      <td>Australia</td>\n",
       "      <td>APAC</td>\n",
       "      <td>Technology</td>\n",
       "      <td>Phones</td>\n",
       "      <td>5175.171</td>\n",
       "      <td>9</td>\n",
       "      <td>0.1</td>\n",
       "      <td>919.9710</td>\n",
       "      <td>915.49</td>\n",
       "      <td>Medium</td>\n",
       "    </tr>\n",
       "  </tbody>\n",
       "</table>\n",
       "</div>"
      ],
      "text/plain": [
       "  Order Date  Ship Date     Ship Mode Customer ID    Segment           City  \\\n",
       "0 2012-07-31 2012-07-31      Same Day    RH-19495   Consumer  New York City   \n",
       "1 2013-02-05 2013-02-07  Second Class    JR-16210  Corporate     Wollongong   \n",
       "2 2013-10-17 2013-10-18   First Class    CR-12730   Consumer       Brisbane   \n",
       "\n",
       "         Country Market    Category Sub-Category     Sales  Quantity  \\\n",
       "0  United States     US  Technology  Accessories  2309.650         7   \n",
       "1      Australia   APAC   Furniture       Chairs  3709.395         9   \n",
       "2      Australia   APAC  Technology       Phones  5175.171         9   \n",
       "\n",
       "   Discount    Profit  Shipping Cost Order Priority  \n",
       "0       0.0  762.1845         933.57       Critical  \n",
       "1       0.1 -288.7650         923.63       Critical  \n",
       "2       0.1  919.9710         915.49         Medium  "
      ]
     },
     "execution_count": 6,
     "metadata": {},
     "output_type": "execute_result"
    }
   ],
   "source": [
    "df.head(3)"
   ]
  },
  {
   "cell_type": "code",
   "execution_count": 7,
   "metadata": {},
   "outputs": [
    {
     "data": {
      "image/png": "[encoded data removed]",
      "text/plain": [
       "<Figure size 1152x504 with 6 Axes>"
      ]
     },
     "metadata": {
      "needs_background": "light"
     },
     "output_type": "display_data"
    }
   ],
   "source": [
    "fig, axs = plt.subplots(2, 3, figsize=(16, 7))\n",
    "\n",
    "df.groupby('Ship Mode')['Discount'].mean().plot.bar(ax=axs[0, 0], ylabel='Mean Discount', rot=0);\n",
    "df.groupby('Segment')['Discount'].mean().plot.bar(ax=axs[0, 1], rot=0);\n",
    "df.groupby('Market')['Discount'].mean().plot.bar(ax=axs[0, 2], rot=0, color='red');\n",
    "df.groupby('Category')['Discount'].mean().plot.bar(ax=axs[1, 0], ylabel='Mean Discount', rot=0);\n",
    "df.groupby('Sub-Category')['Discount'].mean().plot.bar(ax=axs[1, 1], rot=90, color='red');\n",
    "df.groupby('Order Priority')['Discount'].mean().plot.bar(ax=axs[1, 2], rot=0);"
   ]
  },
  {
   "cell_type": "code",
   "execution_count": 8,
   "metadata": {},
   "outputs": [
    {
     "data": {
      "image/png": "[encoded data removed]",
      "text/plain": [
       "<Figure size 1440x360 with 3 Axes>"
      ]
     },
     "metadata": {
      "needs_background": "light"
     },
     "output_type": "display_data"
    }
   ],
   "source": [
    "# Sales ABC\n",
    "def ABCD(p):\n",
    "    if p < 50:\n",
    "        return 'A'\n",
    "    elif p < 80:\n",
    "        return 'B'\n",
    "    elif p < 95:\n",
    "        return 'C'\n",
    "    return 'D'\n",
    "\n",
    "\n",
    "def ABCD_analysis(data_frame, col):\n",
    "    df = data_frame.copy()\n",
    "    \n",
    "    total_sum = df[col].sum()\n",
    "    df['share'] = 100 * df[col] / total_sum\n",
    "    df = df.sort_values('share', ascending=False)\n",
    "    df['cumsum'] = df['share'].cumsum()\n",
    "    data_frame[f'{col}_ABCD'] = df['cumsum'].apply(ABCD)\n",
    "    \n",
    "    \n",
    "\n",
    "ABCD_analysis(df, 'Sales')\n",
    "ABCD_analysis(df, 'Profit')\n",
    "\n",
    "\n",
    "fig, axs = plt.subplots(1, 3, figsize=(20, 5))\n",
    "\n",
    "df.groupby('Sales_ABCD')['Discount'].mean().plot.bar(ax=axs[0], ylabel='Mean Discount', rot=0, color='red');\n",
    "df.groupby('Profit_ABCD')['Discount'].mean().plot.bar(ax=axs[1], rot=0, color='red');\n",
    "df.groupby('Profit_ABCD')['Sales'].sum().plot.bar(ax=axs[2],  ylabel='Sales', rot=0, color='red');"
   ]
  },
  {
   "cell_type": "code",
   "execution_count": 9,
   "metadata": {},
   "outputs": [
    {
     "data": {
      "text/html": [
       "<style  type=\"text/css\" >\n",
       "#T_046af_row0_col0,#T_046af_row1_col1,#T_046af_row2_col2,#T_046af_row3_col3,#T_046af_row4_col4{\n",
       "            background-color:  #b40426;\n",
       "            color:  #f1f1f1;\n",
       "        }#T_046af_row0_col1,#T_046af_row1_col4{\n",
       "            background-color:  #a7c5fe;\n",
       "            color:  #000000;\n",
       "        }#T_046af_row0_col2{\n",
       "            background-color:  #7295f4;\n",
       "            color:  #000000;\n",
       "        }#T_046af_row0_col3{\n",
       "            background-color:  #f2c9b4;\n",
       "            color:  #000000;\n",
       "        }#T_046af_row0_col4{\n",
       "            background-color:  #f08b6e;\n",
       "            color:  #000000;\n",
       "        }#T_046af_row1_col0{\n",
       "            background-color:  #b6cefa;\n",
       "            color:  #000000;\n",
       "        }#T_046af_row1_col2{\n",
       "            background-color:  #84a7fc;\n",
       "            color:  #000000;\n",
       "        }#T_046af_row1_col3{\n",
       "            background-color:  #a5c3fe;\n",
       "            color:  #000000;\n",
       "        }#T_046af_row2_col0,#T_046af_row2_col1,#T_046af_row2_col3,#T_046af_row2_col4,#T_046af_row3_col2{\n",
       "            background-color:  #3b4cc0;\n",
       "            color:  #f1f1f1;\n",
       "        }#T_046af_row3_col0{\n",
       "            background-color:  #e3d9d3;\n",
       "            color:  #000000;\n",
       "        }#T_046af_row3_col1{\n",
       "            background-color:  #6180e9;\n",
       "            color:  #000000;\n",
       "        }#T_046af_row3_col4{\n",
       "            background-color:  #c0d4f5;\n",
       "            color:  #000000;\n",
       "        }#T_046af_row4_col0{\n",
       "            background-color:  #f08a6c;\n",
       "            color:  #000000;\n",
       "        }#T_046af_row4_col1{\n",
       "            background-color:  #9abbff;\n",
       "            color:  #000000;\n",
       "        }#T_046af_row4_col2{\n",
       "            background-color:  #7597f6;\n",
       "            color:  #000000;\n",
       "        }#T_046af_row4_col3{\n",
       "            background-color:  #dfdbd9;\n",
       "            color:  #000000;\n",
       "        }</style><table id=\"T_046af_\" ><thead>    <tr>        <th class=\"blank level0\" ></th>        <th class=\"col_heading level0 col0\" >Sales</th>        <th class=\"col_heading level0 col1\" >Quantity</th>        <th class=\"col_heading level0 col2\" >Discount</th>        <th class=\"col_heading level0 col3\" >Profit</th>        <th class=\"col_heading level0 col4\" >Shipping Cost</th>    </tr></thead><tbody>\n",
       "                <tr>\n",
       "                        <th id=\"T_046af_level0_row0\" class=\"row_heading level0 row0\" >Sales</th>\n",
       "                        <td id=\"T_046af_row0_col0\" class=\"data row0 col0\" >1.0</td>\n",
       "                        <td id=\"T_046af_row0_col1\" class=\"data row0 col1\" >0.3</td>\n",
       "                        <td id=\"T_046af_row0_col2\" class=\"data row0 col2\" >-0.1</td>\n",
       "                        <td id=\"T_046af_row0_col3\" class=\"data row0 col3\" >0.5</td>\n",
       "                        <td id=\"T_046af_row0_col4\" class=\"data row0 col4\" >0.8</td>\n",
       "            </tr>\n",
       "            <tr>\n",
       "                        <th id=\"T_046af_level0_row1\" class=\"row_heading level0 row1\" >Quantity</th>\n",
       "                        <td id=\"T_046af_row1_col0\" class=\"data row1 col0\" >0.3</td>\n",
       "                        <td id=\"T_046af_row1_col1\" class=\"data row1 col1\" >1.0</td>\n",
       "                        <td id=\"T_046af_row1_col2\" class=\"data row1 col2\" >-0.0</td>\n",
       "                        <td id=\"T_046af_row1_col3\" class=\"data row1 col3\" >0.1</td>\n",
       "                        <td id=\"T_046af_row1_col4\" class=\"data row1 col4\" >0.3</td>\n",
       "            </tr>\n",
       "            <tr>\n",
       "                        <th id=\"T_046af_level0_row2\" class=\"row_heading level0 row2\" >Discount</th>\n",
       "                        <td id=\"T_046af_row2_col0\" class=\"data row2 col0\" >-0.1</td>\n",
       "                        <td id=\"T_046af_row2_col1\" class=\"data row2 col1\" >-0.0</td>\n",
       "                        <td id=\"T_046af_row2_col2\" class=\"data row2 col2\" >1.0</td>\n",
       "                        <td id=\"T_046af_row2_col3\" class=\"data row2 col3\" >-0.3</td>\n",
       "                        <td id=\"T_046af_row2_col4\" class=\"data row2 col4\" >-0.1</td>\n",
       "            </tr>\n",
       "            <tr>\n",
       "                        <th id=\"T_046af_level0_row3\" class=\"row_heading level0 row3\" >Profit</th>\n",
       "                        <td id=\"T_046af_row3_col0\" class=\"data row3 col0\" >0.5</td>\n",
       "                        <td id=\"T_046af_row3_col1\" class=\"data row3 col1\" >0.1</td>\n",
       "                        <td id=\"T_046af_row3_col2\" class=\"data row3 col2\" >-0.3</td>\n",
       "                        <td id=\"T_046af_row3_col3\" class=\"data row3 col3\" >1.0</td>\n",
       "                        <td id=\"T_046af_row3_col4\" class=\"data row3 col4\" >0.4</td>\n",
       "            </tr>\n",
       "            <tr>\n",
       "                        <th id=\"T_046af_level0_row4\" class=\"row_heading level0 row4\" >Shipping Cost</th>\n",
       "                        <td id=\"T_046af_row4_col0\" class=\"data row4 col0\" >0.8</td>\n",
       "                        <td id=\"T_046af_row4_col1\" class=\"data row4 col1\" >0.3</td>\n",
       "                        <td id=\"T_046af_row4_col2\" class=\"data row4 col2\" >-0.1</td>\n",
       "                        <td id=\"T_046af_row4_col3\" class=\"data row4 col3\" >0.4</td>\n",
       "                        <td id=\"T_046af_row4_col4\" class=\"data row4 col4\" >1.0</td>\n",
       "            </tr>\n",
       "    </tbody></table>"
      ],
      "text/plain": [
       "<pandas.io.formats.style.Styler at 0x7ffe59698250>"
      ]
     },
     "execution_count": 9,
     "metadata": {},
     "output_type": "execute_result"
    }
   ],
   "source": [
    "df.corr().style.background_gradient(cmap='coolwarm').format('{0:,.1f}')"
   ]
  },
  {
   "cell_type": "markdown",
   "metadata": {},
   "source": [
    "1. Sales vs Shipping Cost"
   ]
  },
  {
   "cell_type": "code",
   "execution_count": 10,
   "metadata": {},
   "outputs": [
    {
     "data": {
      "text/plain": [
       "array([2309.65 , 3709.395, 5175.171, ...,   22.92 ,   13.44 ,   61.38 ])"
      ]
     },
     "execution_count": 10,
     "metadata": {},
     "output_type": "execute_result"
    },
    {
     "data": {
      "image/png": "[encoded data removed]",
      "text/plain": [
       "<Figure size 432x288 with 1 Axes>"
      ]
     },
     "metadata": {
      "needs_background": "light"
     },
     "output_type": "display_data"
    }
   ],
   "source": [
    "plt.scatter(df['Sales'], df['Shipping Cost'])\n",
    "\n",
    "from sklearn.linear_model import LinearRegression\n",
    "\n",
    "x = df['Sales'].values\n",
    "y = df['Shipping Cost'].values\n",
    "\n",
    "# lr = LinearRegression()\n",
    "# model = lr.fit(x, y)\n",
    "x"
   ]
  },
  {
   "cell_type": "code",
   "execution_count": 11,
   "metadata": {},
   "outputs": [
    {
     "data": {
      "text/html": [
       "<div>\n",
       "<style scoped>\n",
       "    .dataframe tbody tr th:only-of-type {\n",
       "        vertical-align: middle;\n",
       "    }\n",
       "\n",
       "    .dataframe tbody tr th {\n",
       "        vertical-align: top;\n",
       "    }\n",
       "\n",
       "    .dataframe thead th {\n",
       "        text-align: right;\n",
       "    }\n",
       "</style>\n",
       "<table border=\"1\" class=\"dataframe\">\n",
       "  <thead>\n",
       "    <tr style=\"text-align: right;\">\n",
       "      <th></th>\n",
       "      <th>Order Date</th>\n",
       "      <th>Ship Date</th>\n",
       "      <th>Ship Mode</th>\n",
       "      <th>Customer ID</th>\n",
       "      <th>Segment</th>\n",
       "      <th>City</th>\n",
       "      <th>Country</th>\n",
       "      <th>Market</th>\n",
       "      <th>Category</th>\n",
       "      <th>Sub-Category</th>\n",
       "      <th>Sales</th>\n",
       "      <th>Quantity</th>\n",
       "      <th>Discount</th>\n",
       "      <th>Profit</th>\n",
       "      <th>Shipping Cost</th>\n",
       "      <th>Order Priority</th>\n",
       "      <th>Sales_ABCD</th>\n",
       "      <th>Profit_ABCD</th>\n",
       "    </tr>\n",
       "  </thead>\n",
       "  <tbody>\n",
       "    <tr>\n",
       "      <th>0</th>\n",
       "      <td>2012-07-31</td>\n",
       "      <td>2012-07-31</td>\n",
       "      <td>Same Day</td>\n",
       "      <td>RH-19495</td>\n",
       "      <td>Consumer</td>\n",
       "      <td>New York City</td>\n",
       "      <td>United States</td>\n",
       "      <td>US</td>\n",
       "      <td>Technology</td>\n",
       "      <td>Accessories</td>\n",
       "      <td>2309.650</td>\n",
       "      <td>7</td>\n",
       "      <td>0.0</td>\n",
       "      <td>762.1845</td>\n",
       "      <td>933.57</td>\n",
       "      <td>Critical</td>\n",
       "      <td>A</td>\n",
       "      <td>A</td>\n",
       "    </tr>\n",
       "    <tr>\n",
       "      <th>1</th>\n",
       "      <td>2013-02-05</td>\n",
       "      <td>2013-02-07</td>\n",
       "      <td>Second Class</td>\n",
       "      <td>JR-16210</td>\n",
       "      <td>Corporate</td>\n",
       "      <td>Wollongong</td>\n",
       "      <td>Australia</td>\n",
       "      <td>APAC</td>\n",
       "      <td>Furniture</td>\n",
       "      <td>Chairs</td>\n",
       "      <td>3709.395</td>\n",
       "      <td>9</td>\n",
       "      <td>0.1</td>\n",
       "      <td>-288.7650</td>\n",
       "      <td>923.63</td>\n",
       "      <td>Critical</td>\n",
       "      <td>A</td>\n",
       "      <td>D</td>\n",
       "    </tr>\n",
       "    <tr>\n",
       "      <th>2</th>\n",
       "      <td>2013-10-17</td>\n",
       "      <td>2013-10-18</td>\n",
       "      <td>First Class</td>\n",
       "      <td>CR-12730</td>\n",
       "      <td>Consumer</td>\n",
       "      <td>Brisbane</td>\n",
       "      <td>Australia</td>\n",
       "      <td>APAC</td>\n",
       "      <td>Technology</td>\n",
       "      <td>Phones</td>\n",
       "      <td>5175.171</td>\n",
       "      <td>9</td>\n",
       "      <td>0.1</td>\n",
       "      <td>919.9710</td>\n",
       "      <td>915.49</td>\n",
       "      <td>Medium</td>\n",
       "      <td>A</td>\n",
       "      <td>A</td>\n",
       "    </tr>\n",
       "  </tbody>\n",
       "</table>\n",
       "</div>"
      ],
      "text/plain": [
       "  Order Date  Ship Date     Ship Mode Customer ID    Segment           City  \\\n",
       "0 2012-07-31 2012-07-31      Same Day    RH-19495   Consumer  New York City   \n",
       "1 2013-02-05 2013-02-07  Second Class    JR-16210  Corporate     Wollongong   \n",
       "2 2013-10-17 2013-10-18   First Class    CR-12730   Consumer       Brisbane   \n",
       "\n",
       "         Country Market    Category Sub-Category     Sales  Quantity  \\\n",
       "0  United States     US  Technology  Accessories  2309.650         7   \n",
       "1      Australia   APAC   Furniture       Chairs  3709.395         9   \n",
       "2      Australia   APAC  Technology       Phones  5175.171         9   \n",
       "\n",
       "   Discount    Profit  Shipping Cost Order Priority Sales_ABCD Profit_ABCD  \n",
       "0       0.0  762.1845         933.57       Critical          A           A  \n",
       "1       0.1 -288.7650         923.63       Critical          A           D  \n",
       "2       0.1  919.9710         915.49         Medium          A           A  "
      ]
     },
     "execution_count": 11,
     "metadata": {},
     "output_type": "execute_result"
    }
   ],
   "source": [
    "df.head(3)"
   ]
  },
  {
   "cell_type": "markdown",
   "metadata": {},
   "source": [
    "## 1. В итоге,\n",
    "\n",
    "1. Больше всего продаж приносят товары из категории Profit D. \n",
    "2. Больше всего скилки на товары из категории Profit D.\n",
    "3. Больше всего скидки на Sub-Category Tables.\n",
    "4. Больше всего скидки в Market EMEA\n",
    "5. Shipping Cost и Sales зависимы \n",
    "\n",
    "Можно сделать вывод, что 1 следуют из 2.\n",
    "\n",
    "## 2. To Do:\n",
    "\n",
    "1. Разделить profit на <0,  >0 и посмотреть как скидка зависит от этого\n",
    "2. Как Shipping Cost соотноситься с City / Profit_ABCD / Discount\n",
    "    Для этого сделать Shipping Cost ABCD\n",
    "    \n",
    "3. Shipping Cost и Sales зависимы. Как ? \n",
    "4. Проанализировать почему Profit < 0\n",
    "5. Как это соотносится с локацией (Market, Country, City) / Shipping Cost / Discount (см 1.1)\n",
    "6. Посмотреть корреляцию Profit\n",
    "\n",
    "### Тема = Идея как увеличить профит ? "
   ]
  },
  {
   "cell_type": "markdown",
   "metadata": {},
   "source": [
    "## 2.1 \n",
    "### Разделить profit на <0,  >0 и посмотреть как скидка зависит от этого"
   ]
  },
  {
   "cell_type": "code",
   "execution_count": 12,
   "metadata": {},
   "outputs": [
    {
     "data": {
      "text/html": [
       "<div>\n",
       "<style scoped>\n",
       "    .dataframe tbody tr th:only-of-type {\n",
       "        vertical-align: middle;\n",
       "    }\n",
       "\n",
       "    .dataframe tbody tr th {\n",
       "        vertical-align: top;\n",
       "    }\n",
       "\n",
       "    .dataframe thead th {\n",
       "        text-align: right;\n",
       "    }\n",
       "</style>\n",
       "<table border=\"1\" class=\"dataframe\">\n",
       "  <thead>\n",
       "    <tr style=\"text-align: right;\">\n",
       "      <th></th>\n",
       "      <th>Order Date</th>\n",
       "      <th>Ship Date</th>\n",
       "      <th>Ship Mode</th>\n",
       "      <th>Customer ID</th>\n",
       "      <th>Segment</th>\n",
       "      <th>City</th>\n",
       "      <th>Country</th>\n",
       "      <th>Market</th>\n",
       "      <th>Category</th>\n",
       "      <th>Sub-Category</th>\n",
       "      <th>Sales</th>\n",
       "      <th>Quantity</th>\n",
       "      <th>Discount</th>\n",
       "      <th>Profit</th>\n",
       "      <th>Shipping Cost</th>\n",
       "      <th>Order Priority</th>\n",
       "      <th>Sales_ABCD</th>\n",
       "      <th>Profit_ABCD</th>\n",
       "      <th>isProfitPos</th>\n",
       "    </tr>\n",
       "  </thead>\n",
       "  <tbody>\n",
       "    <tr>\n",
       "      <th>0</th>\n",
       "      <td>2012-07-31</td>\n",
       "      <td>2012-07-31</td>\n",
       "      <td>Same Day</td>\n",
       "      <td>RH-19495</td>\n",
       "      <td>Consumer</td>\n",
       "      <td>New York City</td>\n",
       "      <td>United States</td>\n",
       "      <td>US</td>\n",
       "      <td>Technology</td>\n",
       "      <td>Accessories</td>\n",
       "      <td>2309.650</td>\n",
       "      <td>7</td>\n",
       "      <td>0.0</td>\n",
       "      <td>762.1845</td>\n",
       "      <td>933.57</td>\n",
       "      <td>Critical</td>\n",
       "      <td>A</td>\n",
       "      <td>A</td>\n",
       "      <td>1</td>\n",
       "    </tr>\n",
       "    <tr>\n",
       "      <th>1</th>\n",
       "      <td>2013-02-05</td>\n",
       "      <td>2013-02-07</td>\n",
       "      <td>Second Class</td>\n",
       "      <td>JR-16210</td>\n",
       "      <td>Corporate</td>\n",
       "      <td>Wollongong</td>\n",
       "      <td>Australia</td>\n",
       "      <td>APAC</td>\n",
       "      <td>Furniture</td>\n",
       "      <td>Chairs</td>\n",
       "      <td>3709.395</td>\n",
       "      <td>9</td>\n",
       "      <td>0.1</td>\n",
       "      <td>-288.7650</td>\n",
       "      <td>923.63</td>\n",
       "      <td>Critical</td>\n",
       "      <td>A</td>\n",
       "      <td>D</td>\n",
       "      <td>0</td>\n",
       "    </tr>\n",
       "    <tr>\n",
       "      <th>2</th>\n",
       "      <td>2013-10-17</td>\n",
       "      <td>2013-10-18</td>\n",
       "      <td>First Class</td>\n",
       "      <td>CR-12730</td>\n",
       "      <td>Consumer</td>\n",
       "      <td>Brisbane</td>\n",
       "      <td>Australia</td>\n",
       "      <td>APAC</td>\n",
       "      <td>Technology</td>\n",
       "      <td>Phones</td>\n",
       "      <td>5175.171</td>\n",
       "      <td>9</td>\n",
       "      <td>0.1</td>\n",
       "      <td>919.9710</td>\n",
       "      <td>915.49</td>\n",
       "      <td>Medium</td>\n",
       "      <td>A</td>\n",
       "      <td>A</td>\n",
       "      <td>1</td>\n",
       "    </tr>\n",
       "    <tr>\n",
       "      <th>3</th>\n",
       "      <td>2013-01-28</td>\n",
       "      <td>2013-01-30</td>\n",
       "      <td>First Class</td>\n",
       "      <td>KM-16375</td>\n",
       "      <td>Home Office</td>\n",
       "      <td>Berlin</td>\n",
       "      <td>Germany</td>\n",
       "      <td>EU</td>\n",
       "      <td>Technology</td>\n",
       "      <td>Phones</td>\n",
       "      <td>2892.510</td>\n",
       "      <td>5</td>\n",
       "      <td>0.1</td>\n",
       "      <td>-96.5400</td>\n",
       "      <td>910.16</td>\n",
       "      <td>Medium</td>\n",
       "      <td>A</td>\n",
       "      <td>D</td>\n",
       "      <td>0</td>\n",
       "    </tr>\n",
       "    <tr>\n",
       "      <th>4</th>\n",
       "      <td>2013-11-05</td>\n",
       "      <td>2013-11-06</td>\n",
       "      <td>Same Day</td>\n",
       "      <td>RH-9495</td>\n",
       "      <td>Consumer</td>\n",
       "      <td>Dakar</td>\n",
       "      <td>Senegal</td>\n",
       "      <td>Africa</td>\n",
       "      <td>Technology</td>\n",
       "      <td>Copiers</td>\n",
       "      <td>2832.960</td>\n",
       "      <td>8</td>\n",
       "      <td>0.0</td>\n",
       "      <td>311.5200</td>\n",
       "      <td>903.04</td>\n",
       "      <td>Critical</td>\n",
       "      <td>A</td>\n",
       "      <td>B</td>\n",
       "      <td>1</td>\n",
       "    </tr>\n",
       "  </tbody>\n",
       "</table>\n",
       "</div>"
      ],
      "text/plain": [
       "  Order Date  Ship Date     Ship Mode Customer ID      Segment           City  \\\n",
       "0 2012-07-31 2012-07-31      Same Day    RH-19495     Consumer  New York City   \n",
       "1 2013-02-05 2013-02-07  Second Class    JR-16210    Corporate     Wollongong   \n",
       "2 2013-10-17 2013-10-18   First Class    CR-12730     Consumer       Brisbane   \n",
       "3 2013-01-28 2013-01-30   First Class    KM-16375  Home Office         Berlin   \n",
       "4 2013-11-05 2013-11-06      Same Day     RH-9495     Consumer          Dakar   \n",
       "\n",
       "         Country  Market    Category Sub-Category     Sales  Quantity  \\\n",
       "0  United States      US  Technology  Accessories  2309.650         7   \n",
       "1      Australia    APAC   Furniture       Chairs  3709.395         9   \n",
       "2      Australia    APAC  Technology       Phones  5175.171         9   \n",
       "3        Germany      EU  Technology       Phones  2892.510         5   \n",
       "4        Senegal  Africa  Technology      Copiers  2832.960         8   \n",
       "\n",
       "   Discount    Profit  Shipping Cost Order Priority Sales_ABCD Profit_ABCD  \\\n",
       "0       0.0  762.1845         933.57       Critical          A           A   \n",
       "1       0.1 -288.7650         923.63       Critical          A           D   \n",
       "2       0.1  919.9710         915.49         Medium          A           A   \n",
       "3       0.1  -96.5400         910.16         Medium          A           D   \n",
       "4       0.0  311.5200         903.04       Critical          A           B   \n",
       "\n",
       "   isProfitPos  \n",
       "0            1  \n",
       "1            0  \n",
       "2            1  \n",
       "3            0  \n",
       "4            1  "
      ]
     },
     "execution_count": 12,
     "metadata": {},
     "output_type": "execute_result"
    }
   ],
   "source": [
    "df['isProfitPos'] = df['Profit'].apply(lambda x: 1 if x > 0 else 0)\n",
    "df.head()"
   ]
  },
  {
   "cell_type": "code",
   "execution_count": 13,
   "metadata": {},
   "outputs": [
    {
     "data": {
      "text/html": [
       "<style  type=\"text/css\" >\n",
       "#T_08bd3_row0_col0,#T_08bd3_row1_col1,#T_08bd3_row2_col2,#T_08bd3_row3_col3,#T_08bd3_row4_col4,#T_08bd3_row5_col5{\n",
       "            background-color:  #b40426;\n",
       "            color:  #f1f1f1;\n",
       "        }#T_08bd3_row0_col1,#T_08bd3_row1_col4{\n",
       "            background-color:  #a7c5fe;\n",
       "            color:  #000000;\n",
       "        }#T_08bd3_row0_col2{\n",
       "            background-color:  #bfd3f6;\n",
       "            color:  #000000;\n",
       "        }#T_08bd3_row0_col3{\n",
       "            background-color:  #f2c9b4;\n",
       "            color:  #000000;\n",
       "        }#T_08bd3_row0_col4{\n",
       "            background-color:  #f08b6e;\n",
       "            color:  #000000;\n",
       "        }#T_08bd3_row0_col5{\n",
       "            background-color:  #d6dce4;\n",
       "            color:  #000000;\n",
       "        }#T_08bd3_row1_col0{\n",
       "            background-color:  #b6cefa;\n",
       "            color:  #000000;\n",
       "        }#T_08bd3_row1_col2{\n",
       "            background-color:  #cad8ef;\n",
       "            color:  #000000;\n",
       "        }#T_08bd3_row1_col3{\n",
       "            background-color:  #a5c3fe;\n",
       "            color:  #000000;\n",
       "        }#T_08bd3_row1_col5{\n",
       "            background-color:  #cfdaea;\n",
       "            color:  #000000;\n",
       "        }#T_08bd3_row2_col0,#T_08bd3_row2_col1,#T_08bd3_row2_col3,#T_08bd3_row2_col4,#T_08bd3_row2_col5,#T_08bd3_row5_col2{\n",
       "            background-color:  #3b4cc0;\n",
       "            color:  #f1f1f1;\n",
       "        }#T_08bd3_row3_col0{\n",
       "            background-color:  #e3d9d3;\n",
       "            color:  #000000;\n",
       "        }#T_08bd3_row3_col1{\n",
       "            background-color:  #6180e9;\n",
       "            color:  #000000;\n",
       "        }#T_08bd3_row3_col2{\n",
       "            background-color:  #93b5fe;\n",
       "            color:  #000000;\n",
       "        }#T_08bd3_row3_col4,#T_08bd3_row4_col2{\n",
       "            background-color:  #c0d4f5;\n",
       "            color:  #000000;\n",
       "        }#T_08bd3_row3_col5{\n",
       "            background-color:  #f5c4ac;\n",
       "            color:  #000000;\n",
       "        }#T_08bd3_row4_col0{\n",
       "            background-color:  #f08a6c;\n",
       "            color:  #000000;\n",
       "        }#T_08bd3_row4_col1{\n",
       "            background-color:  #9abbff;\n",
       "            color:  #000000;\n",
       "        }#T_08bd3_row4_col3{\n",
       "            background-color:  #dfdbd9;\n",
       "            color:  #000000;\n",
       "        }#T_08bd3_row4_col5{\n",
       "            background-color:  #d5dbe5;\n",
       "            color:  #000000;\n",
       "        }#T_08bd3_row5_col0{\n",
       "            background-color:  #6384eb;\n",
       "            color:  #000000;\n",
       "        }#T_08bd3_row5_col1{\n",
       "            background-color:  #445acc;\n",
       "            color:  #f1f1f1;\n",
       "        }#T_08bd3_row5_col3{\n",
       "            background-color:  #dbdcde;\n",
       "            color:  #000000;\n",
       "        }#T_08bd3_row5_col4{\n",
       "            background-color:  #5f7fe8;\n",
       "            color:  #000000;\n",
       "        }</style><table id=\"T_08bd3_\" ><thead>    <tr>        <th class=\"blank level0\" ></th>        <th class=\"col_heading level0 col0\" >Sales</th>        <th class=\"col_heading level0 col1\" >Quantity</th>        <th class=\"col_heading level0 col2\" >Discount</th>        <th class=\"col_heading level0 col3\" >Profit</th>        <th class=\"col_heading level0 col4\" >Shipping Cost</th>        <th class=\"col_heading level0 col5\" >isProfitPos</th>    </tr></thead><tbody>\n",
       "                <tr>\n",
       "                        <th id=\"T_08bd3_level0_row0\" class=\"row_heading level0 row0\" >Sales</th>\n",
       "                        <td id=\"T_08bd3_row0_col0\" class=\"data row0 col0\" >1.0</td>\n",
       "                        <td id=\"T_08bd3_row0_col1\" class=\"data row0 col1\" >0.3</td>\n",
       "                        <td id=\"T_08bd3_row0_col2\" class=\"data row0 col2\" >-0.1</td>\n",
       "                        <td id=\"T_08bd3_row0_col3\" class=\"data row0 col3\" >0.5</td>\n",
       "                        <td id=\"T_08bd3_row0_col4\" class=\"data row0 col4\" >0.8</td>\n",
       "                        <td id=\"T_08bd3_row0_col5\" class=\"data row0 col5\" >0.1</td>\n",
       "            </tr>\n",
       "            <tr>\n",
       "                        <th id=\"T_08bd3_level0_row1\" class=\"row_heading level0 row1\" >Quantity</th>\n",
       "                        <td id=\"T_08bd3_row1_col0\" class=\"data row1 col0\" >0.3</td>\n",
       "                        <td id=\"T_08bd3_row1_col1\" class=\"data row1 col1\" >1.0</td>\n",
       "                        <td id=\"T_08bd3_row1_col2\" class=\"data row1 col2\" >-0.0</td>\n",
       "                        <td id=\"T_08bd3_row1_col3\" class=\"data row1 col3\" >0.1</td>\n",
       "                        <td id=\"T_08bd3_row1_col4\" class=\"data row1 col4\" >0.3</td>\n",
       "                        <td id=\"T_08bd3_row1_col5\" class=\"data row1 col5\" >0.0</td>\n",
       "            </tr>\n",
       "            <tr>\n",
       "                        <th id=\"T_08bd3_level0_row2\" class=\"row_heading level0 row2\" >Discount</th>\n",
       "                        <td id=\"T_08bd3_row2_col0\" class=\"data row2 col0\" >-0.1</td>\n",
       "                        <td id=\"T_08bd3_row2_col1\" class=\"data row2 col1\" >-0.0</td>\n",
       "                        <td id=\"T_08bd3_row2_col2\" class=\"data row2 col2\" >1.0</td>\n",
       "                        <td id=\"T_08bd3_row2_col3\" class=\"data row2 col3\" >-0.3</td>\n",
       "                        <td id=\"T_08bd3_row2_col4\" class=\"data row2 col4\" >-0.1</td>\n",
       "                        <td id=\"T_08bd3_row2_col5\" class=\"data row2 col5\" >-0.8</td>\n",
       "            </tr>\n",
       "            <tr>\n",
       "                        <th id=\"T_08bd3_level0_row3\" class=\"row_heading level0 row3\" >Profit</th>\n",
       "                        <td id=\"T_08bd3_row3_col0\" class=\"data row3 col0\" >0.5</td>\n",
       "                        <td id=\"T_08bd3_row3_col1\" class=\"data row3 col1\" >0.1</td>\n",
       "                        <td id=\"T_08bd3_row3_col2\" class=\"data row3 col2\" >-0.3</td>\n",
       "                        <td id=\"T_08bd3_row3_col3\" class=\"data row3 col3\" >1.0</td>\n",
       "                        <td id=\"T_08bd3_row3_col4\" class=\"data row3 col4\" >0.4</td>\n",
       "                        <td id=\"T_08bd3_row3_col5\" class=\"data row3 col5\" >0.3</td>\n",
       "            </tr>\n",
       "            <tr>\n",
       "                        <th id=\"T_08bd3_level0_row4\" class=\"row_heading level0 row4\" >Shipping Cost</th>\n",
       "                        <td id=\"T_08bd3_row4_col0\" class=\"data row4 col0\" >0.8</td>\n",
       "                        <td id=\"T_08bd3_row4_col1\" class=\"data row4 col1\" >0.3</td>\n",
       "                        <td id=\"T_08bd3_row4_col2\" class=\"data row4 col2\" >-0.1</td>\n",
       "                        <td id=\"T_08bd3_row4_col3\" class=\"data row4 col3\" >0.4</td>\n",
       "                        <td id=\"T_08bd3_row4_col4\" class=\"data row4 col4\" >1.0</td>\n",
       "                        <td id=\"T_08bd3_row4_col5\" class=\"data row4 col5\" >0.1</td>\n",
       "            </tr>\n",
       "            <tr>\n",
       "                        <th id=\"T_08bd3_level0_row5\" class=\"row_heading level0 row5\" >isProfitPos</th>\n",
       "                        <td id=\"T_08bd3_row5_col0\" class=\"data row5 col0\" >0.1</td>\n",
       "                        <td id=\"T_08bd3_row5_col1\" class=\"data row5 col1\" >0.0</td>\n",
       "                        <td id=\"T_08bd3_row5_col2\" class=\"data row5 col2\" >-0.8</td>\n",
       "                        <td id=\"T_08bd3_row5_col3\" class=\"data row5 col3\" >0.3</td>\n",
       "                        <td id=\"T_08bd3_row5_col4\" class=\"data row5 col4\" >0.1</td>\n",
       "                        <td id=\"T_08bd3_row5_col5\" class=\"data row5 col5\" >1.0</td>\n",
       "            </tr>\n",
       "    </tbody></table>"
      ],
      "text/plain": [
       "<pandas.io.formats.style.Styler at 0x7ffe18302ad0>"
      ]
     },
     "execution_count": 13,
     "metadata": {},
     "output_type": "execute_result"
    }
   ],
   "source": [
    "df.corr().style.background_gradient(cmap='coolwarm').format('{0:,.1f}')"
   ]
  },
  {
   "cell_type": "markdown",
   "metadata": {},
   "source": [
    "1. Sign of the Profit depends on Discount. The Correlation is -0.8\n",
    "2. Shipping Cost depends on Sales"
   ]
  },
  {
   "cell_type": "markdown",
   "metadata": {},
   "source": [
    "## 2.2\n",
    "### Как Shipping Cost соотноситься с City / Profit_ABCD / Discount\n",
    "###  Для этого сделать Shipping Cost ABCD"
   ]
  },
  {
   "cell_type": "code",
   "execution_count": 27,
   "metadata": {},
   "outputs": [
    {
     "data": {
      "text/plain": [
       "<pandas.core.groupby.generic.DataFrameGroupBy object at 0x7ffe49dd94d0>"
      ]
     },
     "execution_count": 27,
     "metadata": {},
     "output_type": "execute_result"
    }
   ],
   "source": [
    "ABCD_analysis(df, 'Shipping Cost')\n",
    "\n",
    "df.groupby('Shipping Cost_ABCD')"
   ]
  },
  {
   "cell_type": "code",
   "execution_count": 28,
   "metadata": {},
   "outputs": [
    {
     "data": {
      "text/html": [
       "<style  type=\"text/css\" >\n",
       "#T_960b5_row0_col0,#T_960b5_row1_col1,#T_960b5_row2_col2,#T_960b5_row3_col3,#T_960b5_row4_col4,#T_960b5_row5_col5,#T_960b5_row6_col6,#T_960b5_row7_col7,#T_960b5_row8_col8{\n",
       "            background-color:  #b40426;\n",
       "            color:  #f1f1f1;\n",
       "        }#T_960b5_row0_col1{\n",
       "            background-color:  #80a3fa;\n",
       "            color:  #000000;\n",
       "        }#T_960b5_row0_col2{\n",
       "            background-color:  #92b4fe;\n",
       "            color:  #000000;\n",
       "        }#T_960b5_row0_col3,#T_960b5_row2_col4{\n",
       "            background-color:  #7ea1fa;\n",
       "            color:  #000000;\n",
       "        }#T_960b5_row0_col4{\n",
       "            background-color:  #f59d7e;\n",
       "            color:  #000000;\n",
       "        }#T_960b5_row0_col5,#T_960b5_row4_col6{\n",
       "            background-color:  #bfd3f6;\n",
       "            color:  #000000;\n",
       "        }#T_960b5_row0_col6,#T_960b5_row5_col2{\n",
       "            background-color:  #c4d5f3;\n",
       "            color:  #000000;\n",
       "        }#T_960b5_row0_col7,#T_960b5_row5_col8{\n",
       "            background-color:  #cfdaea;\n",
       "            color:  #000000;\n",
       "        }#T_960b5_row0_col8,#T_960b5_row4_col5{\n",
       "            background-color:  #d4dbe6;\n",
       "            color:  #000000;\n",
       "        }#T_960b5_row1_col0{\n",
       "            background-color:  #5b7ae5;\n",
       "            color:  #000000;\n",
       "        }#T_960b5_row1_col2,#T_960b5_row5_col3{\n",
       "            background-color:  #799cf8;\n",
       "            color:  #000000;\n",
       "        }#T_960b5_row1_col3{\n",
       "            background-color:  #5a78e4;\n",
       "            color:  #000000;\n",
       "        }#T_960b5_row1_col4{\n",
       "            background-color:  #cbd8ee;\n",
       "            color:  #000000;\n",
       "        }#T_960b5_row1_col5,#T_960b5_row7_col1,#T_960b5_row7_col2{\n",
       "            background-color:  #adc9fd;\n",
       "            color:  #000000;\n",
       "        }#T_960b5_row1_col6,#T_960b5_row2_col6,#T_960b5_row3_col8,#T_960b5_row5_col1{\n",
       "            background-color:  #c3d5f4;\n",
       "            color:  #000000;\n",
       "        }#T_960b5_row1_col7{\n",
       "            background-color:  #98b9ff;\n",
       "            color:  #000000;\n",
       "        }#T_960b5_row1_col8,#T_960b5_row2_col8,#T_960b5_row6_col3{\n",
       "            background-color:  #d2dbe8;\n",
       "            color:  #000000;\n",
       "        }#T_960b5_row2_col0{\n",
       "            background-color:  #4f69d9;\n",
       "            color:  #000000;\n",
       "        }#T_960b5_row2_col1{\n",
       "            background-color:  #5977e3;\n",
       "            color:  #000000;\n",
       "        }#T_960b5_row2_col3,#T_960b5_row3_col0,#T_960b5_row3_col1,#T_960b5_row3_col2,#T_960b5_row3_col4,#T_960b5_row3_col5,#T_960b5_row6_col7,#T_960b5_row6_col8,#T_960b5_row8_col6{\n",
       "            background-color:  #3b4cc0;\n",
       "            color:  #f1f1f1;\n",
       "        }#T_960b5_row2_col5{\n",
       "            background-color:  #94b6ff;\n",
       "            color:  #000000;\n",
       "        }#T_960b5_row2_col7{\n",
       "            background-color:  #7b9ff9;\n",
       "            color:  #000000;\n",
       "        }#T_960b5_row3_col6{\n",
       "            background-color:  #e1dad6;\n",
       "            color:  #000000;\n",
       "        }#T_960b5_row3_col7{\n",
       "            background-color:  #6485ec;\n",
       "            color:  #000000;\n",
       "        }#T_960b5_row4_col0{\n",
       "            background-color:  #f7a889;\n",
       "            color:  #000000;\n",
       "        }#T_960b5_row4_col1{\n",
       "            background-color:  #cedaeb;\n",
       "            color:  #000000;\n",
       "        }#T_960b5_row4_col2{\n",
       "            background-color:  #a2c1ff;\n",
       "            color:  #000000;\n",
       "        }#T_960b5_row4_col3{\n",
       "            background-color:  #6282ea;\n",
       "            color:  #000000;\n",
       "        }#T_960b5_row4_col7{\n",
       "            background-color:  #f2c9b4;\n",
       "            color:  #000000;\n",
       "        }#T_960b5_row4_col8{\n",
       "            background-color:  #d6dce4;\n",
       "            color:  #000000;\n",
       "        }#T_960b5_row5_col0{\n",
       "            background-color:  #bbd1f8;\n",
       "            color:  #000000;\n",
       "        }#T_960b5_row5_col4{\n",
       "            background-color:  #dfdbd9;\n",
       "            color:  #000000;\n",
       "        }#T_960b5_row5_col6{\n",
       "            background-color:  #cad8ef;\n",
       "            color:  #000000;\n",
       "        }#T_960b5_row5_col7,#T_960b5_row8_col1{\n",
       "            background-color:  #a5c3fe;\n",
       "            color:  #000000;\n",
       "        }#T_960b5_row6_col0{\n",
       "            background-color:  #6e90f2;\n",
       "            color:  #000000;\n",
       "        }#T_960b5_row6_col1{\n",
       "            background-color:  #8fb1fe;\n",
       "            color:  #000000;\n",
       "        }#T_960b5_row6_col2,#T_960b5_row8_col3{\n",
       "            background-color:  #aac7fd;\n",
       "            color:  #000000;\n",
       "        }#T_960b5_row6_col4{\n",
       "            background-color:  #82a6fb;\n",
       "            color:  #000000;\n",
       "        }#T_960b5_row6_col5{\n",
       "            background-color:  #7da0f9;\n",
       "            color:  #000000;\n",
       "        }#T_960b5_row7_col0{\n",
       "            background-color:  #c9d7f0;\n",
       "            color:  #000000;\n",
       "        }#T_960b5_row7_col3{\n",
       "            background-color:  #9abbff;\n",
       "            color:  #000000;\n",
       "        }#T_960b5_row7_col4{\n",
       "            background-color:  #f5c2aa;\n",
       "            color:  #000000;\n",
       "        }#T_960b5_row7_col5{\n",
       "            background-color:  #9fbfff;\n",
       "            color:  #000000;\n",
       "        }#T_960b5_row7_col6{\n",
       "            background-color:  #93b5fe;\n",
       "            color:  #000000;\n",
       "        }#T_960b5_row7_col8{\n",
       "            background-color:  #f5c4ac;\n",
       "            color:  #000000;\n",
       "        }#T_960b5_row8_col0{\n",
       "            background-color:  #88abfd;\n",
       "            color:  #000000;\n",
       "        }#T_960b5_row8_col2{\n",
       "            background-color:  #bed2f6;\n",
       "            color:  #000000;\n",
       "        }#T_960b5_row8_col4{\n",
       "            background-color:  #a6c4fe;\n",
       "            color:  #000000;\n",
       "        }#T_960b5_row8_col5{\n",
       "            background-color:  #86a9fc;\n",
       "            color:  #000000;\n",
       "        }#T_960b5_row8_col7{\n",
       "            background-color:  #dbdcde;\n",
       "            color:  #000000;\n",
       "        }</style><table id=\"T_960b5_\" ><thead>    <tr>        <th class=\"blank level0\" ></th>        <th class=\"col_heading level0 col0\" >A</th>        <th class=\"col_heading level0 col1\" >B</th>        <th class=\"col_heading level0 col2\" >C</th>        <th class=\"col_heading level0 col3\" >D</th>        <th class=\"col_heading level0 col4\" >Sales</th>        <th class=\"col_heading level0 col5\" >Q</th>        <th class=\"col_heading level0 col6\" >Discount</th>        <th class=\"col_heading level0 col7\" >Profit</th>        <th class=\"col_heading level0 col8\" >ProfPos</th>    </tr></thead><tbody>\n",
       "                <tr>\n",
       "                        <th id=\"T_960b5_level0_row0\" class=\"row_heading level0 row0\" >A</th>\n",
       "                        <td id=\"T_960b5_row0_col0\" class=\"data row0 col0\" >1.0</td>\n",
       "                        <td id=\"T_960b5_row0_col1\" class=\"data row0 col1\" >-0.1</td>\n",
       "                        <td id=\"T_960b5_row0_col2\" class=\"data row0 col2\" >-0.2</td>\n",
       "                        <td id=\"T_960b5_row0_col3\" class=\"data row0 col3\" >-0.3</td>\n",
       "                        <td id=\"T_960b5_row0_col4\" class=\"data row0 col4\" >0.6</td>\n",
       "                        <td id=\"T_960b5_row0_col5\" class=\"data row0 col5\" >0.2</td>\n",
       "                        <td id=\"T_960b5_row0_col6\" class=\"data row0 col6\" >-0.1</td>\n",
       "                        <td id=\"T_960b5_row0_col7\" class=\"data row0 col7\" >0.3</td>\n",
       "                        <td id=\"T_960b5_row0_col8\" class=\"data row0 col8\" >0.0</td>\n",
       "            </tr>\n",
       "            <tr>\n",
       "                        <th id=\"T_960b5_level0_row1\" class=\"row_heading level0 row1\" >B</th>\n",
       "                        <td id=\"T_960b5_row1_col0\" class=\"data row1 col0\" >-0.1</td>\n",
       "                        <td id=\"T_960b5_row1_col1\" class=\"data row1 col1\" >1.0</td>\n",
       "                        <td id=\"T_960b5_row1_col2\" class=\"data row1 col2\" >-0.3</td>\n",
       "                        <td id=\"T_960b5_row1_col3\" class=\"data row1 col3\" >-0.4</td>\n",
       "                        <td id=\"T_960b5_row1_col4\" class=\"data row1 col4\" >0.2</td>\n",
       "                        <td id=\"T_960b5_row1_col5\" class=\"data row1 col5\" >0.2</td>\n",
       "                        <td id=\"T_960b5_row1_col6\" class=\"data row1 col6\" >-0.1</td>\n",
       "                        <td id=\"T_960b5_row1_col7\" class=\"data row1 col7\" >0.1</td>\n",
       "                        <td id=\"T_960b5_row1_col8\" class=\"data row1 col8\" >0.0</td>\n",
       "            </tr>\n",
       "            <tr>\n",
       "                        <th id=\"T_960b5_level0_row2\" class=\"row_heading level0 row2\" >C</th>\n",
       "                        <td id=\"T_960b5_row2_col0\" class=\"data row2 col0\" >-0.2</td>\n",
       "                        <td id=\"T_960b5_row2_col1\" class=\"data row2 col1\" >-0.3</td>\n",
       "                        <td id=\"T_960b5_row2_col2\" class=\"data row2 col2\" >1.0</td>\n",
       "                        <td id=\"T_960b5_row2_col3\" class=\"data row2 col3\" >-0.6</td>\n",
       "                        <td id=\"T_960b5_row2_col4\" class=\"data row2 col4\" >-0.1</td>\n",
       "                        <td id=\"T_960b5_row2_col5\" class=\"data row2 col5\" >0.1</td>\n",
       "                        <td id=\"T_960b5_row2_col6\" class=\"data row2 col6\" >-0.1</td>\n",
       "                        <td id=\"T_960b5_row2_col7\" class=\"data row2 col7\" >-0.1</td>\n",
       "                        <td id=\"T_960b5_row2_col8\" class=\"data row2 col8\" >0.0</td>\n",
       "            </tr>\n",
       "            <tr>\n",
       "                        <th id=\"T_960b5_level0_row3\" class=\"row_heading level0 row3\" >D</th>\n",
       "                        <td id=\"T_960b5_row3_col0\" class=\"data row3 col0\" >-0.3</td>\n",
       "                        <td id=\"T_960b5_row3_col1\" class=\"data row3 col1\" >-0.4</td>\n",
       "                        <td id=\"T_960b5_row3_col2\" class=\"data row3 col2\" >-0.6</td>\n",
       "                        <td id=\"T_960b5_row3_col3\" class=\"data row3 col3\" >1.0</td>\n",
       "                        <td id=\"T_960b5_row3_col4\" class=\"data row3 col4\" >-0.4</td>\n",
       "                        <td id=\"T_960b5_row3_col5\" class=\"data row3 col5\" >-0.3</td>\n",
       "                        <td id=\"T_960b5_row3_col6\" class=\"data row3 col6\" >0.1</td>\n",
       "                        <td id=\"T_960b5_row3_col7\" class=\"data row3 col7\" >-0.1</td>\n",
       "                        <td id=\"T_960b5_row3_col8\" class=\"data row3 col8\" >-0.1</td>\n",
       "            </tr>\n",
       "            <tr>\n",
       "                        <th id=\"T_960b5_level0_row4\" class=\"row_heading level0 row4\" >Sales</th>\n",
       "                        <td id=\"T_960b5_row4_col0\" class=\"data row4 col0\" >0.6</td>\n",
       "                        <td id=\"T_960b5_row4_col1\" class=\"data row4 col1\" >0.2</td>\n",
       "                        <td id=\"T_960b5_row4_col2\" class=\"data row4 col2\" >-0.1</td>\n",
       "                        <td id=\"T_960b5_row4_col3\" class=\"data row4 col3\" >-0.4</td>\n",
       "                        <td id=\"T_960b5_row4_col4\" class=\"data row4 col4\" >1.0</td>\n",
       "                        <td id=\"T_960b5_row4_col5\" class=\"data row4 col5\" >0.3</td>\n",
       "                        <td id=\"T_960b5_row4_col6\" class=\"data row4 col6\" >-0.1</td>\n",
       "                        <td id=\"T_960b5_row4_col7\" class=\"data row4 col7\" >0.5</td>\n",
       "                        <td id=\"T_960b5_row4_col8\" class=\"data row4 col8\" >0.1</td>\n",
       "            </tr>\n",
       "            <tr>\n",
       "                        <th id=\"T_960b5_level0_row5\" class=\"row_heading level0 row5\" >Q</th>\n",
       "                        <td id=\"T_960b5_row5_col0\" class=\"data row5 col0\" >0.2</td>\n",
       "                        <td id=\"T_960b5_row5_col1\" class=\"data row5 col1\" >0.2</td>\n",
       "                        <td id=\"T_960b5_row5_col2\" class=\"data row5 col2\" >0.1</td>\n",
       "                        <td id=\"T_960b5_row5_col3\" class=\"data row5 col3\" >-0.3</td>\n",
       "                        <td id=\"T_960b5_row5_col4\" class=\"data row5 col4\" >0.3</td>\n",
       "                        <td id=\"T_960b5_row5_col5\" class=\"data row5 col5\" >1.0</td>\n",
       "                        <td id=\"T_960b5_row5_col6\" class=\"data row5 col6\" >-0.0</td>\n",
       "                        <td id=\"T_960b5_row5_col7\" class=\"data row5 col7\" >0.1</td>\n",
       "                        <td id=\"T_960b5_row5_col8\" class=\"data row5 col8\" >0.0</td>\n",
       "            </tr>\n",
       "            <tr>\n",
       "                        <th id=\"T_960b5_level0_row6\" class=\"row_heading level0 row6\" >Discount</th>\n",
       "                        <td id=\"T_960b5_row6_col0\" class=\"data row6 col0\" >-0.1</td>\n",
       "                        <td id=\"T_960b5_row6_col1\" class=\"data row6 col1\" >-0.1</td>\n",
       "                        <td id=\"T_960b5_row6_col2\" class=\"data row6 col2\" >-0.1</td>\n",
       "                        <td id=\"T_960b5_row6_col3\" class=\"data row6 col3\" >0.1</td>\n",
       "                        <td id=\"T_960b5_row6_col4\" class=\"data row6 col4\" >-0.1</td>\n",
       "                        <td id=\"T_960b5_row6_col5\" class=\"data row6 col5\" >-0.0</td>\n",
       "                        <td id=\"T_960b5_row6_col6\" class=\"data row6 col6\" >1.0</td>\n",
       "                        <td id=\"T_960b5_row6_col7\" class=\"data row6 col7\" >-0.3</td>\n",
       "                        <td id=\"T_960b5_row6_col8\" class=\"data row6 col8\" >-0.8</td>\n",
       "            </tr>\n",
       "            <tr>\n",
       "                        <th id=\"T_960b5_level0_row7\" class=\"row_heading level0 row7\" >Profit</th>\n",
       "                        <td id=\"T_960b5_row7_col0\" class=\"data row7 col0\" >0.3</td>\n",
       "                        <td id=\"T_960b5_row7_col1\" class=\"data row7 col1\" >0.1</td>\n",
       "                        <td id=\"T_960b5_row7_col2\" class=\"data row7 col2\" >-0.1</td>\n",
       "                        <td id=\"T_960b5_row7_col3\" class=\"data row7 col3\" >-0.1</td>\n",
       "                        <td id=\"T_960b5_row7_col4\" class=\"data row7 col4\" >0.5</td>\n",
       "                        <td id=\"T_960b5_row7_col5\" class=\"data row7 col5\" >0.1</td>\n",
       "                        <td id=\"T_960b5_row7_col6\" class=\"data row7 col6\" >-0.3</td>\n",
       "                        <td id=\"T_960b5_row7_col7\" class=\"data row7 col7\" >1.0</td>\n",
       "                        <td id=\"T_960b5_row7_col8\" class=\"data row7 col8\" >0.3</td>\n",
       "            </tr>\n",
       "            <tr>\n",
       "                        <th id=\"T_960b5_level0_row8\" class=\"row_heading level0 row8\" >ProfPos</th>\n",
       "                        <td id=\"T_960b5_row8_col0\" class=\"data row8 col0\" >0.0</td>\n",
       "                        <td id=\"T_960b5_row8_col1\" class=\"data row8 col1\" >0.0</td>\n",
       "                        <td id=\"T_960b5_row8_col2\" class=\"data row8 col2\" >0.0</td>\n",
       "                        <td id=\"T_960b5_row8_col3\" class=\"data row8 col3\" >-0.1</td>\n",
       "                        <td id=\"T_960b5_row8_col4\" class=\"data row8 col4\" >0.1</td>\n",
       "                        <td id=\"T_960b5_row8_col5\" class=\"data row8 col5\" >0.0</td>\n",
       "                        <td id=\"T_960b5_row8_col6\" class=\"data row8 col6\" >-0.8</td>\n",
       "                        <td id=\"T_960b5_row8_col7\" class=\"data row8 col7\" >0.3</td>\n",
       "                        <td id=\"T_960b5_row8_col8\" class=\"data row8 col8\" >1.0</td>\n",
       "            </tr>\n",
       "    </tbody></table>"
      ],
      "text/plain": [
       "<pandas.io.formats.style.Styler at 0x7ffe0834e110>"
      ]
     },
     "execution_count": 28,
     "metadata": {},
     "output_type": "execute_result"
    }
   ],
   "source": [
    "test_df = pd.get_dummies(df['Shipping Cost_ABCD'])\n",
    "test_df[['Sales', 'Q', 'Discount', 'Profit', 'ProfPos']] = df[['Sales', 'Quantity',\n",
    "                                                               'Discount', 'Profit', 'isProfitPos']]\n",
    "test_df.corr().style.background_gradient(cmap='coolwarm').format('{0:,.1f}')"
   ]
  },
  {
   "cell_type": "code",
   "execution_count": null,
   "metadata": {},
   "outputs": [],
   "source": []
  },
  {
   "cell_type": "code",
   "execution_count": null,
   "metadata": {},
   "outputs": [],
   "source": []
  },
  {
   "cell_type": "markdown",
   "metadata": {},
   "source": [
    "## ProfitSign -> Discount -> [Sub_Cat, Market, Country]"
   ]
  },
  {
   "cell_type": "code",
   "execution_count": null,
   "metadata": {},
   "outputs": [],
   "source": [
    "df.head()"
   ]
  },
  {
   "cell_type": "code",
   "execution_count": 29,
   "metadata": {},
   "outputs": [
    {
     "name": "stdout",
     "output_type": "stream",
     "text": [
      " Total Profit: 1467457.2912800002\n"
     ]
    },
    {
     "data": {
      "text/html": [
       "<style  type=\"text/css\" >\n",
       "#T_b24e3_row0_col0,#T_b24e3_row1_col1,#T_b24e3_row2_col2,#T_b24e3_row3_col3,#T_b24e3_row4_col4,#T_b24e3_row5_col5{\n",
       "            background-color:  #b40426;\n",
       "            color:  #f1f1f1;\n",
       "        }#T_b24e3_row0_col1,#T_b24e3_row1_col4{\n",
       "            background-color:  #a7c5fe;\n",
       "            color:  #000000;\n",
       "        }#T_b24e3_row0_col2{\n",
       "            background-color:  #bfd3f6;\n",
       "            color:  #000000;\n",
       "        }#T_b24e3_row0_col3{\n",
       "            background-color:  #f2c9b4;\n",
       "            color:  #000000;\n",
       "        }#T_b24e3_row0_col4{\n",
       "            background-color:  #f08b6e;\n",
       "            color:  #000000;\n",
       "        }#T_b24e3_row0_col5{\n",
       "            background-color:  #d6dce4;\n",
       "            color:  #000000;\n",
       "        }#T_b24e3_row1_col0{\n",
       "            background-color:  #b6cefa;\n",
       "            color:  #000000;\n",
       "        }#T_b24e3_row1_col2{\n",
       "            background-color:  #cad8ef;\n",
       "            color:  #000000;\n",
       "        }#T_b24e3_row1_col3{\n",
       "            background-color:  #a5c3fe;\n",
       "            color:  #000000;\n",
       "        }#T_b24e3_row1_col5{\n",
       "            background-color:  #cfdaea;\n",
       "            color:  #000000;\n",
       "        }#T_b24e3_row2_col0,#T_b24e3_row2_col1,#T_b24e3_row2_col3,#T_b24e3_row2_col4,#T_b24e3_row2_col5,#T_b24e3_row5_col2{\n",
       "            background-color:  #3b4cc0;\n",
       "            color:  #f1f1f1;\n",
       "        }#T_b24e3_row3_col0{\n",
       "            background-color:  #e3d9d3;\n",
       "            color:  #000000;\n",
       "        }#T_b24e3_row3_col1{\n",
       "            background-color:  #6180e9;\n",
       "            color:  #000000;\n",
       "        }#T_b24e3_row3_col2{\n",
       "            background-color:  #93b5fe;\n",
       "            color:  #000000;\n",
       "        }#T_b24e3_row3_col4,#T_b24e3_row4_col2{\n",
       "            background-color:  #c0d4f5;\n",
       "            color:  #000000;\n",
       "        }#T_b24e3_row3_col5{\n",
       "            background-color:  #f5c4ac;\n",
       "            color:  #000000;\n",
       "        }#T_b24e3_row4_col0{\n",
       "            background-color:  #f08a6c;\n",
       "            color:  #000000;\n",
       "        }#T_b24e3_row4_col1{\n",
       "            background-color:  #9abbff;\n",
       "            color:  #000000;\n",
       "        }#T_b24e3_row4_col3{\n",
       "            background-color:  #dfdbd9;\n",
       "            color:  #000000;\n",
       "        }#T_b24e3_row4_col5{\n",
       "            background-color:  #d5dbe5;\n",
       "            color:  #000000;\n",
       "        }#T_b24e3_row5_col0{\n",
       "            background-color:  #6384eb;\n",
       "            color:  #000000;\n",
       "        }#T_b24e3_row5_col1{\n",
       "            background-color:  #445acc;\n",
       "            color:  #f1f1f1;\n",
       "        }#T_b24e3_row5_col3{\n",
       "            background-color:  #dbdcde;\n",
       "            color:  #000000;\n",
       "        }#T_b24e3_row5_col4{\n",
       "            background-color:  #5f7fe8;\n",
       "            color:  #000000;\n",
       "        }</style><table id=\"T_b24e3_\" ><thead>    <tr>        <th class=\"blank level0\" ></th>        <th class=\"col_heading level0 col0\" >Sales</th>        <th class=\"col_heading level0 col1\" >Quantity</th>        <th class=\"col_heading level0 col2\" >Discount</th>        <th class=\"col_heading level0 col3\" >Profit</th>        <th class=\"col_heading level0 col4\" >Shipping Cost</th>        <th class=\"col_heading level0 col5\" >isProfitPos</th>    </tr></thead><tbody>\n",
       "                <tr>\n",
       "                        <th id=\"T_b24e3_level0_row0\" class=\"row_heading level0 row0\" >Sales</th>\n",
       "                        <td id=\"T_b24e3_row0_col0\" class=\"data row0 col0\" >1.0</td>\n",
       "                        <td id=\"T_b24e3_row0_col1\" class=\"data row0 col1\" >0.3</td>\n",
       "                        <td id=\"T_b24e3_row0_col2\" class=\"data row0 col2\" >-0.1</td>\n",
       "                        <td id=\"T_b24e3_row0_col3\" class=\"data row0 col3\" >0.5</td>\n",
       "                        <td id=\"T_b24e3_row0_col4\" class=\"data row0 col4\" >0.8</td>\n",
       "                        <td id=\"T_b24e3_row0_col5\" class=\"data row0 col5\" >0.1</td>\n",
       "            </tr>\n",
       "            <tr>\n",
       "                        <th id=\"T_b24e3_level0_row1\" class=\"row_heading level0 row1\" >Quantity</th>\n",
       "                        <td id=\"T_b24e3_row1_col0\" class=\"data row1 col0\" >0.3</td>\n",
       "                        <td id=\"T_b24e3_row1_col1\" class=\"data row1 col1\" >1.0</td>\n",
       "                        <td id=\"T_b24e3_row1_col2\" class=\"data row1 col2\" >-0.0</td>\n",
       "                        <td id=\"T_b24e3_row1_col3\" class=\"data row1 col3\" >0.1</td>\n",
       "                        <td id=\"T_b24e3_row1_col4\" class=\"data row1 col4\" >0.3</td>\n",
       "                        <td id=\"T_b24e3_row1_col5\" class=\"data row1 col5\" >0.0</td>\n",
       "            </tr>\n",
       "            <tr>\n",
       "                        <th id=\"T_b24e3_level0_row2\" class=\"row_heading level0 row2\" >Discount</th>\n",
       "                        <td id=\"T_b24e3_row2_col0\" class=\"data row2 col0\" >-0.1</td>\n",
       "                        <td id=\"T_b24e3_row2_col1\" class=\"data row2 col1\" >-0.0</td>\n",
       "                        <td id=\"T_b24e3_row2_col2\" class=\"data row2 col2\" >1.0</td>\n",
       "                        <td id=\"T_b24e3_row2_col3\" class=\"data row2 col3\" >-0.3</td>\n",
       "                        <td id=\"T_b24e3_row2_col4\" class=\"data row2 col4\" >-0.1</td>\n",
       "                        <td id=\"T_b24e3_row2_col5\" class=\"data row2 col5\" >-0.8</td>\n",
       "            </tr>\n",
       "            <tr>\n",
       "                        <th id=\"T_b24e3_level0_row3\" class=\"row_heading level0 row3\" >Profit</th>\n",
       "                        <td id=\"T_b24e3_row3_col0\" class=\"data row3 col0\" >0.5</td>\n",
       "                        <td id=\"T_b24e3_row3_col1\" class=\"data row3 col1\" >0.1</td>\n",
       "                        <td id=\"T_b24e3_row3_col2\" class=\"data row3 col2\" >-0.3</td>\n",
       "                        <td id=\"T_b24e3_row3_col3\" class=\"data row3 col3\" >1.0</td>\n",
       "                        <td id=\"T_b24e3_row3_col4\" class=\"data row3 col4\" >0.4</td>\n",
       "                        <td id=\"T_b24e3_row3_col5\" class=\"data row3 col5\" >0.3</td>\n",
       "            </tr>\n",
       "            <tr>\n",
       "                        <th id=\"T_b24e3_level0_row4\" class=\"row_heading level0 row4\" >Shipping Cost</th>\n",
       "                        <td id=\"T_b24e3_row4_col0\" class=\"data row4 col0\" >0.8</td>\n",
       "                        <td id=\"T_b24e3_row4_col1\" class=\"data row4 col1\" >0.3</td>\n",
       "                        <td id=\"T_b24e3_row4_col2\" class=\"data row4 col2\" >-0.1</td>\n",
       "                        <td id=\"T_b24e3_row4_col3\" class=\"data row4 col3\" >0.4</td>\n",
       "                        <td id=\"T_b24e3_row4_col4\" class=\"data row4 col4\" >1.0</td>\n",
       "                        <td id=\"T_b24e3_row4_col5\" class=\"data row4 col5\" >0.1</td>\n",
       "            </tr>\n",
       "            <tr>\n",
       "                        <th id=\"T_b24e3_level0_row5\" class=\"row_heading level0 row5\" >isProfitPos</th>\n",
       "                        <td id=\"T_b24e3_row5_col0\" class=\"data row5 col0\" >0.1</td>\n",
       "                        <td id=\"T_b24e3_row5_col1\" class=\"data row5 col1\" >0.0</td>\n",
       "                        <td id=\"T_b24e3_row5_col2\" class=\"data row5 col2\" >-0.8</td>\n",
       "                        <td id=\"T_b24e3_row5_col3\" class=\"data row5 col3\" >0.3</td>\n",
       "                        <td id=\"T_b24e3_row5_col4\" class=\"data row5 col4\" >0.1</td>\n",
       "                        <td id=\"T_b24e3_row5_col5\" class=\"data row5 col5\" >1.0</td>\n",
       "            </tr>\n",
       "    </tbody></table>"
      ],
      "text/plain": [
       "<pandas.io.formats.style.Styler at 0x7ffe0835a990>"
      ]
     },
     "execution_count": 29,
     "metadata": {},
     "output_type": "execute_result"
    }
   ],
   "source": [
    "# total profit\n",
    "print(f' Total Profit: {df.Profit.sum()}')\n",
    "df.corr().style.background_gradient(cmap='coolwarm').format('{0:,.1f}')"
   ]
  },
  {
   "cell_type": "code",
   "execution_count": 30,
   "metadata": {
    "scrolled": true
   },
   "outputs": [
    {
     "data": {
      "image/png": "[encoded data removed]",
      "text/plain": [
       "<Figure size 1440x360 with 3 Axes>"
      ]
     },
     "metadata": {
      "needs_background": "light"
     },
     "output_type": "display_data"
    }
   ],
   "source": [
    "fig, axs = plt.subplots(1, 3, figsize=(20, 5))\n",
    "\n",
    "df.groupby('Market')['Discount'].mean().plot.bar(ax=axs[0], ylabel='Mean Discount', rot=0, color='red');\n",
    "df.groupby('Sub-Category')['Discount'].mean().plot.bar(ax=axs[1], rot=90, color='red');\n",
    "df.groupby('isProfitPos')['Discount'].mean().plot.bar(ax=axs[2], rot=90, color='red');\n",
    "axs[1].plot(df['Discount'].mean());"
   ]
  },
  {
   "cell_type": "markdown",
   "metadata": {},
   "source": [
    "## Markets and their discount and profit"
   ]
  },
  {
   "cell_type": "code",
   "execution_count": 31,
   "metadata": {
    "scrolled": true
   },
   "outputs": [
    {
     "name": "stdout",
     "output_type": "stream",
     "text": [
      "28.61098247767587\n"
     ]
    },
    {
     "name": "stderr",
     "output_type": "stream",
     "text": [
      "/opt/anaconda3/lib/python3.7/site-packages/ipykernel_launcher.py:19: DeprecationWarning: `np.int` is a deprecated alias for the builtin `int`. To silence this warning, use `int` by itself. Doing this will not modify any behavior and is safe. When replacing `np.int`, you may wish to use e.g. `np.int64` or `np.int32` to specify the precision. If you wish to review your current use, check the release note link for additional information.\n",
      "Deprecated in NumPy 1.20; for more details and guidance: https://numpy.org/devdocs/release/1.20.0-notes.html#deprecations\n"
     ]
    },
    {
     "data": {
      "text/plain": [
       "Market\n",
       "Canada      66928\n",
       "EMEA       806161\n",
       "Africa     783773\n",
       "LATAM     2164605\n",
       "US        2297200\n",
       "EU        2938089\n",
       "APAC      3585744\n",
       "Name: Sales, dtype: int64"
      ]
     },
     "execution_count": 31,
     "metadata": {},
     "output_type": "execute_result"
    }
   ],
   "source": [
    "mean_prof_per_order = df['Profit'].mean()\n",
    "\n",
    "temp = df.groupby('Market')['Profit'].sum()\n",
    "\n",
    "markets = pd.DataFrame(temp)\n",
    "markets['Sales'] = df.groupby('Market')['Sales'].sum().values\n",
    "markets['Discount'] = df.groupby('Market')['Discount'].mean().values\n",
    "markets['Ship_Cost'] = df.groupby('Market')['Shipping Cost'].mean().values\n",
    "markets['n_orders'] = df.groupby('Market')['Market'].count().values\n",
    "\n",
    "markets.sort_values('Profit', inplace=True)\n",
    "\n",
    "markets['prof_per_order'] = markets['Profit'] / markets['n_orders']\n",
    "\n",
    "mean_disc = df['Discount'].mean()\n",
    "print(mean_prof_per_order)\n",
    "markets['high_discount'] = markets['Discount'].apply(lambda x: 1 if x > mean_disc else 0)\n",
    "\n",
    "markets['Sales'].astype(np.int)"
   ]
  },
  {
   "cell_type": "code",
   "execution_count": 32,
   "metadata": {},
   "outputs": [
    {
     "data": {
      "text/html": [
       "<style  type=\"text/css\" >\n",
       "#T_31404_row0_col0,#T_31404_row1_col1,#T_31404_row2_col2,#T_31404_row3_col3,#T_31404_row4_col4,#T_31404_row5_col5,#T_31404_row6_col6{\n",
       "            background-color:  #b40426;\n",
       "            color:  #f1f1f1;\n",
       "        }#T_31404_row0_col1,#T_31404_row1_col0{\n",
       "            background-color:  #b8122a;\n",
       "            color:  #f1f1f1;\n",
       "        }#T_31404_row0_col2{\n",
       "            background-color:  #ead4c8;\n",
       "            color:  #000000;\n",
       "        }#T_31404_row0_col3{\n",
       "            background-color:  #c53334;\n",
       "            color:  #f1f1f1;\n",
       "        }#T_31404_row0_col4{\n",
       "            background-color:  #d75445;\n",
       "            color:  #000000;\n",
       "        }#T_31404_row0_col5{\n",
       "            background-color:  #f6bea4;\n",
       "            color:  #000000;\n",
       "        }#T_31404_row0_col6{\n",
       "            background-color:  #a9c6fd;\n",
       "            color:  #000000;\n",
       "        }#T_31404_row1_col2{\n",
       "            background-color:  #f3c7b1;\n",
       "            color:  #000000;\n",
       "        }#T_31404_row1_col3{\n",
       "            background-color:  #cf453c;\n",
       "            color:  #f1f1f1;\n",
       "        }#T_31404_row1_col4{\n",
       "            background-color:  #ca3b37;\n",
       "            color:  #f1f1f1;\n",
       "        }#T_31404_row1_col5{\n",
       "            background-color:  #efcfbf;\n",
       "            color:  #000000;\n",
       "        }#T_31404_row1_col6,#T_31404_row5_col0{\n",
       "            background-color:  #afcafc;\n",
       "            color:  #000000;\n",
       "        }#T_31404_row2_col0{\n",
       "            background-color:  #7396f5;\n",
       "            color:  #000000;\n",
       "        }#T_31404_row2_col1{\n",
       "            background-color:  #93b5fe;\n",
       "            color:  #000000;\n",
       "        }#T_31404_row2_col3{\n",
       "            background-color:  #4b64d5;\n",
       "            color:  #f1f1f1;\n",
       "        }#T_31404_row2_col4{\n",
       "            background-color:  #e0dbd8;\n",
       "            color:  #000000;\n",
       "        }#T_31404_row2_col5,#T_31404_row5_col2,#T_31404_row5_col4,#T_31404_row5_col6,#T_31404_row6_col0,#T_31404_row6_col1,#T_31404_row6_col3{\n",
       "            background-color:  #3b4cc0;\n",
       "            color:  #f1f1f1;\n",
       "        }#T_31404_row2_col6{\n",
       "            background-color:  #ec8165;\n",
       "            color:  #000000;\n",
       "        }#T_31404_row3_col0{\n",
       "            background-color:  #c73635;\n",
       "            color:  #f1f1f1;\n",
       "        }#T_31404_row3_col1{\n",
       "            background-color:  #d1493f;\n",
       "            color:  #f1f1f1;\n",
       "        }#T_31404_row3_col2{\n",
       "            background-color:  #d2dbe8;\n",
       "            color:  #000000;\n",
       "        }#T_31404_row3_col4,#T_31404_row4_col3{\n",
       "            background-color:  #f59f80;\n",
       "            color:  #000000;\n",
       "        }#T_31404_row3_col5{\n",
       "            background-color:  #f59d7e;\n",
       "            color:  #000000;\n",
       "        }#T_31404_row3_col6{\n",
       "            background-color:  #9abbff;\n",
       "            color:  #000000;\n",
       "        }#T_31404_row4_col0{\n",
       "            background-color:  #d95847;\n",
       "            color:  #000000;\n",
       "        }#T_31404_row4_col1{\n",
       "            background-color:  #cc403a;\n",
       "            color:  #f1f1f1;\n",
       "        }#T_31404_row4_col2{\n",
       "            background-color:  #f6a586;\n",
       "            color:  #000000;\n",
       "        }#T_31404_row4_col5{\n",
       "            background-color:  #c7d7f0;\n",
       "            color:  #000000;\n",
       "        }#T_31404_row4_col6{\n",
       "            background-color:  #b9d0f9;\n",
       "            color:  #000000;\n",
       "        }#T_31404_row5_col1{\n",
       "            background-color:  #7b9ff9;\n",
       "            color:  #000000;\n",
       "        }#T_31404_row5_col3{\n",
       "            background-color:  #e9d5cb;\n",
       "            color:  #000000;\n",
       "        }#T_31404_row6_col2{\n",
       "            background-color:  #e46e56;\n",
       "            color:  #000000;\n",
       "        }#T_31404_row6_col4{\n",
       "            background-color:  #6282ea;\n",
       "            color:  #000000;\n",
       "        }#T_31404_row6_col5{\n",
       "            background-color:  #799cf8;\n",
       "            color:  #000000;\n",
       "        }</style><table id=\"T_31404_\" ><thead>    <tr>        <th class=\"blank level0\" ></th>        <th class=\"col_heading level0 col0\" >Profit</th>        <th class=\"col_heading level0 col1\" >Sales</th>        <th class=\"col_heading level0 col2\" >Discount</th>        <th class=\"col_heading level0 col3\" >Ship_Cost</th>        <th class=\"col_heading level0 col4\" >n_orders</th>        <th class=\"col_heading level0 col5\" >prof_per_order</th>        <th class=\"col_heading level0 col6\" >high_discount</th>    </tr></thead><tbody>\n",
       "                <tr>\n",
       "                        <th id=\"T_31404_level0_row0\" class=\"row_heading level0 row0\" >Profit</th>\n",
       "                        <td id=\"T_31404_row0_col0\" class=\"data row0 col0\" >1.000</td>\n",
       "                        <td id=\"T_31404_row0_col1\" class=\"data row0 col1\" >0.987</td>\n",
       "                        <td id=\"T_31404_row0_col2\" class=\"data row0 col2\" >0.204</td>\n",
       "                        <td id=\"T_31404_row0_col3\" class=\"data row0 col3\" >0.948</td>\n",
       "                        <td id=\"T_31404_row0_col4\" class=\"data row0 col4\" >0.891</td>\n",
       "                        <td id=\"T_31404_row0_col5\" class=\"data row0 col5\" >0.370</td>\n",
       "                        <td id=\"T_31404_row0_col6\" class=\"data row0 col6\" >0.031</td>\n",
       "            </tr>\n",
       "            <tr>\n",
       "                        <th id=\"T_31404_level0_row1\" class=\"row_heading level0 row1\" >Sales</th>\n",
       "                        <td id=\"T_31404_row1_col0\" class=\"data row1 col0\" >0.987</td>\n",
       "                        <td id=\"T_31404_row1_col1\" class=\"data row1 col1\" >1.000</td>\n",
       "                        <td id=\"T_31404_row1_col2\" class=\"data row1 col2\" >0.311</td>\n",
       "                        <td id=\"T_31404_row1_col3\" class=\"data row1 col3\" >0.920</td>\n",
       "                        <td id=\"T_31404_row1_col4\" class=\"data row1 col4\" >0.937</td>\n",
       "                        <td id=\"T_31404_row1_col5\" class=\"data row1 col5\" >0.249</td>\n",
       "                        <td id=\"T_31404_row1_col6\" class=\"data row1 col6\" >0.060</td>\n",
       "            </tr>\n",
       "            <tr>\n",
       "                        <th id=\"T_31404_level0_row2\" class=\"row_heading level0 row2\" >Discount</th>\n",
       "                        <td id=\"T_31404_row2_col0\" class=\"data row2 col0\" >0.204</td>\n",
       "                        <td id=\"T_31404_row2_col1\" class=\"data row2 col1\" >0.311</td>\n",
       "                        <td id=\"T_31404_row2_col2\" class=\"data row2 col2\" >1.000</td>\n",
       "                        <td id=\"T_31404_row2_col3\" class=\"data row2 col3\" >0.030</td>\n",
       "                        <td id=\"T_31404_row2_col4\" class=\"data row2 col4\" >0.500</td>\n",
       "                        <td id=\"T_31404_row2_col5\" class=\"data row2 col5\" >-0.790</td>\n",
       "                        <td id=\"T_31404_row2_col6\" class=\"data row2 col6\" >0.721</td>\n",
       "            </tr>\n",
       "            <tr>\n",
       "                        <th id=\"T_31404_level0_row3\" class=\"row_heading level0 row3\" >Ship_Cost</th>\n",
       "                        <td id=\"T_31404_row3_col0\" class=\"data row3 col0\" >0.948</td>\n",
       "                        <td id=\"T_31404_row3_col1\" class=\"data row3 col1\" >0.920</td>\n",
       "                        <td id=\"T_31404_row3_col2\" class=\"data row3 col2\" >0.030</td>\n",
       "                        <td id=\"T_31404_row3_col3\" class=\"data row3 col3\" >1.000</td>\n",
       "                        <td id=\"T_31404_row3_col4\" class=\"data row3 col4\" >0.727</td>\n",
       "                        <td id=\"T_31404_row3_col5\" class=\"data row3 col5\" >0.537</td>\n",
       "                        <td id=\"T_31404_row3_col6\" class=\"data row3 col6\" >-0.030</td>\n",
       "            </tr>\n",
       "            <tr>\n",
       "                        <th id=\"T_31404_level0_row4\" class=\"row_heading level0 row4\" >n_orders</th>\n",
       "                        <td id=\"T_31404_row4_col0\" class=\"data row4 col0\" >0.891</td>\n",
       "                        <td id=\"T_31404_row4_col1\" class=\"data row4 col1\" >0.937</td>\n",
       "                        <td id=\"T_31404_row4_col2\" class=\"data row4 col2\" >0.500</td>\n",
       "                        <td id=\"T_31404_row4_col3\" class=\"data row4 col3\" >0.727</td>\n",
       "                        <td id=\"T_31404_row4_col4\" class=\"data row4 col4\" >1.000</td>\n",
       "                        <td id=\"T_31404_row4_col5\" class=\"data row4 col5\" >-0.030</td>\n",
       "                        <td id=\"T_31404_row4_col6\" class=\"data row4 col6\" >0.101</td>\n",
       "            </tr>\n",
       "            <tr>\n",
       "                        <th id=\"T_31404_level0_row5\" class=\"row_heading level0 row5\" >prof_per_order</th>\n",
       "                        <td id=\"T_31404_row5_col0\" class=\"data row5 col0\" >0.370</td>\n",
       "                        <td id=\"T_31404_row5_col1\" class=\"data row5 col1\" >0.249</td>\n",
       "                        <td id=\"T_31404_row5_col2\" class=\"data row5 col2\" >-0.790</td>\n",
       "                        <td id=\"T_31404_row5_col3\" class=\"data row5 col3\" >0.537</td>\n",
       "                        <td id=\"T_31404_row5_col4\" class=\"data row5 col4\" >-0.030</td>\n",
       "                        <td id=\"T_31404_row5_col5\" class=\"data row5 col5\" >1.000</td>\n",
       "                        <td id=\"T_31404_row5_col6\" class=\"data row5 col6\" >-0.445</td>\n",
       "            </tr>\n",
       "            <tr>\n",
       "                        <th id=\"T_31404_level0_row6\" class=\"row_heading level0 row6\" >high_discount</th>\n",
       "                        <td id=\"T_31404_row6_col0\" class=\"data row6 col0\" >0.031</td>\n",
       "                        <td id=\"T_31404_row6_col1\" class=\"data row6 col1\" >0.060</td>\n",
       "                        <td id=\"T_31404_row6_col2\" class=\"data row6 col2\" >0.721</td>\n",
       "                        <td id=\"T_31404_row6_col3\" class=\"data row6 col3\" >-0.030</td>\n",
       "                        <td id=\"T_31404_row6_col4\" class=\"data row6 col4\" >0.101</td>\n",
       "                        <td id=\"T_31404_row6_col5\" class=\"data row6 col5\" >-0.445</td>\n",
       "                        <td id=\"T_31404_row6_col6\" class=\"data row6 col6\" >1.000</td>\n",
       "            </tr>\n",
       "    </tbody></table>"
      ],
      "text/plain": [
       "<pandas.io.formats.style.Styler at 0x7ffe08a03390>"
      ]
     },
     "execution_count": 32,
     "metadata": {},
     "output_type": "execute_result"
    }
   ],
   "source": [
    "markets.corr().style.background_gradient(cmap='coolwarm').format('{0:,.3f}')"
   ]
  },
  {
   "cell_type": "markdown",
   "metadata": {},
   "source": [
    "## Subcategories in the world"
   ]
  },
  {
   "cell_type": "code",
   "execution_count": 36,
   "metadata": {
    "scrolled": true
   },
   "outputs": [
    {
     "data": {
      "image/png": "[encoded data removed]",
      "text/plain": [
       "<Figure size 432x288 with 1 Axes>"
      ]
     },
     "metadata": {
      "needs_background": "light"
     },
     "output_type": "display_data"
    }
   ],
   "source": [
    "df.groupby('Sub-Category')['Sub-Category'].count().plot.bar(ylabel='times ordered');"
   ]
  },
  {
   "cell_type": "code",
   "execution_count": 37,
   "metadata": {},
   "outputs": [
    {
     "data": {
      "image/png": "[encoded data removed]",
      "text/plain": [
       "<Figure size 1080x360 with 2 Axes>"
      ]
     },
     "metadata": {
      "needs_background": "light"
     },
     "output_type": "display_data"
    }
   ],
   "source": [
    "df['per_unit_prof'] = df['Profit'] / df['Quantity']\n",
    "\n",
    "fig, axs = plt.subplots(1, 2, figsize=(15, 5))\n",
    "\n",
    "df.groupby('Sub-Category')['per_unit_prof'].mean().plot.bar(ax=axs[0], ylabel='Profit per Unit')\n",
    "df.groupby('Sub-Category')['Discount'].mean().plot.bar(ax=axs[1], rot=90, color='red', ylabel='Mean discount');"
   ]
  },
  {
   "cell_type": "markdown",
   "metadata": {},
   "source": [
    "## What if we lower the discount on the EMEA Market ?\n",
    "\n",
    "Then let's assume we lose part of the customers of this market.\n",
    "1. What is the total profit on the market? "
   ]
  },
  {
   "cell_type": "code",
   "execution_count": 38,
   "metadata": {
    "scrolled": true
   },
   "outputs": [
    {
     "name": "stdout",
     "output_type": "stream",
     "text": [
      "Profit on EMEA Market: 43897.97\n"
     ]
    }
   ],
   "source": [
    "temp = df[df['Market']=='EMEA']['Profit'].sum()\n",
    "print(f'Profit on EMEA Market: {round(temp, 2)}')"
   ]
  },
  {
   "cell_type": "code",
   "execution_count": 39,
   "metadata": {},
   "outputs": [
    {
     "name": "stderr",
     "output_type": "stream",
     "text": [
      "/opt/anaconda3/lib/python3.7/site-packages/ipykernel_launcher.py:3: SettingWithCopyWarning: \n",
      "A value is trying to be set on a copy of a slice from a DataFrame.\n",
      "Try using .loc[row_indexer,col_indexer] = value instead\n",
      "\n",
      "See the caveats in the documentation: https://pandas.pydata.org/pandas-docs/stable/user_guide/indexing.html#returning-a-view-versus-a-copy\n",
      "  This is separate from the ipykernel package so we can avoid doing imports until\n"
     ]
    },
    {
     "data": {
      "image/png": "[encoded data removed]",
      "text/plain": [
       "<Figure size 432x288 with 1 Axes>"
      ]
     },
     "metadata": {
      "needs_background": "light"
     },
     "output_type": "display_data"
    }
   ],
   "source": [
    "emea = df[df['Market']=='EMEA']\n",
    "emea.groupby('isProfitPos')['Profit'].count().plot.bar(rot=90, color='red')\n",
    "emea['per_unit_prof'] = emea['Profit'] / emea['Quantity']"
   ]
  },
  {
   "cell_type": "markdown",
   "metadata": {},
   "source": [
    "What products are most popular on EMEA?"
   ]
  },
  {
   "cell_type": "code",
   "execution_count": 40,
   "metadata": {
    "scrolled": false
   },
   "outputs": [
    {
     "data": {
      "text/plain": [
       "<matplotlib.axes._subplots.AxesSubplot at 0x7ffe68413910>"
      ]
     },
     "execution_count": 40,
     "metadata": {},
     "output_type": "execute_result"
    },
    {
     "data": {
      "image/png": "[encoded data removed]",
      "text/plain": [
       "<Figure size 1080x360 with 2 Axes>"
      ]
     },
     "metadata": {
      "needs_background": "light"
     },
     "output_type": "display_data"
    }
   ],
   "source": [
    "fig, axs = plt.subplots(1, 2, figsize=(15, 5))\n",
    "\n",
    "emea.groupby('Sub-Category')['Sub-Category'].count().plot.bar(ax=axs[0], ylabel='times oreders', title='EMEA')\n",
    "df.groupby('Sub-Category')['Sub-Category'].count().plot.bar(ax=axs[1], title='World')"
   ]
  },
  {
   "cell_type": "code",
   "execution_count": 41,
   "metadata": {},
   "outputs": [
    {
     "data": {
      "text/plain": [
       "<matplotlib.axes._subplots.AxesSubplot at 0x7ffe20a24190>"
      ]
     },
     "execution_count": 41,
     "metadata": {},
     "output_type": "execute_result"
    },
    {
     "data": {
      "image/png": "[encoded data removed]",
      "text/plain": [
       "<Figure size 1080x360 with 2 Axes>"
      ]
     },
     "metadata": {
      "needs_background": "light"
     },
     "output_type": "display_data"
    }
   ],
   "source": [
    "fig, axs = plt.subplots(1, 2, figsize=(15, 5))\n",
    "\n",
    "emea.groupby('Sub-Category')['per_unit_prof'].mean().plot.bar(ax=axs[0], ylabel='times oreders', title='EMEA')\n",
    "df.groupby('Sub-Category')['per_unit_prof'].mean().plot.bar(ax=axs[1], title='World')"
   ]
  },
  {
   "cell_type": "code",
   "execution_count": 42,
   "metadata": {
    "scrolled": false
   },
   "outputs": [
    {
     "data": {
      "image/png": "[encoded data removed]",
      "text/plain": [
       "<Figure size 1080x360 with 2 Axes>"
      ]
     },
     "metadata": {
      "needs_background": "light"
     },
     "output_type": "display_data"
    }
   ],
   "source": [
    "fig, axs = plt.subplots(1, 2, figsize=(15, 5))\n",
    "\n",
    "emea.groupby('Sub-Category')['Discount'].mean().plot.bar(ax=axs[0], rot=90, color='red',\n",
    "                                                         ylabel='Mean discount', title='EMEA')\n",
    "df.groupby('Sub-Category')['Discount'].mean().plot.bar(ax=axs[1], rot=90, color='red', title='World');"
   ]
  },
  {
   "cell_type": "code",
   "execution_count": null,
   "metadata": {},
   "outputs": [],
   "source": []
  },
  {
   "cell_type": "markdown",
   "metadata": {},
   "source": [
    "## Lets look at the countries and their average discount and their profit\n",
    "\n",
    "There are 147 countries. In 29 of them, there is a negative Profit"
   ]
  },
  {
   "cell_type": "code",
   "execution_count": 44,
   "metadata": {},
   "outputs": [
    {
     "data": {
      "text/html": [
       "<div>\n",
       "<style scoped>\n",
       "    .dataframe tbody tr th:only-of-type {\n",
       "        vertical-align: middle;\n",
       "    }\n",
       "\n",
       "    .dataframe tbody tr th {\n",
       "        vertical-align: top;\n",
       "    }\n",
       "\n",
       "    .dataframe thead th {\n",
       "        text-align: right;\n",
       "    }\n",
       "</style>\n",
       "<table border=\"1\" class=\"dataframe\">\n",
       "  <thead>\n",
       "    <tr style=\"text-align: right;\">\n",
       "      <th></th>\n",
       "      <th>Order Date</th>\n",
       "      <th>Ship Date</th>\n",
       "      <th>Ship Mode</th>\n",
       "      <th>Customer ID</th>\n",
       "      <th>Segment</th>\n",
       "      <th>City</th>\n",
       "      <th>Country</th>\n",
       "      <th>Market</th>\n",
       "      <th>Category</th>\n",
       "      <th>Sub-Category</th>\n",
       "      <th>...</th>\n",
       "      <th>Quantity</th>\n",
       "      <th>Discount</th>\n",
       "      <th>Profit</th>\n",
       "      <th>Shipping Cost</th>\n",
       "      <th>Order Priority</th>\n",
       "      <th>Sales_ABCD</th>\n",
       "      <th>Profit_ABCD</th>\n",
       "      <th>isProfitPos</th>\n",
       "      <th>Shipping Cost_ABCD</th>\n",
       "      <th>per_unit_prof</th>\n",
       "    </tr>\n",
       "  </thead>\n",
       "  <tbody>\n",
       "    <tr>\n",
       "      <th>0</th>\n",
       "      <td>2012-07-31</td>\n",
       "      <td>2012-07-31</td>\n",
       "      <td>Same Day</td>\n",
       "      <td>RH-19495</td>\n",
       "      <td>Consumer</td>\n",
       "      <td>New York City</td>\n",
       "      <td>United States</td>\n",
       "      <td>US</td>\n",
       "      <td>Technology</td>\n",
       "      <td>Accessories</td>\n",
       "      <td>...</td>\n",
       "      <td>7</td>\n",
       "      <td>0.0</td>\n",
       "      <td>762.1845</td>\n",
       "      <td>933.57</td>\n",
       "      <td>Critical</td>\n",
       "      <td>A</td>\n",
       "      <td>A</td>\n",
       "      <td>1</td>\n",
       "      <td>A</td>\n",
       "      <td>108.8835</td>\n",
       "    </tr>\n",
       "    <tr>\n",
       "      <th>1</th>\n",
       "      <td>2013-02-05</td>\n",
       "      <td>2013-02-07</td>\n",
       "      <td>Second Class</td>\n",
       "      <td>JR-16210</td>\n",
       "      <td>Corporate</td>\n",
       "      <td>Wollongong</td>\n",
       "      <td>Australia</td>\n",
       "      <td>APAC</td>\n",
       "      <td>Furniture</td>\n",
       "      <td>Chairs</td>\n",
       "      <td>...</td>\n",
       "      <td>9</td>\n",
       "      <td>0.1</td>\n",
       "      <td>-288.7650</td>\n",
       "      <td>923.63</td>\n",
       "      <td>Critical</td>\n",
       "      <td>A</td>\n",
       "      <td>D</td>\n",
       "      <td>0</td>\n",
       "      <td>A</td>\n",
       "      <td>-32.0850</td>\n",
       "    </tr>\n",
       "    <tr>\n",
       "      <th>2</th>\n",
       "      <td>2013-10-17</td>\n",
       "      <td>2013-10-18</td>\n",
       "      <td>First Class</td>\n",
       "      <td>CR-12730</td>\n",
       "      <td>Consumer</td>\n",
       "      <td>Brisbane</td>\n",
       "      <td>Australia</td>\n",
       "      <td>APAC</td>\n",
       "      <td>Technology</td>\n",
       "      <td>Phones</td>\n",
       "      <td>...</td>\n",
       "      <td>9</td>\n",
       "      <td>0.1</td>\n",
       "      <td>919.9710</td>\n",
       "      <td>915.49</td>\n",
       "      <td>Medium</td>\n",
       "      <td>A</td>\n",
       "      <td>A</td>\n",
       "      <td>1</td>\n",
       "      <td>A</td>\n",
       "      <td>102.2190</td>\n",
       "    </tr>\n",
       "  </tbody>\n",
       "</table>\n",
       "<p>3 rows × 21 columns</p>\n",
       "</div>"
      ],
      "text/plain": [
       "  Order Date  Ship Date     Ship Mode Customer ID    Segment           City  \\\n",
       "0 2012-07-31 2012-07-31      Same Day    RH-19495   Consumer  New York City   \n",
       "1 2013-02-05 2013-02-07  Second Class    JR-16210  Corporate     Wollongong   \n",
       "2 2013-10-17 2013-10-18   First Class    CR-12730   Consumer       Brisbane   \n",
       "\n",
       "         Country Market    Category Sub-Category  ...  Quantity  Discount  \\\n",
       "0  United States     US  Technology  Accessories  ...         7       0.0   \n",
       "1      Australia   APAC   Furniture       Chairs  ...         9       0.1   \n",
       "2      Australia   APAC  Technology       Phones  ...         9       0.1   \n",
       "\n",
       "     Profit  Shipping Cost  Order Priority Sales_ABCD Profit_ABCD isProfitPos  \\\n",
       "0  762.1845         933.57        Critical          A           A           1   \n",
       "1 -288.7650         923.63        Critical          A           D           0   \n",
       "2  919.9710         915.49          Medium          A           A           1   \n",
       "\n",
       "   Shipping Cost_ABCD per_unit_prof  \n",
       "0                   A      108.8835  \n",
       "1                   A      -32.0850  \n",
       "2                   A      102.2190  \n",
       "\n",
       "[3 rows x 21 columns]"
      ]
     },
     "execution_count": 44,
     "metadata": {},
     "output_type": "execute_result"
    }
   ],
   "source": [
    "df.head(3)"
   ]
  },
  {
   "cell_type": "code",
   "execution_count": 108,
   "metadata": {
    "scrolled": true
   },
   "outputs": [
    {
     "name": "stdout",
     "output_type": "stream",
     "text": [
      "0.14290754533046268\n"
     ]
    },
    {
     "data": {
      "text/html": [
       "<div>\n",
       "<style scoped>\n",
       "    .dataframe tbody tr th:only-of-type {\n",
       "        vertical-align: middle;\n",
       "    }\n",
       "\n",
       "    .dataframe tbody tr th {\n",
       "        vertical-align: top;\n",
       "    }\n",
       "\n",
       "    .dataframe thead th {\n",
       "        text-align: right;\n",
       "    }\n",
       "</style>\n",
       "<table border=\"1\" class=\"dataframe\">\n",
       "  <thead>\n",
       "    <tr style=\"text-align: right;\">\n",
       "      <th></th>\n",
       "      <th>Profit</th>\n",
       "      <th>Discount</th>\n",
       "      <th>Ship_Cost</th>\n",
       "      <th>high_discount</th>\n",
       "      <th>isProfPos</th>\n",
       "    </tr>\n",
       "    <tr>\n",
       "      <th>Country</th>\n",
       "      <th></th>\n",
       "      <th></th>\n",
       "      <th></th>\n",
       "      <th></th>\n",
       "      <th></th>\n",
       "    </tr>\n",
       "  </thead>\n",
       "  <tbody>\n",
       "    <tr>\n",
       "      <th>Turkey</th>\n",
       "      <td>-98447.23200</td>\n",
       "      <td>0.600000</td>\n",
       "      <td>8.464557</td>\n",
       "      <td>1</td>\n",
       "      <td>0</td>\n",
       "    </tr>\n",
       "    <tr>\n",
       "      <th>Nigeria</th>\n",
       "      <td>-80750.71800</td>\n",
       "      <td>0.700000</td>\n",
       "      <td>6.832166</td>\n",
       "      <td>1</td>\n",
       "      <td>0</td>\n",
       "    </tr>\n",
       "    <tr>\n",
       "      <th>Netherlands</th>\n",
       "      <td>-41070.07500</td>\n",
       "      <td>0.481839</td>\n",
       "      <td>20.702874</td>\n",
       "      <td>1</td>\n",
       "      <td>0</td>\n",
       "    </tr>\n",
       "    <tr>\n",
       "      <th>Honduras</th>\n",
       "      <td>-29482.37140</td>\n",
       "      <td>0.406833</td>\n",
       "      <td>13.564498</td>\n",
       "      <td>1</td>\n",
       "      <td>0</td>\n",
       "    </tr>\n",
       "    <tr>\n",
       "      <th>Pakistan</th>\n",
       "      <td>-22446.64800</td>\n",
       "      <td>0.444578</td>\n",
       "      <td>23.426064</td>\n",
       "      <td>1</td>\n",
       "      <td>0</td>\n",
       "    </tr>\n",
       "    <tr>\n",
       "      <th>Argentina</th>\n",
       "      <td>-18693.79672</td>\n",
       "      <td>0.433210</td>\n",
       "      <td>16.324005</td>\n",
       "      <td>1</td>\n",
       "      <td>0</td>\n",
       "    </tr>\n",
       "    <tr>\n",
       "      <th>Panama</th>\n",
       "      <td>-17723.45248</td>\n",
       "      <td>0.406299</td>\n",
       "      <td>13.958853</td>\n",
       "      <td>1</td>\n",
       "      <td>0</td>\n",
       "    </tr>\n",
       "    <tr>\n",
       "      <th>Sweden</th>\n",
       "      <td>-17519.36700</td>\n",
       "      <td>0.507882</td>\n",
       "      <td>15.953251</td>\n",
       "      <td>1</td>\n",
       "      <td>0</td>\n",
       "    </tr>\n",
       "    <tr>\n",
       "      <th>Philippines</th>\n",
       "      <td>-16128.22500</td>\n",
       "      <td>0.345888</td>\n",
       "      <td>26.259192</td>\n",
       "      <td>1</td>\n",
       "      <td>0</td>\n",
       "    </tr>\n",
       "    <tr>\n",
       "      <th>South Korea</th>\n",
       "      <td>-12792.83100</td>\n",
       "      <td>0.452907</td>\n",
       "      <td>21.432035</td>\n",
       "      <td>1</td>\n",
       "      <td>0</td>\n",
       "    </tr>\n",
       "    <tr>\n",
       "      <th>Venezuela</th>\n",
       "      <td>-11222.71044</td>\n",
       "      <td>0.409412</td>\n",
       "      <td>14.484335</td>\n",
       "      <td>1</td>\n",
       "      <td>0</td>\n",
       "    </tr>\n",
       "    <tr>\n",
       "      <th>Lithuania</th>\n",
       "      <td>-8966.11800</td>\n",
       "      <td>0.700000</td>\n",
       "      <td>19.868600</td>\n",
       "      <td>1</td>\n",
       "      <td>0</td>\n",
       "    </tr>\n",
       "    <tr>\n",
       "      <th>Portugal</th>\n",
       "      <td>-8703.06000</td>\n",
       "      <td>0.500000</td>\n",
       "      <td>20.112143</td>\n",
       "      <td>1</td>\n",
       "      <td>0</td>\n",
       "    </tr>\n",
       "    <tr>\n",
       "      <th>Dominican Republic</th>\n",
       "      <td>-7613.49872</td>\n",
       "      <td>0.242563</td>\n",
       "      <td>19.660468</td>\n",
       "      <td>1</td>\n",
       "      <td>0</td>\n",
       "    </tr>\n",
       "    <tr>\n",
       "      <th>Ireland</th>\n",
       "      <td>-7392.38100</td>\n",
       "      <td>0.502830</td>\n",
       "      <td>19.030755</td>\n",
       "      <td>1</td>\n",
       "      <td>0</td>\n",
       "    </tr>\n",
       "    <tr>\n",
       "      <th>Thailand</th>\n",
       "      <td>-7308.19500</td>\n",
       "      <td>0.362542</td>\n",
       "      <td>26.225525</td>\n",
       "      <td>1</td>\n",
       "      <td>0</td>\n",
       "    </tr>\n",
       "    <tr>\n",
       "      <th>Kazakhstan</th>\n",
       "      <td>-7099.89600</td>\n",
       "      <td>0.700000</td>\n",
       "      <td>4.972970</td>\n",
       "      <td>1</td>\n",
       "      <td>0</td>\n",
       "    </tr>\n",
       "    <tr>\n",
       "      <th>Peru</th>\n",
       "      <td>-5507.87628</td>\n",
       "      <td>0.407457</td>\n",
       "      <td>12.210074</td>\n",
       "      <td>1</td>\n",
       "      <td>0</td>\n",
       "    </tr>\n",
       "    <tr>\n",
       "      <th>Zimbabwe</th>\n",
       "      <td>-5428.78500</td>\n",
       "      <td>0.700000</td>\n",
       "      <td>5.952750</td>\n",
       "      <td>1</td>\n",
       "      <td>0</td>\n",
       "    </tr>\n",
       "    <tr>\n",
       "      <th>Denmark</th>\n",
       "      <td>-4282.04700</td>\n",
       "      <td>0.507692</td>\n",
       "      <td>13.632462</td>\n",
       "      <td>1</td>\n",
       "      <td>0</td>\n",
       "    </tr>\n",
       "    <tr>\n",
       "      <th>Haiti</th>\n",
       "      <td>-4187.31100</td>\n",
       "      <td>0.440442</td>\n",
       "      <td>12.716856</td>\n",
       "      <td>1</td>\n",
       "      <td>0</td>\n",
       "    </tr>\n",
       "    <tr>\n",
       "      <th>Yemen</th>\n",
       "      <td>-3706.45800</td>\n",
       "      <td>0.700000</td>\n",
       "      <td>9.554333</td>\n",
       "      <td>1</td>\n",
       "      <td>0</td>\n",
       "    </tr>\n",
       "    <tr>\n",
       "      <th>Turkmenistan</th>\n",
       "      <td>-3302.70900</td>\n",
       "      <td>0.700000</td>\n",
       "      <td>7.482400</td>\n",
       "      <td>1</td>\n",
       "      <td>0</td>\n",
       "    </tr>\n",
       "    <tr>\n",
       "      <th>Uganda</th>\n",
       "      <td>-2426.08500</td>\n",
       "      <td>0.700000</td>\n",
       "      <td>4.483514</td>\n",
       "      <td>1</td>\n",
       "      <td>0</td>\n",
       "    </tr>\n",
       "    <tr>\n",
       "      <th>Myanmar (Burma)</th>\n",
       "      <td>-2109.25830</td>\n",
       "      <td>0.236176</td>\n",
       "      <td>22.158897</td>\n",
       "      <td>1</td>\n",
       "      <td>0</td>\n",
       "    </tr>\n",
       "    <tr>\n",
       "      <th>Vietnam</th>\n",
       "      <td>-1870.23060</td>\n",
       "      <td>0.239434</td>\n",
       "      <td>28.997623</td>\n",
       "      <td>1</td>\n",
       "      <td>0</td>\n",
       "    </tr>\n",
       "    <tr>\n",
       "      <th>United Arab Emirates</th>\n",
       "      <td>-1036.86000</td>\n",
       "      <td>0.700000</td>\n",
       "      <td>7.200714</td>\n",
       "      <td>1</td>\n",
       "      <td>0</td>\n",
       "    </tr>\n",
       "    <tr>\n",
       "      <th>Papua New Guinea</th>\n",
       "      <td>-418.60500</td>\n",
       "      <td>0.431818</td>\n",
       "      <td>13.506818</td>\n",
       "      <td>1</td>\n",
       "      <td>0</td>\n",
       "    </tr>\n",
       "    <tr>\n",
       "      <th>Tajikistan</th>\n",
       "      <td>-262.86600</td>\n",
       "      <td>0.700000</td>\n",
       "      <td>6.026667</td>\n",
       "      <td>1</td>\n",
       "      <td>0</td>\n",
       "    </tr>\n",
       "  </tbody>\n",
       "</table>\n",
       "</div>"
      ],
      "text/plain": [
       "                           Profit  Discount  Ship_Cost  high_discount  \\\n",
       "Country                                                                 \n",
       "Turkey               -98447.23200  0.600000   8.464557              1   \n",
       "Nigeria              -80750.71800  0.700000   6.832166              1   \n",
       "Netherlands          -41070.07500  0.481839  20.702874              1   \n",
       "Honduras             -29482.37140  0.406833  13.564498              1   \n",
       "Pakistan             -22446.64800  0.444578  23.426064              1   \n",
       "Argentina            -18693.79672  0.433210  16.324005              1   \n",
       "Panama               -17723.45248  0.406299  13.958853              1   \n",
       "Sweden               -17519.36700  0.507882  15.953251              1   \n",
       "Philippines          -16128.22500  0.345888  26.259192              1   \n",
       "South Korea          -12792.83100  0.452907  21.432035              1   \n",
       "Venezuela            -11222.71044  0.409412  14.484335              1   \n",
       "Lithuania             -8966.11800  0.700000  19.868600              1   \n",
       "Portugal              -8703.06000  0.500000  20.112143              1   \n",
       "Dominican Republic    -7613.49872  0.242563  19.660468              1   \n",
       "Ireland               -7392.38100  0.502830  19.030755              1   \n",
       "Thailand              -7308.19500  0.362542  26.225525              1   \n",
       "Kazakhstan            -7099.89600  0.700000   4.972970              1   \n",
       "Peru                  -5507.87628  0.407457  12.210074              1   \n",
       "Zimbabwe              -5428.78500  0.700000   5.952750              1   \n",
       "Denmark               -4282.04700  0.507692  13.632462              1   \n",
       "Haiti                 -4187.31100  0.440442  12.716856              1   \n",
       "Yemen                 -3706.45800  0.700000   9.554333              1   \n",
       "Turkmenistan          -3302.70900  0.700000   7.482400              1   \n",
       "Uganda                -2426.08500  0.700000   4.483514              1   \n",
       "Myanmar (Burma)       -2109.25830  0.236176  22.158897              1   \n",
       "Vietnam               -1870.23060  0.239434  28.997623              1   \n",
       "United Arab Emirates  -1036.86000  0.700000   7.200714              1   \n",
       "Papua New Guinea       -418.60500  0.431818  13.506818              1   \n",
       "Tajikistan             -262.86600  0.700000   6.026667              1   \n",
       "\n",
       "                      isProfPos  \n",
       "Country                          \n",
       "Turkey                        0  \n",
       "Nigeria                       0  \n",
       "Netherlands                   0  \n",
       "Honduras                      0  \n",
       "Pakistan                      0  \n",
       "Argentina                     0  \n",
       "Panama                        0  \n",
       "Sweden                        0  \n",
       "Philippines                   0  \n",
       "South Korea                   0  \n",
       "Venezuela                     0  \n",
       "Lithuania                     0  \n",
       "Portugal                      0  \n",
       "Dominican Republic            0  \n",
       "Ireland                       0  \n",
       "Thailand                      0  \n",
       "Kazakhstan                    0  \n",
       "Peru                          0  \n",
       "Zimbabwe                      0  \n",
       "Denmark                       0  \n",
       "Haiti                         0  \n",
       "Yemen                         0  \n",
       "Turkmenistan                  0  \n",
       "Uganda                        0  \n",
       "Myanmar (Burma)               0  \n",
       "Vietnam                       0  \n",
       "United Arab Emirates          0  \n",
       "Papua New Guinea              0  \n",
       "Tajikistan                    0  "
      ]
     },
     "execution_count": 108,
     "metadata": {},
     "output_type": "execute_result"
    }
   ],
   "source": [
    "temp = df.groupby('Country')['Profit'].sum()\n",
    "\n",
    "countries = pd.DataFrame(temp)\n",
    "countries['Discount'] = df.groupby('Country')['Discount'].mean().values\n",
    "countries['Ship_Cost'] = df.groupby('Country')['Shipping Cost'].mean().values\n",
    "\n",
    "countries.sort_values('Profit', inplace=True)\n",
    "\n",
    "mean_disc = df['Discount'].mean()\n",
    "print(mean_disc)\n",
    "countries['high_discount'] = countries['Discount'].apply(lambda x: 1 if x > mean_disc else 0)\n",
    "\n",
    "countries['isProfPos'] = countries['Profit'].apply(lambda x: 1 if x > 0 else 0)\n",
    "\n",
    "countries.head(29)"
   ]
  },
  {
   "cell_type": "code",
   "execution_count": 74,
   "metadata": {},
   "outputs": [
    {
     "name": "stdout",
     "output_type": "stream",
     "text": [
      "['EMEA', 'Africa', 'EU', 'LATAM', 'APAC', 'LATAM', 'LATAM', 'EU', 'APAC', 'APAC', 'LATAM', 'EMEA', 'EU', 'LATAM', 'EU', 'APAC', 'EMEA', 'LATAM', 'Africa', 'EU', 'LATAM', 'EMEA', 'EMEA', 'Africa', 'APAC', 'APAC', 'EMEA', 'APAC', 'EMEA']\n"
     ]
    }
   ],
   "source": [
    "bad_countries = list(countries.index[:29])\n",
    "\n",
    "profit = df['Profit'].sum()\n",
    "\n",
    "# на каких рынках эти страны\n",
    "markets = []\n",
    "for c in bad_countries:\n",
    "    for i in range(len(df)):\n",
    "        if df.iloc[i, 6] == c:\n",
    "            markets.append(df.iloc[i, 7])\n",
    "            break\n",
    "print(markets)"
   ]
  },
  {
   "cell_type": "code",
   "execution_count": 75,
   "metadata": {},
   "outputs": [
    {
     "data": {
      "text/plain": [
       "<BarContainer object of 5 artists>"
      ]
     },
     "execution_count": 75,
     "metadata": {},
     "output_type": "execute_result"
    },
    {
     "data": {
      "image/png": "[encoded data removed]",
      "text/plain": [
       "<Figure size 432x288 with 1 Axes>"
      ]
     },
     "metadata": {
      "needs_background": "light"
     },
     "output_type": "display_data"
    }
   ],
   "source": [
    "markets = np.unique(markets, return_counts=True)\n",
    "plt.bar(markets[0], markets[1], color='orange')"
   ]
  },
  {
   "cell_type": "code",
   "execution_count": 105,
   "metadata": {},
   "outputs": [
    {
     "data": {
      "text/plain": [
       "0.30522160311004076"
      ]
     },
     "execution_count": 105,
     "metadata": {},
     "output_type": "execute_result"
    }
   ],
   "source": [
    "bad_countries = np.array(bad_countries)\n",
    "good_countries = df[~df['Country'].isin(bad_countries)]\n",
    "(good_countries['Profit'].sum() - profit) / profit"
   ]
  },
  {
   "cell_type": "code",
   "execution_count": 46,
   "metadata": {},
   "outputs": [
    {
     "data": {
      "text/html": [
       "<div>\n",
       "<style scoped>\n",
       "    .dataframe tbody tr th:only-of-type {\n",
       "        vertical-align: middle;\n",
       "    }\n",
       "\n",
       "    .dataframe tbody tr th {\n",
       "        vertical-align: top;\n",
       "    }\n",
       "\n",
       "    .dataframe thead th {\n",
       "        text-align: right;\n",
       "    }\n",
       "</style>\n",
       "<table border=\"1\" class=\"dataframe\">\n",
       "  <thead>\n",
       "    <tr style=\"text-align: right;\">\n",
       "      <th></th>\n",
       "      <th>Profit</th>\n",
       "      <th>Discount</th>\n",
       "      <th>Ship_Cost</th>\n",
       "      <th>high_discount</th>\n",
       "      <th>isProfPos</th>\n",
       "    </tr>\n",
       "    <tr>\n",
       "      <th>Country</th>\n",
       "      <th></th>\n",
       "      <th></th>\n",
       "      <th></th>\n",
       "      <th></th>\n",
       "      <th></th>\n",
       "    </tr>\n",
       "  </thead>\n",
       "  <tbody>\n",
       "    <tr>\n",
       "      <th>India</th>\n",
       "      <td>129071.8350</td>\n",
       "      <td>0.017685</td>\n",
       "      <td>39.730367</td>\n",
       "      <td>0</td>\n",
       "      <td>1</td>\n",
       "    </tr>\n",
       "    <tr>\n",
       "      <th>China</th>\n",
       "      <td>150683.0850</td>\n",
       "      <td>0.014309</td>\n",
       "      <td>41.998415</td>\n",
       "      <td>0</td>\n",
       "      <td>1</td>\n",
       "    </tr>\n",
       "    <tr>\n",
       "      <th>United States</th>\n",
       "      <td>286397.0217</td>\n",
       "      <td>0.156203</td>\n",
       "      <td>23.831678</td>\n",
       "      <td>1</td>\n",
       "      <td>1</td>\n",
       "    </tr>\n",
       "  </tbody>\n",
       "</table>\n",
       "</div>"
      ],
      "text/plain": [
       "                    Profit  Discount  Ship_Cost  high_discount  isProfPos\n",
       "Country                                                                  \n",
       "India          129071.8350  0.017685  39.730367              0          1\n",
       "China          150683.0850  0.014309  41.998415              0          1\n",
       "United States  286397.0217  0.156203  23.831678              1          1"
      ]
     },
     "execution_count": 46,
     "metadata": {},
     "output_type": "execute_result"
    }
   ],
   "source": [
    "countries.tail(3)"
   ]
  },
  {
   "cell_type": "code",
   "execution_count": 47,
   "metadata": {
    "scrolled": true
   },
   "outputs": [
    {
     "data": {
      "text/html": [
       "<style  type=\"text/css\" >\n",
       "#T_b7c1b_row0_col0,#T_b7c1b_row1_col1,#T_b7c1b_row2_col2,#T_b7c1b_row3_col3,#T_b7c1b_row4_col4{\n",
       "            background-color:  #b40426;\n",
       "            color:  #f1f1f1;\n",
       "        }#T_b7c1b_row0_col1{\n",
       "            background-color:  #afcafc;\n",
       "            color:  #000000;\n",
       "        }#T_b7c1b_row0_col2{\n",
       "            background-color:  #a1c0ff;\n",
       "            color:  #000000;\n",
       "        }#T_b7c1b_row0_col3{\n",
       "            background-color:  #c0d4f5;\n",
       "            color:  #000000;\n",
       "        }#T_b7c1b_row0_col4{\n",
       "            background-color:  #f7ba9f;\n",
       "            color:  #000000;\n",
       "        }#T_b7c1b_row1_col0,#T_b7c1b_row1_col2,#T_b7c1b_row1_col4,#T_b7c1b_row4_col1,#T_b7c1b_row4_col3{\n",
       "            background-color:  #3b4cc0;\n",
       "            color:  #f1f1f1;\n",
       "        }#T_b7c1b_row1_col3,#T_b7c1b_row3_col1{\n",
       "            background-color:  #c53334;\n",
       "            color:  #f1f1f1;\n",
       "        }#T_b7c1b_row2_col0{\n",
       "            background-color:  #9abbff;\n",
       "            color:  #000000;\n",
       "        }#T_b7c1b_row2_col1{\n",
       "            background-color:  #a9c6fd;\n",
       "            color:  #000000;\n",
       "        }#T_b7c1b_row2_col3{\n",
       "            background-color:  #aec9fc;\n",
       "            color:  #000000;\n",
       "        }#T_b7c1b_row2_col4{\n",
       "            background-color:  #f4c5ad;\n",
       "            color:  #000000;\n",
       "        }#T_b7c1b_row3_col0{\n",
       "            background-color:  #5572df;\n",
       "            color:  #000000;\n",
       "        }#T_b7c1b_row3_col2{\n",
       "            background-color:  #445acc;\n",
       "            color:  #f1f1f1;\n",
       "        }#T_b7c1b_row3_col4{\n",
       "            background-color:  #3e51c5;\n",
       "            color:  #f1f1f1;\n",
       "        }#T_b7c1b_row4_col0{\n",
       "            background-color:  #d6dce4;\n",
       "            color:  #000000;\n",
       "        }#T_b7c1b_row4_col2{\n",
       "            background-color:  #cbd8ee;\n",
       "            color:  #000000;\n",
       "        }</style><table id=\"T_b7c1b_\" ><thead>    <tr>        <th class=\"blank level0\" ></th>        <th class=\"col_heading level0 col0\" >Profit</th>        <th class=\"col_heading level0 col1\" >Discount</th>        <th class=\"col_heading level0 col2\" >Ship_Cost</th>        <th class=\"col_heading level0 col3\" >high_discount</th>        <th class=\"col_heading level0 col4\" >isProfPos</th>    </tr></thead><tbody>\n",
       "                <tr>\n",
       "                        <th id=\"T_b7c1b_level0_row0\" class=\"row_heading level0 row0\" >Profit</th>\n",
       "                        <td id=\"T_b7c1b_row0_col0\" class=\"data row0 col0\" >1.000</td>\n",
       "                        <td id=\"T_b7c1b_row0_col1\" class=\"data row0 col1\" >-0.255</td>\n",
       "                        <td id=\"T_b7c1b_row0_col2\" class=\"data row0 col2\" >0.104</td>\n",
       "                        <td id=\"T_b7c1b_row0_col3\" class=\"data row0 col3\" >-0.145</td>\n",
       "                        <td id=\"T_b7c1b_row0_col4\" class=\"data row0 col4\" >0.339</td>\n",
       "            </tr>\n",
       "            <tr>\n",
       "                        <th id=\"T_b7c1b_level0_row1\" class=\"row_heading level0 row1\" >Discount</th>\n",
       "                        <td id=\"T_b7c1b_row1_col0\" class=\"data row1 col0\" >-0.255</td>\n",
       "                        <td id=\"T_b7c1b_row1_col1\" class=\"data row1 col1\" >1.000</td>\n",
       "                        <td id=\"T_b7c1b_row1_col2\" class=\"data row1 col2\" >-0.289</td>\n",
       "                        <td id=\"T_b7c1b_row1_col3\" class=\"data row1 col3\" >0.905</td>\n",
       "                        <td id=\"T_b7c1b_row1_col4\" class=\"data row1 col4\" >-0.929</td>\n",
       "            </tr>\n",
       "            <tr>\n",
       "                        <th id=\"T_b7c1b_level0_row2\" class=\"row_heading level0 row2\" >Ship_Cost</th>\n",
       "                        <td id=\"T_b7c1b_row2_col0\" class=\"data row2 col0\" >0.104</td>\n",
       "                        <td id=\"T_b7c1b_row2_col1\" class=\"data row2 col1\" >-0.289</td>\n",
       "                        <td id=\"T_b7c1b_row2_col2\" class=\"data row2 col2\" >1.000</td>\n",
       "                        <td id=\"T_b7c1b_row2_col3\" class=\"data row2 col3\" >-0.247</td>\n",
       "                        <td id=\"T_b7c1b_row2_col4\" class=\"data row2 col4\" >0.272</td>\n",
       "            </tr>\n",
       "            <tr>\n",
       "                        <th id=\"T_b7c1b_level0_row3\" class=\"row_heading level0 row3\" >high_discount</th>\n",
       "                        <td id=\"T_b7c1b_row3_col0\" class=\"data row3 col0\" >-0.145</td>\n",
       "                        <td id=\"T_b7c1b_row3_col1\" class=\"data row3 col1\" >0.905</td>\n",
       "                        <td id=\"T_b7c1b_row3_col2\" class=\"data row3 col2\" >-0.247</td>\n",
       "                        <td id=\"T_b7c1b_row3_col3\" class=\"data row3 col3\" >1.000</td>\n",
       "                        <td id=\"T_b7c1b_row3_col4\" class=\"data row3 col4\" >-0.904</td>\n",
       "            </tr>\n",
       "            <tr>\n",
       "                        <th id=\"T_b7c1b_level0_row4\" class=\"row_heading level0 row4\" >isProfPos</th>\n",
       "                        <td id=\"T_b7c1b_row4_col0\" class=\"data row4 col0\" >0.339</td>\n",
       "                        <td id=\"T_b7c1b_row4_col1\" class=\"data row4 col1\" >-0.929</td>\n",
       "                        <td id=\"T_b7c1b_row4_col2\" class=\"data row4 col2\" >0.272</td>\n",
       "                        <td id=\"T_b7c1b_row4_col3\" class=\"data row4 col3\" >-0.904</td>\n",
       "                        <td id=\"T_b7c1b_row4_col4\" class=\"data row4 col4\" >1.000</td>\n",
       "            </tr>\n",
       "    </tbody></table>"
      ],
      "text/plain": [
       "<pandas.io.formats.style.Styler at 0x7ffe20a20f50>"
      ]
     },
     "execution_count": 47,
     "metadata": {},
     "output_type": "execute_result"
    }
   ],
   "source": [
    "countries.corr().style.background_gradient(cmap='coolwarm').format('{0:,.3f}')"
   ]
  },
  {
   "cell_type": "markdown",
   "metadata": {},
   "source": [
    "### The most common goods in the countries with negative Profit vs positive Profit"
   ]
  },
  {
   "cell_type": "code",
   "execution_count": null,
   "metadata": {},
   "outputs": [],
   "source": [
    "countries.group"
   ]
  },
  {
   "cell_type": "markdown",
   "metadata": {},
   "source": [
    "### Look at Turkey for example "
   ]
  },
  {
   "cell_type": "code",
   "execution_count": 48,
   "metadata": {},
   "outputs": [
    {
     "data": {
      "text/html": [
       "<div>\n",
       "<style scoped>\n",
       "    .dataframe tbody tr th:only-of-type {\n",
       "        vertical-align: middle;\n",
       "    }\n",
       "\n",
       "    .dataframe tbody tr th {\n",
       "        vertical-align: top;\n",
       "    }\n",
       "\n",
       "    .dataframe thead th {\n",
       "        text-align: right;\n",
       "    }\n",
       "</style>\n",
       "<table border=\"1\" class=\"dataframe\">\n",
       "  <thead>\n",
       "    <tr style=\"text-align: right;\">\n",
       "      <th></th>\n",
       "      <th>Profit</th>\n",
       "    </tr>\n",
       "    <tr>\n",
       "      <th>City</th>\n",
       "      <th></th>\n",
       "    </tr>\n",
       "  </thead>\n",
       "  <tbody>\n",
       "    <tr>\n",
       "      <th>Felahiye</th>\n",
       "      <td>-0.702</td>\n",
       "    </tr>\n",
       "    <tr>\n",
       "      <th>Afyon</th>\n",
       "      <td>-6.432</td>\n",
       "    </tr>\n",
       "    <tr>\n",
       "      <th>Cubuk</th>\n",
       "      <td>-6.933</td>\n",
       "    </tr>\n",
       "    <tr>\n",
       "      <th>Aydin</th>\n",
       "      <td>-9.382</td>\n",
       "    </tr>\n",
       "    <tr>\n",
       "      <th>Ardahan</th>\n",
       "      <td>-10.776</td>\n",
       "    </tr>\n",
       "  </tbody>\n",
       "</table>\n",
       "</div>"
      ],
      "text/plain": [
       "          Profit\n",
       "City            \n",
       "Felahiye  -0.702\n",
       "Afyon     -6.432\n",
       "Cubuk     -6.933\n",
       "Aydin     -9.382\n",
       "Ardahan  -10.776"
      ]
     },
     "execution_count": 48,
     "metadata": {},
     "output_type": "execute_result"
    }
   ],
   "source": [
    "turkey = df[df['Country'] == 'Turkey']\n",
    "\n",
    "temp = pd.DataFrame(turkey.groupby('City')['Profit'].mean())\n",
    "temp.sort_values('Profit', ascending=False).head()"
   ]
  },
  {
   "cell_type": "markdown",
   "metadata": {},
   "source": [
    "### All cities in Turkey bring negative profit"
   ]
  },
  {
   "cell_type": "code",
   "execution_count": 49,
   "metadata": {},
   "outputs": [
    {
     "data": {
      "text/plain": [
       "<matplotlib.axes._subplots.AxesSubplot at 0x7ffe4b467590>"
      ]
     },
     "execution_count": 49,
     "metadata": {},
     "output_type": "execute_result"
    },
    {
     "data": {
      "image/png": "[encoded data removed]",
      "text/plain": [
       "<Figure size 1296x288 with 3 Axes>"
      ]
     },
     "metadata": {
      "needs_background": "light"
     },
     "output_type": "display_data"
    }
   ],
   "source": [
    "us = df[df['Country'] == 'United States']\n",
    "\n",
    "fig, axs = plt.subplots(1, 3, figsize=(18, 4))\n",
    "\n",
    "\n",
    "turkey.groupby('Sub-Category')['Sub-Category'].count().plot.bar(ax=axs[0], ylabel='times oreders', title='Turkey')\n",
    "us.groupby('Sub-Category')['Sub-Category'].count().plot.bar(ax=axs[1], title='US')\n",
    "df.groupby('Sub-Category')['Sub-Category'].count().plot.bar(ax=axs[2], title='World')"
   ]
  },
  {
   "cell_type": "code",
   "execution_count": 50,
   "metadata": {},
   "outputs": [
    {
     "data": {
      "image/png": "[encoded data removed]",
      "text/plain": [
       "<Figure size 1296x288 with 3 Axes>"
      ]
     },
     "metadata": {
      "needs_background": "light"
     },
     "output_type": "display_data"
    }
   ],
   "source": [
    "fig, axs = plt.subplots(1, 3, figsize=(18, 4))\n",
    "\n",
    "turkey.groupby('Sub-Category')['per_unit_prof'].mean().plot.bar(ax=axs[0], ylabel='Profit per unit', title='Turkey')\n",
    "us.groupby('Sub-Category')['per_unit_prof'].mean().plot.bar(ax=axs[1], title='US')\n",
    "df.groupby('Sub-Category')['per_unit_prof'].mean().plot.bar(ax=axs[2], title='World');"
   ]
  },
  {
   "cell_type": "code",
   "execution_count": 51,
   "metadata": {},
   "outputs": [
    {
     "data": {
      "image/png": "[encoded data removed]",
      "text/plain": [
       "<Figure size 1296x288 with 3 Axes>"
      ]
     },
     "metadata": {
      "needs_background": "light"
     },
     "output_type": "display_data"
    }
   ],
   "source": [
    "fig, axs = plt.subplots(1, 3, figsize=(18, 4))\n",
    "\n",
    "li = us = df[df['Country'] == 'Lithuania']\n",
    "kh = us = df[df['Country'] == 'Kazakhstan']\n",
    "\n",
    "turkey.groupby('Sub-Category')['Discount'].mean().plot.bar(ax=axs[0], ylabel='Mean Discount', title='Turkey')\n",
    "li.groupby('Sub-Category')['Discount'].mean().plot.bar(ax=axs[1], title='US')\n",
    "kh.groupby('Sub-Category')['Discount'].mean().plot.bar(ax=axs[2], title='World');"
   ]
  },
  {
   "cell_type": "markdown",
   "metadata": {},
   "source": [
    "## What if we lower the discounts ?"
   ]
  },
  {
   "cell_type": "code",
   "execution_count": null,
   "metadata": {},
   "outputs": [],
   "source": []
  },
  {
   "cell_type": "code",
   "execution_count": null,
   "metadata": {},
   "outputs": [],
   "source": [
    "temp = pd.DataFrame(df[df['Market'] == 'EMEA'].groupby('Country')['Profit'].sum())\n",
    "temp = temp.sort_values('Profit')\n",
    "temp.head()"
   ]
  },
  {
   "cell_type": "code",
   "execution_count": null,
   "metadata": {},
   "outputs": [],
   "source": [
    "li = df[df['Country'] == 'Turkey']\n",
    "\n",
    "li.groupby('Sub-Category')['Discount'].mean().plot.bar(ylabel='times oreders', title='Turkey')"
   ]
  },
  {
   "cell_type": "code",
   "execution_count": null,
   "metadata": {},
   "outputs": [],
   "source": [
    "li"
   ]
  },
  {
   "cell_type": "code",
   "execution_count": null,
   "metadata": {},
   "outputs": [],
   "source": []
  },
  {
   "cell_type": "code",
   "execution_count": null,
   "metadata": {},
   "outputs": [],
   "source": []
  },
  {
   "cell_type": "code",
   "execution_count": null,
   "metadata": {},
   "outputs": [],
   "source": []
  },
  {
   "cell_type": "code",
   "execution_count": null,
   "metadata": {},
   "outputs": [],
   "source": []
  },
  {
   "cell_type": "code",
   "execution_count": null,
   "metadata": {},
   "outputs": [],
   "source": []
  },
  {
   "cell_type": "code",
   "execution_count": null,
   "metadata": {},
   "outputs": [],
   "source": []
  },
  {
   "cell_type": "code",
   "execution_count": null,
   "metadata": {},
   "outputs": [],
   "source": []
  },
  {
   "cell_type": "code",
   "execution_count": null,
   "metadata": {},
   "outputs": [],
   "source": []
  },
  {
   "cell_type": "code",
   "execution_count": null,
   "metadata": {},
   "outputs": [],
   "source": []
  },
  {
   "cell_type": "code",
   "execution_count": null,
   "metadata": {},
   "outputs": [],
   "source": []
  },
  {
   "cell_type": "code",
   "execution_count": null,
   "metadata": {},
   "outputs": [],
   "source": []
  },
  {
   "cell_type": "code",
   "execution_count": null,
   "metadata": {},
   "outputs": [],
   "source": []
  },
  {
   "cell_type": "code",
   "execution_count": null,
   "metadata": {},
   "outputs": [],
   "source": []
  },
  {
   "cell_type": "code",
   "execution_count": null,
   "metadata": {},
   "outputs": [],
   "source": []
  }
 ],
 "metadata": {
  "kernelspec": {
   "display_name": "Python 3",
   "language": "python",
   "name": "python3"
  },
  "language_info": {
   "codemirror_mode": {
    "name": "ipython",
    "version": 3
   },
   "file_extension": ".py",
   "mimetype": "text/x-python",
   "name": "python",
   "nbconvert_exporter": "python",
   "pygments_lexer": "ipython3",
   "version": "3.7.4"
  }
 },
 "nbformat": 4,
 "nbformat_minor": 2
}
