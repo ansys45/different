{
 "cells": [
  {
   "cell_type": "code",
   "execution_count": 467,
   "metadata": {},
   "outputs": [],
   "source": [
    "import pandas as pd\n",
    "import numpy as np\n",
    "import warnings\n",
    "warnings.filterwarnings('ignore')\n",
    "\n",
    "# load data \n",
    "data = pd.read_excel('ST2187_coursework_dataset_2020-21.xlsx')\n",
    "\n",
    "# delete unnecessary columns\n",
    "bad_columns = ['Row ID', 'Order ID', 'Customer Name', \n",
    "               'State', 'Postal Code', 'Product Name', 'Segment',\n",
    "               'Ship Date', 'Ship Mode', 'Region']\n",
    "\n",
    "data.drop(bad_columns, axis=1, inplace=True)\n",
    "\n",
    "# sort by date\n",
    "data.sort_values('Order Date', inplace=True)\n",
    "data = data.reset_index(drop=True)\n",
    "\n",
    "# add new columns\n",
    "data['isProfitPos'] = data['Profit'].apply(lambda x: 1 if x > 0 else 0)\n",
    "\n",
    "# devide by years\n",
    "df11 = data[data['Order Date'] < '2012-01-01']\n",
    "df12 = data[(data['Order Date'] > '2011-12-31') & (data['Order Date'] < '2013-01-01')]\n",
    "df13 = data[(data['Order Date'] > '2012-12-31') & (data['Order Date'] < '2014-01-01')]\n",
    "df = data[data['Order Date'] > '2013-12-31']"
   ]
  },
  {
   "cell_type": "code",
   "execution_count": 468,
   "metadata": {},
   "outputs": [],
   "source": [
    "data['year'] = data['Order Date'].apply(lambda x: int(x.strftime(\"%Y\")))\n",
    "# data.to_excel('data.xlsx')"
   ]
  },
  {
   "cell_type": "code",
   "execution_count": 263,
   "metadata": {
    "scrolled": true
   },
   "outputs": [
    {
     "data": {
      "text/html": [
       "<div>\n",
       "<style scoped>\n",
       "    .dataframe tbody tr th:only-of-type {\n",
       "        vertical-align: middle;\n",
       "    }\n",
       "\n",
       "    .dataframe tbody tr th {\n",
       "        vertical-align: top;\n",
       "    }\n",
       "\n",
       "    .dataframe thead th {\n",
       "        text-align: right;\n",
       "    }\n",
       "</style>\n",
       "<table border=\"1\" class=\"dataframe\">\n",
       "  <thead>\n",
       "    <tr style=\"text-align: right;\">\n",
       "      <th></th>\n",
       "      <th>Order Date</th>\n",
       "      <th>City</th>\n",
       "      <th>Country</th>\n",
       "      <th>Market</th>\n",
       "      <th>Product ID</th>\n",
       "      <th>Category</th>\n",
       "      <th>Sub-Category</th>\n",
       "      <th>Sales</th>\n",
       "      <th>Quantity</th>\n",
       "      <th>Discount</th>\n",
       "      <th>Profit</th>\n",
       "      <th>Shipping Cost</th>\n",
       "      <th>Order Priority</th>\n",
       "      <th>isProfitPos</th>\n",
       "    </tr>\n",
       "  </thead>\n",
       "  <tbody>\n",
       "    <tr>\n",
       "      <th>33759</th>\n",
       "      <td>2014-01-01</td>\n",
       "      <td>Hangzhou</td>\n",
       "      <td>China</td>\n",
       "      <td>APAC</td>\n",
       "      <td>OFF-LA-10003396</td>\n",
       "      <td>Office Supplies</td>\n",
       "      <td>Labels</td>\n",
       "      <td>39.8700</td>\n",
       "      <td>3</td>\n",
       "      <td>0.00</td>\n",
       "      <td>8.7300</td>\n",
       "      <td>5.62</td>\n",
       "      <td>High</td>\n",
       "      <td>1</td>\n",
       "    </tr>\n",
       "    <tr>\n",
       "      <th>33760</th>\n",
       "      <td>2014-01-01</td>\n",
       "      <td>Melbourne</td>\n",
       "      <td>Australia</td>\n",
       "      <td>APAC</td>\n",
       "      <td>OFF-EN-10002035</td>\n",
       "      <td>Office Supplies</td>\n",
       "      <td>Envelopes</td>\n",
       "      <td>203.3100</td>\n",
       "      <td>6</td>\n",
       "      <td>0.10</td>\n",
       "      <td>13.4100</td>\n",
       "      <td>16.61</td>\n",
       "      <td>Medium</td>\n",
       "      <td>1</td>\n",
       "    </tr>\n",
       "    <tr>\n",
       "      <th>33761</th>\n",
       "      <td>2014-01-01</td>\n",
       "      <td>Pantin</td>\n",
       "      <td>France</td>\n",
       "      <td>EU</td>\n",
       "      <td>TEC-MA-10001777</td>\n",
       "      <td>Technology</td>\n",
       "      <td>Machines</td>\n",
       "      <td>677.4075</td>\n",
       "      <td>3</td>\n",
       "      <td>0.15</td>\n",
       "      <td>-111.6225</td>\n",
       "      <td>104.69</td>\n",
       "      <td>High</td>\n",
       "      <td>0</td>\n",
       "    </tr>\n",
       "    <tr>\n",
       "      <th>33762</th>\n",
       "      <td>2014-01-01</td>\n",
       "      <td>Anaheim</td>\n",
       "      <td>United States</td>\n",
       "      <td>US</td>\n",
       "      <td>TEC-PH-10002563</td>\n",
       "      <td>Technology</td>\n",
       "      <td>Phones</td>\n",
       "      <td>302.3760</td>\n",
       "      <td>3</td>\n",
       "      <td>0.20</td>\n",
       "      <td>22.6782</td>\n",
       "      <td>24.99</td>\n",
       "      <td>Medium</td>\n",
       "      <td>1</td>\n",
       "    </tr>\n",
       "    <tr>\n",
       "      <th>33763</th>\n",
       "      <td>2014-01-01</td>\n",
       "      <td>Jacksonville</td>\n",
       "      <td>United States</td>\n",
       "      <td>US</td>\n",
       "      <td>OFF-PA-10002250</td>\n",
       "      <td>Office Supplies</td>\n",
       "      <td>Paper</td>\n",
       "      <td>23.4800</td>\n",
       "      <td>5</td>\n",
       "      <td>0.20</td>\n",
       "      <td>8.2180</td>\n",
       "      <td>1.55</td>\n",
       "      <td>Medium</td>\n",
       "      <td>1</td>\n",
       "    </tr>\n",
       "  </tbody>\n",
       "</table>\n",
       "</div>"
      ],
      "text/plain": [
       "      Order Date          City        Country Market       Product ID  \\\n",
       "33759 2014-01-01      Hangzhou          China   APAC  OFF-LA-10003396   \n",
       "33760 2014-01-01     Melbourne      Australia   APAC  OFF-EN-10002035   \n",
       "33761 2014-01-01        Pantin         France     EU  TEC-MA-10001777   \n",
       "33762 2014-01-01       Anaheim  United States     US  TEC-PH-10002563   \n",
       "33763 2014-01-01  Jacksonville  United States     US  OFF-PA-10002250   \n",
       "\n",
       "              Category Sub-Category     Sales  Quantity  Discount    Profit  \\\n",
       "33759  Office Supplies       Labels   39.8700         3      0.00    8.7300   \n",
       "33760  Office Supplies    Envelopes  203.3100         6      0.10   13.4100   \n",
       "33761       Technology     Machines  677.4075         3      0.15 -111.6225   \n",
       "33762       Technology       Phones  302.3760         3      0.20   22.6782   \n",
       "33763  Office Supplies        Paper   23.4800         5      0.20    8.2180   \n",
       "\n",
       "       Shipping Cost Order Priority  isProfitPos  \n",
       "33759           5.62           High            1  \n",
       "33760          16.61         Medium            1  \n",
       "33761         104.69           High            0  \n",
       "33762          24.99         Medium            1  \n",
       "33763           1.55         Medium            1  "
      ]
     },
     "execution_count": 263,
     "metadata": {},
     "output_type": "execute_result"
    }
   ],
   "source": [
    "# Sales ABC\n",
    "def ABCD(p):\n",
    "    if p < 50:\n",
    "        return 'A'\n",
    "    elif p < 80:\n",
    "        return 'B'\n",
    "    elif p < 95:\n",
    "        return 'C'\n",
    "    return 'D'\n",
    "\n",
    "\n",
    "def ABCD_analysis(data_frame, col):\n",
    "    df = data_frame.copy()\n",
    "    \n",
    "    total_sum = df[col].sum()\n",
    "    df['share'] = 100 * df[col] / total_sum\n",
    "    df = df.sort_values('share', ascending=False)\n",
    "    df['cumsum'] = df['share'].cumsum()\n",
    "    data_frame[f'{col}_ABCD'] = df['cumsum'].apply(ABCD)\n",
    "    \n",
    "    \n",
    "\n",
    "# ABCD_analysis(df, 'Sales')\n",
    "# ABCD_analysis(df, 'Profit')\n",
    "\n",
    "df.head()"
   ]
  },
  {
   "cell_type": "code",
   "execution_count": 270,
   "metadata": {},
   "outputs": [],
   "source": [
    "df11.to_excel('df11.xlsx')\n",
    "df12.to_excel('df12.xlsx')\n",
    "df13.to_excel('df13.xlsx')"
   ]
  },
  {
   "cell_type": "markdown",
   "metadata": {},
   "source": [
    "## Analysis\n",
    "\n",
    "#### 1. There is a correlation between Discount and sign of Profit\n",
    "    1. Corr (Table)\n",
    "    2. Dinamics (Plot)\n",
    "#### 2. Discount analysis\n",
    "    1. Subcategories (Hist)\n",
    "    2. Categories (Hist)\n",
    "    3. Markets (Map)\n",
    "#### 3. Most critical Market1 - EMEA\n",
    "    1. Share in the world (Pie)\n",
    "    2. Subcategories - tables (hist)\n",
    "    3. Countries (Map/Hist)\n",
    "#### 4. Most critical Market2 - \n",
    "#### 5. We may increase Profit by at least 30% if not serving some regions. \n",
    "\n",
    "\n",
    "## 1 There is a correlation between Discount and sign of Profit"
   ]
  },
  {
   "cell_type": "code",
   "execution_count": 203,
   "metadata": {
    "scrolled": true
   },
   "outputs": [
    {
     "data": {
      "text/html": [
       "<style  type=\"text/css\" >\n",
       "#T_f1f82_row0_col0,#T_f1f82_row1_col1,#T_f1f82_row2_col2{\n",
       "            background-color:  #b40426;\n",
       "            color:  #f1f1f1;\n",
       "        }#T_f1f82_row0_col1{\n",
       "            background-color:  #f5c4ac;\n",
       "            color:  #000000;\n",
       "        }#T_f1f82_row0_col2{\n",
       "            background-color:  #93b5fe;\n",
       "            color:  #000000;\n",
       "        }#T_f1f82_row1_col0{\n",
       "            background-color:  #dadce0;\n",
       "            color:  #000000;\n",
       "        }#T_f1f82_row1_col2,#T_f1f82_row2_col0,#T_f1f82_row2_col1{\n",
       "            background-color:  #3b4cc0;\n",
       "            color:  #f1f1f1;\n",
       "        }</style><table id=\"T_f1f82_\" ><thead>    <tr>        <th class=\"blank level0\" ></th>        <th class=\"col_heading level0 col0\" >Profit</th>        <th class=\"col_heading level0 col1\" >isProfitPos</th>        <th class=\"col_heading level0 col2\" >Discount</th>    </tr></thead><tbody>\n",
       "                <tr>\n",
       "                        <th id=\"T_f1f82_level0_row0\" class=\"row_heading level0 row0\" >Profit</th>\n",
       "                        <td id=\"T_f1f82_row0_col0\" class=\"data row0 col0\" >1.000</td>\n",
       "                        <td id=\"T_f1f82_row0_col1\" class=\"data row0 col1\" >0.329</td>\n",
       "                        <td id=\"T_f1f82_row0_col2\" class=\"data row0 col2\" >-0.313</td>\n",
       "            </tr>\n",
       "            <tr>\n",
       "                        <th id=\"T_f1f82_level0_row1\" class=\"row_heading level0 row1\" >isProfitPos</th>\n",
       "                        <td id=\"T_f1f82_row1_col0\" class=\"data row1 col0\" >0.329</td>\n",
       "                        <td id=\"T_f1f82_row1_col1\" class=\"data row1 col1\" >1.000</td>\n",
       "                        <td id=\"T_f1f82_row1_col2\" class=\"data row1 col2\" >-0.797</td>\n",
       "            </tr>\n",
       "            <tr>\n",
       "                        <th id=\"T_f1f82_level0_row2\" class=\"row_heading level0 row2\" >Discount</th>\n",
       "                        <td id=\"T_f1f82_row2_col0\" class=\"data row2 col0\" >-0.313</td>\n",
       "                        <td id=\"T_f1f82_row2_col1\" class=\"data row2 col1\" >-0.797</td>\n",
       "                        <td id=\"T_f1f82_row2_col2\" class=\"data row2 col2\" >1.000</td>\n",
       "            </tr>\n",
       "    </tbody></table>"
      ],
      "text/plain": [
       "<pandas.io.formats.style.Styler at 0x7fd7a8c3f490>"
      ]
     },
     "execution_count": 203,
     "metadata": {},
     "output_type": "execute_result"
    }
   ],
   "source": [
    "df[['Profit', 'isProfitPos', 'Discount']].corr().style.background_gradient(cmap='coolwarm').format('{0:,.3f}')"
   ]
  },
  {
   "cell_type": "markdown",
   "metadata": {},
   "source": [
    "## 2 Discount analysis"
   ]
  },
  {
   "cell_type": "code",
   "execution_count": 260,
   "metadata": {
    "scrolled": false
   },
   "outputs": [
    {
     "data": {
      "image/png": "[encoded data removed]",
      "text/plain": [
       "<Figure size 1152x504 with 6 Axes>"
      ]
     },
     "metadata": {
      "needs_background": "light"
     },
     "output_type": "display_data"
    }
   ],
   "source": [
    "fig, axs = plt.subplots(2, 3, figsize=(16, 7))\n",
    "\n",
    "df.groupby('Ship Mode')['Discount'].mean().plot.bar(ax=axs[0, 0], ylabel='Mean Discount', rot=0);\n",
    "df.groupby('Segment')['Discount'].mean().plot.bar(ax=axs[0, 1], rot=0);\n",
    "df.groupby('Market')['Discount'].mean().plot.bar(ax=axs[0, 2], rot=0, color='red');\n",
    "df.groupby('Category')['Discount'].mean().plot.bar(ax=axs[1, 0], ylabel='Mean Discount', rot=0, color='red');\n",
    "df.groupby('Sub-Category')['Discount'].mean().plot.bar(ax=axs[1, 1], rot=90, color='red');\n",
    "df.groupby('Region')['Discount'].mean().plot.bar(ax=axs[1, 2], rot=90);"
   ]
  },
  {
   "cell_type": "code",
   "execution_count": 290,
   "metadata": {},
   "outputs": [
    {
     "data": {
      "image/png": "[encoded data removed]",
      "text/plain": [
       "<Figure size 1152x504 with 6 Axes>"
      ]
     },
     "metadata": {
      "needs_background": "light"
     },
     "output_type": "display_data"
    }
   ],
   "source": [
    "fig, axs = plt.subplots(2, 3, figsize=(16, 7))\n",
    "\n",
    "df.groupby('Category')['Discount'].mean().plot.bar(ax=axs[0, 0], ylabel='Mean Discount', rot=0, color='red');\n",
    "df.groupby('Sub-Category')['Discount'].mean().plot.bar(ax=axs[0, 1], rot=90, color='red');\n",
    "df.groupby('Sub-Category')['Sales'].sum().plot.bar(ax=axs[0, 2], ylabel='Count', rot=90, color='red');\n",
    "emea.groupby('Category')['Discount'].mean().plot.bar(ax=axs[1, 0], ylabel='Mean Discount', rot=0, color='red');\n",
    "emea.groupby('Sub-Category')['Discount'].mean().plot.bar(ax=axs[1, 1], rot=90, color='red');\n",
    "emea.groupby('Sub-Category')['Sales'].sum().plot.bar(ax=axs[1, 2], ylabel='Count', rot=90, color='red');\n",
    "plt.tight_layout()"
   ]
  },
  {
   "cell_type": "code",
   "execution_count": 265,
   "metadata": {},
   "outputs": [
    {
     "data": {
      "image/png": "[encoded data removed]",
      "text/plain": [
       "<Figure size 1080x360 with 3 Axes>"
      ]
     },
     "metadata": {
      "needs_background": "light"
     },
     "output_type": "display_data"
    }
   ],
   "source": [
    "fig, axs = plt.subplots(1, 3, figsize=(15, 5))\n",
    "\n",
    "df.groupby('Market')['isProfitPos'].mean().plot.bar(ax=axs[0], ylabel='Profit/Unit', rot=0, color='red');\n",
    "df.groupby('Category')['isProfitPos'].mean().plot.bar(ax=axs[1], rot=0, color='red');\n",
    "df.groupby('Sub-Category')['isProfitPos'].mean().plot.bar(ax=axs[2], rot=90, color='red');"
   ]
  },
  {
   "cell_type": "code",
   "execution_count": 211,
   "metadata": {},
   "outputs": [
    {
     "data": {
      "image/png": "[encoded data removed]",
      "text/plain": [
       "<Figure size 1296x360 with 2 Axes>"
      ]
     },
     "metadata": {
      "needs_background": "light"
     },
     "output_type": "display_data"
    }
   ],
   "source": [
    "# Markets\n",
    "market_profit_u = pd.DataFrame(df11.groupby('Market')['Profit'].mean())\n",
    "market_profit_u['2012'] = df12.groupby('Market')['Profit'].mean().values\n",
    "market_profit_u['2013'] = df13.groupby('Market')['Profit'].mean().values\n",
    "market_profit_u['2014'] = df.groupby('Market')['Profit'].mean().values\n",
    "market_profit_u.columns = ['2011', '2012', '2013', '2014']\n",
    "\n",
    "market_disc = pd.DataFrame(df11.groupby('Market')['Discount'].mean())\n",
    "market_disc['2012'] = df12.groupby('Market')['Discount'].mean().values\n",
    "market_disc['2013'] = df13.groupby('Market')['Discount'].mean().values\n",
    "market_disc['2014'] = df.groupby('Market')['Discount'].mean().values\n",
    "market_disc.columns = ['2011', '2012', '2013', '2014']\n",
    "\n",
    "# plotting\n",
    "fig, axs = plt.subplots(1, 2, figsize=(18, 5))\n",
    "\n",
    "market_profit_u.T.plot(ax=axs[0], ylabel='Profit/Unit', linewidth=3);\n",
    "market_disc.T.plot(ax=axs[1], ylabel='Discount', linewidth=3);"
   ]
  },
  {
   "cell_type": "markdown",
   "metadata": {},
   "source": [
    "## 3 Most critical Market1 - EMEA"
   ]
  },
  {
   "cell_type": "code",
   "execution_count": 206,
   "metadata": {},
   "outputs": [
    {
     "data": {
      "text/plain": [
       "Market\n",
       "APAC      1209198\n",
       "Africa     283036\n",
       "Canada      23161\n",
       "EMEA       301685\n",
       "EU        1042203\n",
       "LATAM      706632\n",
       "US         733947\n",
       "Name: Sales, dtype: int64"
      ]
     },
     "execution_count": 206,
     "metadata": {},
     "output_type": "execute_result"
    }
   ],
   "source": [
    "df.groupby('Market')['Sales'].sum().astype(np.int)"
   ]
  },
  {
   "cell_type": "code",
   "execution_count": 172,
   "metadata": {
    "scrolled": true
   },
   "outputs": [
    {
     "data": {
      "text/html": [
       "<div>\n",
       "<style scoped>\n",
       "    .dataframe tbody tr th:only-of-type {\n",
       "        vertical-align: middle;\n",
       "    }\n",
       "\n",
       "    .dataframe tbody tr th {\n",
       "        vertical-align: top;\n",
       "    }\n",
       "\n",
       "    .dataframe thead th {\n",
       "        text-align: right;\n",
       "    }\n",
       "</style>\n",
       "<table border=\"1\" class=\"dataframe\">\n",
       "  <thead>\n",
       "    <tr style=\"text-align: right;\">\n",
       "      <th></th>\n",
       "      <th>Sales</th>\n",
       "      <th>Quantity</th>\n",
       "      <th>Discount</th>\n",
       "      <th>Profit</th>\n",
       "      <th>Shipping Cost</th>\n",
       "      <th>Profit/Unit</th>\n",
       "      <th>isProfitPos</th>\n",
       "    </tr>\n",
       "  </thead>\n",
       "  <tbody>\n",
       "    <tr>\n",
       "      <th>count</th>\n",
       "      <td>1811.000000</td>\n",
       "      <td>1811.000000</td>\n",
       "      <td>1811.000000</td>\n",
       "      <td>1811.000000</td>\n",
       "      <td>1811.000000</td>\n",
       "      <td>1811.000000</td>\n",
       "      <td>1811.000000</td>\n",
       "    </tr>\n",
       "    <tr>\n",
       "      <th>mean</th>\n",
       "      <td>166.585281</td>\n",
       "      <td>2.294313</td>\n",
       "      <td>0.189067</td>\n",
       "      <td>12.479472</td>\n",
       "      <td>18.424097</td>\n",
       "      <td>5.296943</td>\n",
       "      <td>0.673109</td>\n",
       "    </tr>\n",
       "    <tr>\n",
       "      <th>std</th>\n",
       "      <td>346.371444</td>\n",
       "      <td>2.188384</td>\n",
       "      <td>0.283802</td>\n",
       "      <td>142.676655</td>\n",
       "      <td>43.709707</td>\n",
       "      <td>50.631050</td>\n",
       "      <td>0.469207</td>\n",
       "    </tr>\n",
       "    <tr>\n",
       "      <th>min</th>\n",
       "      <td>1.548000</td>\n",
       "      <td>1.000000</td>\n",
       "      <td>0.000000</td>\n",
       "      <td>-2750.280000</td>\n",
       "      <td>0.020000</td>\n",
       "      <td>-343.785000</td>\n",
       "      <td>0.000000</td>\n",
       "    </tr>\n",
       "    <tr>\n",
       "      <th>25%</th>\n",
       "      <td>19.080000</td>\n",
       "      <td>1.000000</td>\n",
       "      <td>0.000000</td>\n",
       "      <td>-6.948000</td>\n",
       "      <td>1.730000</td>\n",
       "      <td>-4.566000</td>\n",
       "      <td>0.000000</td>\n",
       "    </tr>\n",
       "    <tr>\n",
       "      <th>50%</th>\n",
       "      <td>51.930000</td>\n",
       "      <td>1.000000</td>\n",
       "      <td>0.000000</td>\n",
       "      <td>5.910000</td>\n",
       "      <td>5.290000</td>\n",
       "      <td>3.780000</td>\n",
       "      <td>1.000000</td>\n",
       "    </tr>\n",
       "    <tr>\n",
       "      <th>75%</th>\n",
       "      <td>158.760000</td>\n",
       "      <td>2.000000</td>\n",
       "      <td>0.600000</td>\n",
       "      <td>26.640000</td>\n",
       "      <td>16.290000</td>\n",
       "      <td>14.430000</td>\n",
       "      <td>1.000000</td>\n",
       "    </tr>\n",
       "    <tr>\n",
       "      <th>max</th>\n",
       "      <td>5211.120000</td>\n",
       "      <td>14.000000</td>\n",
       "      <td>0.700000</td>\n",
       "      <td>1233.000000</td>\n",
       "      <td>630.970000</td>\n",
       "      <td>311.700000</td>\n",
       "      <td>1.000000</td>\n",
       "    </tr>\n",
       "  </tbody>\n",
       "</table>\n",
       "</div>"
      ],
      "text/plain": [
       "             Sales     Quantity     Discount       Profit  Shipping Cost  \\\n",
       "count  1811.000000  1811.000000  1811.000000  1811.000000    1811.000000   \n",
       "mean    166.585281     2.294313     0.189067    12.479472      18.424097   \n",
       "std     346.371444     2.188384     0.283802   142.676655      43.709707   \n",
       "min       1.548000     1.000000     0.000000 -2750.280000       0.020000   \n",
       "25%      19.080000     1.000000     0.000000    -6.948000       1.730000   \n",
       "50%      51.930000     1.000000     0.000000     5.910000       5.290000   \n",
       "75%     158.760000     2.000000     0.600000    26.640000      16.290000   \n",
       "max    5211.120000    14.000000     0.700000  1233.000000     630.970000   \n",
       "\n",
       "       Profit/Unit  isProfitPos  \n",
       "count  1811.000000  1811.000000  \n",
       "mean      5.296943     0.673109  \n",
       "std      50.631050     0.469207  \n",
       "min    -343.785000     0.000000  \n",
       "25%      -4.566000     0.000000  \n",
       "50%       3.780000     1.000000  \n",
       "75%      14.430000     1.000000  \n",
       "max     311.700000     1.000000  "
      ]
     },
     "execution_count": 172,
     "metadata": {},
     "output_type": "execute_result"
    }
   ],
   "source": [
    "emea = df[df['Market'] == 'EMEA']\n",
    "emea.describe()"
   ]
  },
  {
   "cell_type": "code",
   "execution_count": 207,
   "metadata": {},
   "outputs": [
    {
     "data": {
      "image/png": "[encoded data removed]",
      "text/plain": [
       "<Figure size 1080x360 with 3 Axes>"
      ]
     },
     "metadata": {
      "needs_background": "light"
     },
     "output_type": "display_data"
    }
   ],
   "source": [
    "fig, axs = plt.subplots(1, 3, figsize=(15, 5))\n",
    "\n",
    "df.groupby('Market')['Profit'].sum().plot.pie(ax=axs[0])\n",
    "\n",
    "emea.groupby('Sub-Category')['Sub-Category'].count().plot.bar(ax=axs[1], title='EMEA');\n",
    "\n",
    "can = df[df['Market'] == 'Canada']\n",
    "can.groupby('Sub-Category')['Sub-Category'].count().plot.bar(title='Canada');"
   ]
  },
  {
   "cell_type": "code",
   "execution_count": null,
   "metadata": {},
   "outputs": [],
   "source": []
  },
  {
   "cell_type": "markdown",
   "metadata": {},
   "source": [
    "####  Can be seen that little depends on the subcategories distribution."
   ]
  },
  {
   "cell_type": "code",
   "execution_count": 189,
   "metadata": {},
   "outputs": [
    {
     "data": {
      "text/plain": [
       "<matplotlib.axes._subplots.AxesSubplot at 0x7fd7c8f79ed0>"
      ]
     },
     "execution_count": 189,
     "metadata": {},
     "output_type": "execute_result"
    },
    {
     "data": {
      "image/png": "[encoded data removed]",
      "text/plain": [
       "<Figure size 1224x288 with 4 Axes>"
      ]
     },
     "metadata": {
      "needs_background": "light"
     },
     "output_type": "display_data"
    }
   ],
   "source": [
    "fig, axs = plt.subplots(1, 4, figsize=(17, 4))\n",
    "\n",
    "plt.tight_layout()\n",
    "df.groupby('Market')['Profit/Unit'].mean().plot.bar(ax=axs[0], title='Profit/Unit')\n",
    "df.groupby('Market')['Sales'].sum().plot.bar(ax=axs[1], title='Sales')\n",
    "df.groupby('Market')['Profit'].sum().plot.bar(ax=axs[2], title='Profit')\n",
    "df.groupby('Market')['Discount'].mean().plot.bar(ax=axs[3], title='Discount')"
   ]
  },
  {
   "cell_type": "code",
   "execution_count": 440,
   "metadata": {},
   "outputs": [
    {
     "data": {
      "text/html": [
       "<div>\n",
       "<style scoped>\n",
       "    .dataframe tbody tr th:only-of-type {\n",
       "        vertical-align: middle;\n",
       "    }\n",
       "\n",
       "    .dataframe tbody tr th {\n",
       "        vertical-align: top;\n",
       "    }\n",
       "\n",
       "    .dataframe thead th {\n",
       "        text-align: right;\n",
       "    }\n",
       "</style>\n",
       "<table border=\"1\" class=\"dataframe\">\n",
       "  <thead>\n",
       "    <tr style=\"text-align: right;\">\n",
       "      <th></th>\n",
       "      <th>Country</th>\n",
       "      <th>wage</th>\n",
       "      <th>Market</th>\n",
       "    </tr>\n",
       "  </thead>\n",
       "  <tbody>\n",
       "    <tr>\n",
       "      <th>0</th>\n",
       "      <td>Afghanistan</td>\n",
       "      <td>84.987778</td>\n",
       "      <td>APAC</td>\n",
       "    </tr>\n",
       "    <tr>\n",
       "      <th>1</th>\n",
       "      <td>Albania</td>\n",
       "      <td>200.421000</td>\n",
       "      <td>EMEA</td>\n",
       "    </tr>\n",
       "    <tr>\n",
       "      <th>2</th>\n",
       "      <td>Algeria</td>\n",
       "      <td>216.560000</td>\n",
       "      <td>Africa</td>\n",
       "    </tr>\n",
       "    <tr>\n",
       "      <th>3</th>\n",
       "      <td>Angola</td>\n",
       "      <td>80.385000</td>\n",
       "      <td>Africa</td>\n",
       "    </tr>\n",
       "    <tr>\n",
       "      <th>4</th>\n",
       "      <td>Argentina</td>\n",
       "      <td>514.911000</td>\n",
       "      <td>LATAM</td>\n",
       "    </tr>\n",
       "    <tr>\n",
       "      <th>...</th>\n",
       "      <td>...</td>\n",
       "      <td>...</td>\n",
       "      <td>...</td>\n",
       "    </tr>\n",
       "    <tr>\n",
       "      <th>98</th>\n",
       "      <td>United States</td>\n",
       "      <td>1256.670000</td>\n",
       "      <td>US</td>\n",
       "    </tr>\n",
       "    <tr>\n",
       "      <th>99</th>\n",
       "      <td>Uzbekistan</td>\n",
       "      <td>47.564286</td>\n",
       "      <td>EMEA</td>\n",
       "    </tr>\n",
       "    <tr>\n",
       "      <th>100</th>\n",
       "      <td>Venezuela</td>\n",
       "      <td>NaN</td>\n",
       "      <td>LATAM</td>\n",
       "    </tr>\n",
       "    <tr>\n",
       "      <th>101</th>\n",
       "      <td>Vietnam</td>\n",
       "      <td>131.100000</td>\n",
       "      <td>APAC</td>\n",
       "    </tr>\n",
       "    <tr>\n",
       "      <th>102</th>\n",
       "      <td>Zambia</td>\n",
       "      <td>NaN</td>\n",
       "      <td>Africa</td>\n",
       "    </tr>\n",
       "  </tbody>\n",
       "</table>\n",
       "<p>103 rows × 3 columns</p>\n",
       "</div>"
      ],
      "text/plain": [
       "           Country         wage  Market\n",
       "0      Afghanistan    84.987778    APAC\n",
       "1          Albania   200.421000    EMEA\n",
       "2          Algeria   216.560000  Africa\n",
       "3           Angola    80.385000  Africa\n",
       "4        Argentina   514.911000   LATAM\n",
       "..             ...          ...     ...\n",
       "98   United States  1256.670000      US\n",
       "99      Uzbekistan    47.564286    EMEA\n",
       "100      Venezuela          NaN   LATAM\n",
       "101        Vietnam   131.100000    APAC\n",
       "102         Zambia          NaN  Africa\n",
       "\n",
       "[103 rows x 3 columns]"
      ]
     },
     "execution_count": 440,
     "metadata": {},
     "output_type": "execute_result"
    }
   ],
   "source": [
    "# растут ли продажи за 4 года ?\n",
    "# сравнить численность населения\n",
    "\"\"\"\n",
    "APAC - 4.3bn\n",
    "Africa - 1.216 bn\n",
    "Canada - 34, 34, 35, 35 mln\n",
    "EMEA - 2bn\n",
    "EU - 439, 440, 441, 442 mln\n",
    "LATAM - 597, 603, 609, 616 mln\n",
    "US - 311, 313, 315, 318 mln\n",
    "\"\"\"\n",
    "\n",
    "markets = list(df['Market'].unique())\n",
    "population = [4.3*10**9, 442*10**6, 318*10**6, 1.21*10**9,\n",
    "              2*10**9, 616*10**6, 35*10**6]\n",
    "\n",
    "wages = pd.read_excel('wages.xlsx')\n",
    "wages = wages[wages['Country'].isin(data['Country'])]\n",
    "wages['Country'].nunique()\n",
    "avg = wages.groupby('Country')['Wage'].mean()\n",
    "\n",
    "wages = pd.DataFrame({'Country': list(avg.index), 'wage':list(avg.values)})\n",
    "meanwage = wages['wage'].mean()\n",
    "wages['Market'] = [''] * len(wages)\n",
    "\n",
    "\n",
    "for i in range(len(wages)):\n",
    "    c1 = wages.iloc[i, 0]\n",
    "    m = None\n",
    "    for j in range(len(data)):\n",
    "        c2 = data.iloc[j, 2]\n",
    "        if c1 == c2:\n",
    "            m = data.iloc[j, 3]\n",
    "            break\n",
    "    wages.iloc[i, 2] = m\n",
    "    \n",
    "wages"
   ]
  },
  {
   "cell_type": "code",
   "execution_count": 420,
   "metadata": {},
   "outputs": [
    {
     "data": {
      "text/plain": [
       "Market\n",
       "APAC       471.158234\n",
       "Africa     125.069787\n",
       "Canada    1478.729000\n",
       "EMEA       335.453893\n",
       "EU        1806.227815\n",
       "LATAM      315.980889\n",
       "US        1256.670000\n",
       "Name: wage, dtype: float64"
      ]
     },
     "execution_count": 420,
     "metadata": {},
     "output_type": "execute_result"
    }
   ],
   "source": [
    "# wages = wages.dropna()\n",
    "# wages = wages.groupby('Market')['wage'].mean()\n",
    "wages"
   ]
  },
  {
   "cell_type": "code",
   "execution_count": 424,
   "metadata": {},
   "outputs": [],
   "source": [
    "mark = pd.DataFrame({'Market':markets, 'Population':population})\n",
    "mark = mark.sort_values(by='Market')\n",
    "mark['min_wage'] = wages.values"
   ]
  },
  {
   "cell_type": "code",
   "execution_count": 425,
   "metadata": {
    "scrolled": true
   },
   "outputs": [
    {
     "data": {
      "text/html": [
       "<div>\n",
       "<style scoped>\n",
       "    .dataframe tbody tr th:only-of-type {\n",
       "        vertical-align: middle;\n",
       "    }\n",
       "\n",
       "    .dataframe tbody tr th {\n",
       "        vertical-align: top;\n",
       "    }\n",
       "\n",
       "    .dataframe thead th {\n",
       "        text-align: right;\n",
       "    }\n",
       "</style>\n",
       "<table border=\"1\" class=\"dataframe\">\n",
       "  <thead>\n",
       "    <tr style=\"text-align: right;\">\n",
       "      <th></th>\n",
       "      <th>Market</th>\n",
       "      <th>Population</th>\n",
       "      <th>min_wage</th>\n",
       "    </tr>\n",
       "  </thead>\n",
       "  <tbody>\n",
       "    <tr>\n",
       "      <th>0</th>\n",
       "      <td>APAC</td>\n",
       "      <td>4.300000e+09</td>\n",
       "      <td>471.158234</td>\n",
       "    </tr>\n",
       "    <tr>\n",
       "      <th>3</th>\n",
       "      <td>Africa</td>\n",
       "      <td>1.210000e+09</td>\n",
       "      <td>125.069787</td>\n",
       "    </tr>\n",
       "    <tr>\n",
       "      <th>6</th>\n",
       "      <td>Canada</td>\n",
       "      <td>3.500000e+07</td>\n",
       "      <td>1478.729000</td>\n",
       "    </tr>\n",
       "    <tr>\n",
       "      <th>4</th>\n",
       "      <td>EMEA</td>\n",
       "      <td>2.000000e+09</td>\n",
       "      <td>335.453893</td>\n",
       "    </tr>\n",
       "    <tr>\n",
       "      <th>1</th>\n",
       "      <td>EU</td>\n",
       "      <td>4.420000e+08</td>\n",
       "      <td>1806.227815</td>\n",
       "    </tr>\n",
       "    <tr>\n",
       "      <th>5</th>\n",
       "      <td>LATAM</td>\n",
       "      <td>6.160000e+08</td>\n",
       "      <td>315.980889</td>\n",
       "    </tr>\n",
       "    <tr>\n",
       "      <th>2</th>\n",
       "      <td>US</td>\n",
       "      <td>3.180000e+08</td>\n",
       "      <td>1256.670000</td>\n",
       "    </tr>\n",
       "  </tbody>\n",
       "</table>\n",
       "</div>"
      ],
      "text/plain": [
       "   Market    Population     min_wage\n",
       "0    APAC  4.300000e+09   471.158234\n",
       "3  Africa  1.210000e+09   125.069787\n",
       "6  Canada  3.500000e+07  1478.729000\n",
       "4    EMEA  2.000000e+09   335.453893\n",
       "1      EU  4.420000e+08  1806.227815\n",
       "5   LATAM  6.160000e+08   315.980889\n",
       "2      US  3.180000e+08  1256.670000"
      ]
     },
     "execution_count": 425,
     "metadata": {},
     "output_type": "execute_result"
    }
   ],
   "source": [
    "mark"
   ]
  },
  {
   "cell_type": "code",
   "execution_count": 432,
   "metadata": {},
   "outputs": [
    {
     "data": {
      "text/html": [
       "<div>\n",
       "<style scoped>\n",
       "    .dataframe tbody tr th:only-of-type {\n",
       "        vertical-align: middle;\n",
       "    }\n",
       "\n",
       "    .dataframe tbody tr th {\n",
       "        vertical-align: top;\n",
       "    }\n",
       "\n",
       "    .dataframe thead th {\n",
       "        text-align: right;\n",
       "    }\n",
       "</style>\n",
       "<table border=\"1\" class=\"dataframe\">\n",
       "  <thead>\n",
       "    <tr style=\"text-align: right;\">\n",
       "      <th></th>\n",
       "      <th>Sales</th>\n",
       "      <th>Quantity</th>\n",
       "      <th>Discount</th>\n",
       "      <th>Profit</th>\n",
       "      <th>Shipping Cost</th>\n",
       "      <th>isProfitPos</th>\n",
       "    </tr>\n",
       "  </thead>\n",
       "  <tbody>\n",
       "    <tr>\n",
       "      <th>count</th>\n",
       "      <td>1624.000000</td>\n",
       "      <td>1624.000000</td>\n",
       "      <td>1624.000000</td>\n",
       "      <td>1624.000000</td>\n",
       "      <td>1624.000000</td>\n",
       "      <td>1624.000000</td>\n",
       "    </tr>\n",
       "    <tr>\n",
       "      <th>mean</th>\n",
       "      <td>174.283522</td>\n",
       "      <td>2.306034</td>\n",
       "      <td>0.139963</td>\n",
       "      <td>24.218885</td>\n",
       "      <td>18.523972</td>\n",
       "      <td>0.782635</td>\n",
       "    </tr>\n",
       "    <tr>\n",
       "      <th>std</th>\n",
       "      <td>364.569715</td>\n",
       "      <td>2.137437</td>\n",
       "      <td>0.279265</td>\n",
       "      <td>151.286744</td>\n",
       "      <td>45.187351</td>\n",
       "      <td>0.412580</td>\n",
       "    </tr>\n",
       "    <tr>\n",
       "      <th>min</th>\n",
       "      <td>1.161000</td>\n",
       "      <td>1.000000</td>\n",
       "      <td>0.000000</td>\n",
       "      <td>-1472.376000</td>\n",
       "      <td>0.050000</td>\n",
       "      <td>0.000000</td>\n",
       "    </tr>\n",
       "    <tr>\n",
       "      <th>25%</th>\n",
       "      <td>19.557000</td>\n",
       "      <td>1.000000</td>\n",
       "      <td>0.000000</td>\n",
       "      <td>1.050000</td>\n",
       "      <td>1.720000</td>\n",
       "      <td>1.000000</td>\n",
       "    </tr>\n",
       "    <tr>\n",
       "      <th>50%</th>\n",
       "      <td>52.920000</td>\n",
       "      <td>1.000000</td>\n",
       "      <td>0.000000</td>\n",
       "      <td>7.890000</td>\n",
       "      <td>5.040000</td>\n",
       "      <td>1.000000</td>\n",
       "    </tr>\n",
       "    <tr>\n",
       "      <th>75%</th>\n",
       "      <td>164.280000</td>\n",
       "      <td>2.000000</td>\n",
       "      <td>0.000000</td>\n",
       "      <td>28.252500</td>\n",
       "      <td>15.887500</td>\n",
       "      <td>1.000000</td>\n",
       "    </tr>\n",
       "    <tr>\n",
       "      <th>max</th>\n",
       "      <td>5301.240000</td>\n",
       "      <td>14.000000</td>\n",
       "      <td>0.700000</td>\n",
       "      <td>2597.280000</td>\n",
       "      <td>763.380000</td>\n",
       "      <td>1.000000</td>\n",
       "    </tr>\n",
       "  </tbody>\n",
       "</table>\n",
       "</div>"
      ],
      "text/plain": [
       "             Sales     Quantity     Discount       Profit  Shipping Cost  \\\n",
       "count  1624.000000  1624.000000  1624.000000  1624.000000    1624.000000   \n",
       "mean    174.283522     2.306034     0.139963    24.218885      18.523972   \n",
       "std     364.569715     2.137437     0.279265   151.286744      45.187351   \n",
       "min       1.161000     1.000000     0.000000 -1472.376000       0.050000   \n",
       "25%      19.557000     1.000000     0.000000     1.050000       1.720000   \n",
       "50%      52.920000     1.000000     0.000000     7.890000       5.040000   \n",
       "75%     164.280000     2.000000     0.000000    28.252500      15.887500   \n",
       "max    5301.240000    14.000000     0.700000  2597.280000     763.380000   \n",
       "\n",
       "       isProfitPos  \n",
       "count  1624.000000  \n",
       "mean      0.782635  \n",
       "std       0.412580  \n",
       "min       0.000000  \n",
       "25%       1.000000  \n",
       "50%       1.000000  \n",
       "75%       1.000000  \n",
       "max       1.000000  "
      ]
     },
     "execution_count": 432,
     "metadata": {},
     "output_type": "execute_result"
    }
   ],
   "source": [
    "africa = df[df['Market']=='Africa']\n",
    "africa.describe()"
   ]
  },
  {
   "cell_type": "code",
   "execution_count": 433,
   "metadata": {},
   "outputs": [
    {
     "data": {
      "text/html": [
       "<div>\n",
       "<style scoped>\n",
       "    .dataframe tbody tr th:only-of-type {\n",
       "        vertical-align: middle;\n",
       "    }\n",
       "\n",
       "    .dataframe tbody tr th {\n",
       "        vertical-align: top;\n",
       "    }\n",
       "\n",
       "    .dataframe thead th {\n",
       "        text-align: right;\n",
       "    }\n",
       "</style>\n",
       "<table border=\"1\" class=\"dataframe\">\n",
       "  <thead>\n",
       "    <tr style=\"text-align: right;\">\n",
       "      <th></th>\n",
       "      <th>Sales</th>\n",
       "      <th>Quantity</th>\n",
       "      <th>Discount</th>\n",
       "      <th>Profit</th>\n",
       "      <th>Shipping Cost</th>\n",
       "      <th>isProfitPos</th>\n",
       "    </tr>\n",
       "  </thead>\n",
       "  <tbody>\n",
       "    <tr>\n",
       "      <th>count</th>\n",
       "      <td>1811.000000</td>\n",
       "      <td>1811.000000</td>\n",
       "      <td>1811.000000</td>\n",
       "      <td>1811.000000</td>\n",
       "      <td>1811.000000</td>\n",
       "      <td>1811.000000</td>\n",
       "    </tr>\n",
       "    <tr>\n",
       "      <th>mean</th>\n",
       "      <td>166.585281</td>\n",
       "      <td>2.294313</td>\n",
       "      <td>0.189067</td>\n",
       "      <td>12.479472</td>\n",
       "      <td>18.424097</td>\n",
       "      <td>0.673109</td>\n",
       "    </tr>\n",
       "    <tr>\n",
       "      <th>std</th>\n",
       "      <td>346.371444</td>\n",
       "      <td>2.188384</td>\n",
       "      <td>0.283802</td>\n",
       "      <td>142.676655</td>\n",
       "      <td>43.709707</td>\n",
       "      <td>0.469207</td>\n",
       "    </tr>\n",
       "    <tr>\n",
       "      <th>min</th>\n",
       "      <td>1.548000</td>\n",
       "      <td>1.000000</td>\n",
       "      <td>0.000000</td>\n",
       "      <td>-2750.280000</td>\n",
       "      <td>0.020000</td>\n",
       "      <td>0.000000</td>\n",
       "    </tr>\n",
       "    <tr>\n",
       "      <th>25%</th>\n",
       "      <td>19.080000</td>\n",
       "      <td>1.000000</td>\n",
       "      <td>0.000000</td>\n",
       "      <td>-6.948000</td>\n",
       "      <td>1.730000</td>\n",
       "      <td>0.000000</td>\n",
       "    </tr>\n",
       "    <tr>\n",
       "      <th>50%</th>\n",
       "      <td>51.930000</td>\n",
       "      <td>1.000000</td>\n",
       "      <td>0.000000</td>\n",
       "      <td>5.910000</td>\n",
       "      <td>5.290000</td>\n",
       "      <td>1.000000</td>\n",
       "    </tr>\n",
       "    <tr>\n",
       "      <th>75%</th>\n",
       "      <td>158.760000</td>\n",
       "      <td>2.000000</td>\n",
       "      <td>0.600000</td>\n",
       "      <td>26.640000</td>\n",
       "      <td>16.290000</td>\n",
       "      <td>1.000000</td>\n",
       "    </tr>\n",
       "    <tr>\n",
       "      <th>max</th>\n",
       "      <td>5211.120000</td>\n",
       "      <td>14.000000</td>\n",
       "      <td>0.700000</td>\n",
       "      <td>1233.000000</td>\n",
       "      <td>630.970000</td>\n",
       "      <td>1.000000</td>\n",
       "    </tr>\n",
       "  </tbody>\n",
       "</table>\n",
       "</div>"
      ],
      "text/plain": [
       "             Sales     Quantity     Discount       Profit  Shipping Cost  \\\n",
       "count  1811.000000  1811.000000  1811.000000  1811.000000    1811.000000   \n",
       "mean    166.585281     2.294313     0.189067    12.479472      18.424097   \n",
       "std     346.371444     2.188384     0.283802   142.676655      43.709707   \n",
       "min       1.548000     1.000000     0.000000 -2750.280000       0.020000   \n",
       "25%      19.080000     1.000000     0.000000    -6.948000       1.730000   \n",
       "50%      51.930000     1.000000     0.000000     5.910000       5.290000   \n",
       "75%     158.760000     2.000000     0.600000    26.640000      16.290000   \n",
       "max    5211.120000    14.000000     0.700000  1233.000000     630.970000   \n",
       "\n",
       "       isProfitPos  \n",
       "count  1811.000000  \n",
       "mean      0.673109  \n",
       "std       0.469207  \n",
       "min       0.000000  \n",
       "25%       0.000000  \n",
       "50%       1.000000  \n",
       "75%       1.000000  \n",
       "max       1.000000  "
      ]
     },
     "execution_count": 433,
     "metadata": {},
     "output_type": "execute_result"
    }
   ],
   "source": [
    "emea.describe()"
   ]
  },
  {
   "cell_type": "code",
   "execution_count": 436,
   "metadata": {
    "scrolled": true
   },
   "outputs": [
    {
     "data": {
      "text/plain": [
       "<matplotlib.axes._subplots.AxesSubplot at 0x7fd80986b190>"
      ]
     },
     "execution_count": 436,
     "metadata": {},
     "output_type": "execute_result"
    },
    {
     "data": {
      "image/png": "[encoded data removed]",
      "text/plain": [
       "<Figure size 1080x360 with 2 Axes>"
      ]
     },
     "metadata": {},
     "output_type": "display_data"
    }
   ],
   "source": [
    "fig, axs = plt.subplots(1, 2, figsize=(15, 5))\n",
    "africa.groupby('Category')['Profit'].mean().plot.pie(ax=axs[0])\n",
    "emea.groupby('Category')['Profit'].mean().plot.pie(ax=axs[1])"
   ]
  },
  {
   "cell_type": "code",
   "execution_count": 437,
   "metadata": {
    "scrolled": true
   },
   "outputs": [
    {
     "data": {
      "text/plain": [
       "<matplotlib.axes._subplots.AxesSubplot at 0x7fd81b314850>"
      ]
     },
     "execution_count": 437,
     "metadata": {},
     "output_type": "execute_result"
    },
    {
     "data": {
      "image/png": "[encoded data removed]",
      "text/plain": [
       "<Figure size 432x288 with 1 Axes>"
      ]
     },
     "metadata": {},
     "output_type": "display_data"
    }
   ],
   "source": [
    "df.groupby('Category')['Profit'].mean().plot.pie()"
   ]
  },
  {
   "cell_type": "code",
   "execution_count": 447,
   "metadata": {},
   "outputs": [
    {
     "data": {
      "text/html": [
       "<div>\n",
       "<style scoped>\n",
       "    .dataframe tbody tr th:only-of-type {\n",
       "        vertical-align: middle;\n",
       "    }\n",
       "\n",
       "    .dataframe tbody tr th {\n",
       "        vertical-align: top;\n",
       "    }\n",
       "\n",
       "    .dataframe thead th {\n",
       "        text-align: right;\n",
       "    }\n",
       "</style>\n",
       "<table border=\"1\" class=\"dataframe\">\n",
       "  <thead>\n",
       "    <tr style=\"text-align: right;\">\n",
       "      <th></th>\n",
       "      <th>Country</th>\n",
       "      <th>wage</th>\n",
       "      <th>Market</th>\n",
       "    </tr>\n",
       "  </thead>\n",
       "  <tbody>\n",
       "    <tr>\n",
       "      <th>46</th>\n",
       "      <td>Kazakhstan</td>\n",
       "      <td>112.550000</td>\n",
       "      <td>EMEA</td>\n",
       "    </tr>\n",
       "    <tr>\n",
       "      <th>52</th>\n",
       "      <td>Lithuania</td>\n",
       "      <td>400.097000</td>\n",
       "      <td>EMEA</td>\n",
       "    </tr>\n",
       "    <tr>\n",
       "      <th>88</th>\n",
       "      <td>Tajikistan</td>\n",
       "      <td>39.375556</td>\n",
       "      <td>EMEA</td>\n",
       "    </tr>\n",
       "    <tr>\n",
       "      <th>94</th>\n",
       "      <td>Turkey</td>\n",
       "      <td>495.616000</td>\n",
       "      <td>EMEA</td>\n",
       "    </tr>\n",
       "  </tbody>\n",
       "</table>\n",
       "</div>"
      ],
      "text/plain": [
       "       Country        wage Market\n",
       "46  Kazakhstan  112.550000   EMEA\n",
       "52   Lithuania  400.097000   EMEA\n",
       "88  Tajikistan   39.375556   EMEA\n",
       "94      Turkey  495.616000   EMEA"
      ]
     },
     "execution_count": 447,
     "metadata": {},
     "output_type": "execute_result"
    }
   ],
   "source": [
    "wages[wages['Country'].isin(['Turkey', 'Lithuania', 'United Arab Emirates', 'Tajikistan',\n",
    "                           'Turkmenistan', 'United Arab Emirates', 'Kazakhstan'])]"
   ]
  },
  {
   "cell_type": "code",
   "execution_count": 448,
   "metadata": {},
   "outputs": [
    {
     "data": {
      "text/html": [
       "<div>\n",
       "<style scoped>\n",
       "    .dataframe tbody tr th:only-of-type {\n",
       "        vertical-align: middle;\n",
       "    }\n",
       "\n",
       "    .dataframe tbody tr th {\n",
       "        vertical-align: top;\n",
       "    }\n",
       "\n",
       "    .dataframe thead th {\n",
       "        text-align: right;\n",
       "    }\n",
       "</style>\n",
       "<table border=\"1\" class=\"dataframe\">\n",
       "  <thead>\n",
       "    <tr style=\"text-align: right;\">\n",
       "      <th></th>\n",
       "      <th>Country</th>\n",
       "      <th>Minwage</th>\n",
       "      <th>Population</th>\n",
       "    </tr>\n",
       "  </thead>\n",
       "  <tbody>\n",
       "    <tr>\n",
       "      <th>0</th>\n",
       "      <td>Kazakhstan</td>\n",
       "      <td>112</td>\n",
       "      <td>17.2</td>\n",
       "    </tr>\n",
       "    <tr>\n",
       "      <th>1</th>\n",
       "      <td>Lithuania</td>\n",
       "      <td>290</td>\n",
       "      <td>2.9</td>\n",
       "    </tr>\n",
       "    <tr>\n",
       "      <th>2</th>\n",
       "      <td>Tajikistan</td>\n",
       "      <td>39</td>\n",
       "      <td>8.2</td>\n",
       "    </tr>\n",
       "    <tr>\n",
       "      <th>3</th>\n",
       "      <td>Turkey</td>\n",
       "      <td>495</td>\n",
       "      <td>76.6</td>\n",
       "    </tr>\n",
       "    <tr>\n",
       "      <th>4</th>\n",
       "      <td>Turkmenistan</td>\n",
       "      <td>152</td>\n",
       "      <td>5.5</td>\n",
       "    </tr>\n",
       "    <tr>\n",
       "      <th>5</th>\n",
       "      <td>United Arab Emirates</td>\n",
       "      <td>1023</td>\n",
       "      <td>9.2</td>\n",
       "    </tr>\n",
       "    <tr>\n",
       "      <th>6</th>\n",
       "      <td>Yemen</td>\n",
       "      <td>91</td>\n",
       "      <td>25.8</td>\n",
       "    </tr>\n",
       "  </tbody>\n",
       "</table>\n",
       "</div>"
      ],
      "text/plain": [
       "                Country  Minwage  Population\n",
       "0            Kazakhstan      112        17.2\n",
       "1             Lithuania      290         2.9\n",
       "2            Tajikistan       39         8.2\n",
       "3                Turkey      495        76.6\n",
       "4          Turkmenistan      152         5.5\n",
       "5  United Arab Emirates     1023         9.2\n",
       "6                 Yemen       91        25.8"
      ]
     },
     "execution_count": 448,
     "metadata": {},
     "output_type": "execute_result"
    }
   ],
   "source": [
    "wages_n = [112, 290, 39, 495, 152, 1023, 91]\n",
    "wages_c = ['Kazakhstan', 'Lithuania', 'Tajikistan', 'Turkey',\n",
    "           'Turkmenistan', 'United Arab Emirates', 'Yemen']\n",
    "wages_p = [17.2, 2.9, 8.2, 76.6, 5.5, 9.2, 25.8]\n",
    "\n",
    "neg = pd.DataFrame({'Country':wages_c, 'Minwage':wages_n, 'Population':wages_p})\n",
    "neg"
   ]
  },
  {
   "cell_type": "code",
   "execution_count": 462,
   "metadata": {},
   "outputs": [
    {
     "data": {
      "text/html": [
       "<div>\n",
       "<style scoped>\n",
       "    .dataframe tbody tr th:only-of-type {\n",
       "        vertical-align: middle;\n",
       "    }\n",
       "\n",
       "    .dataframe tbody tr th {\n",
       "        vertical-align: top;\n",
       "    }\n",
       "\n",
       "    .dataframe thead th {\n",
       "        text-align: right;\n",
       "    }\n",
       "</style>\n",
       "<table border=\"1\" class=\"dataframe\">\n",
       "  <thead>\n",
       "    <tr style=\"text-align: right;\">\n",
       "      <th></th>\n",
       "      <th>Country</th>\n",
       "      <th>Minwage</th>\n",
       "      <th>Population</th>\n",
       "      <th>Discount</th>\n",
       "      <th>Sales</th>\n",
       "      <th>orders</th>\n",
       "      <th>SalesShare</th>\n",
       "      <th>PopulationShare</th>\n",
       "    </tr>\n",
       "  </thead>\n",
       "  <tbody>\n",
       "    <tr>\n",
       "      <th>0</th>\n",
       "      <td>Kazakhstan</td>\n",
       "      <td>112</td>\n",
       "      <td>17.2</td>\n",
       "      <td>0.7</td>\n",
       "      <td>4605.444</td>\n",
       "      <td>101</td>\n",
       "      <td>0.015266</td>\n",
       "      <td>0.00860</td>\n",
       "    </tr>\n",
       "    <tr>\n",
       "      <th>1</th>\n",
       "      <td>Lithuania</td>\n",
       "      <td>290</td>\n",
       "      <td>2.9</td>\n",
       "      <td>0.7</td>\n",
       "      <td>6724.332</td>\n",
       "      <td>50</td>\n",
       "      <td>0.022289</td>\n",
       "      <td>0.00145</td>\n",
       "    </tr>\n",
       "    <tr>\n",
       "      <th>2</th>\n",
       "      <td>Tajikistan</td>\n",
       "      <td>39</td>\n",
       "      <td>8.2</td>\n",
       "      <td>0.7</td>\n",
       "      <td>242.784</td>\n",
       "      <td>3</td>\n",
       "      <td>0.000805</td>\n",
       "      <td>0.00410</td>\n",
       "    </tr>\n",
       "    <tr>\n",
       "      <th>3</th>\n",
       "      <td>Turkey</td>\n",
       "      <td>495</td>\n",
       "      <td>76.6</td>\n",
       "      <td>0.6</td>\n",
       "      <td>108507.948</td>\n",
       "      <td>1378</td>\n",
       "      <td>0.359672</td>\n",
       "      <td>0.03830</td>\n",
       "    </tr>\n",
       "    <tr>\n",
       "      <th>4</th>\n",
       "      <td>Turkmenistan</td>\n",
       "      <td>152</td>\n",
       "      <td>5.5</td>\n",
       "      <td>0.7</td>\n",
       "      <td>2027.061</td>\n",
       "      <td>25</td>\n",
       "      <td>0.006719</td>\n",
       "      <td>0.00275</td>\n",
       "    </tr>\n",
       "    <tr>\n",
       "      <th>5</th>\n",
       "      <td>United Arab Emirates</td>\n",
       "      <td>1023</td>\n",
       "      <td>9.2</td>\n",
       "      <td>0.7</td>\n",
       "      <td>744.120</td>\n",
       "      <td>14</td>\n",
       "      <td>0.002467</td>\n",
       "      <td>0.00460</td>\n",
       "    </tr>\n",
       "    <tr>\n",
       "      <th>6</th>\n",
       "      <td>Yemen</td>\n",
       "      <td>91</td>\n",
       "      <td>25.8</td>\n",
       "      <td>0.7</td>\n",
       "      <td>2465.712</td>\n",
       "      <td>30</td>\n",
       "      <td>0.008173</td>\n",
       "      <td>0.01290</td>\n",
       "    </tr>\n",
       "  </tbody>\n",
       "</table>\n",
       "</div>"
      ],
      "text/plain": [
       "                Country  Minwage  Population  Discount       Sales  orders  \\\n",
       "0            Kazakhstan      112        17.2       0.7    4605.444     101   \n",
       "1             Lithuania      290         2.9       0.7    6724.332      50   \n",
       "2            Tajikistan       39         8.2       0.7     242.784       3   \n",
       "3                Turkey      495        76.6       0.6  108507.948    1378   \n",
       "4          Turkmenistan      152         5.5       0.7    2027.061      25   \n",
       "5  United Arab Emirates     1023         9.2       0.7     744.120      14   \n",
       "6                 Yemen       91        25.8       0.7    2465.712      30   \n",
       "\n",
       "   SalesShare  PopulationShare  \n",
       "0    0.015266          0.00860  \n",
       "1    0.022289          0.00145  \n",
       "2    0.000805          0.00410  \n",
       "3    0.359672          0.03830  \n",
       "4    0.006719          0.00275  \n",
       "5    0.002467          0.00460  \n",
       "6    0.008173          0.01290  "
      ]
     },
     "execution_count": 462,
     "metadata": {},
     "output_type": "execute_result"
    }
   ],
   "source": [
    "neg['Discount'] = neg['Country'].apply(lambda x: data.groupby('Country')['Discount'].mean()[x])\n",
    "neg['Sales'] = neg['Country'].apply(lambda x: data.groupby('Country')['Sales'].sum()[x])\n",
    "neg['orders'] = neg['Country'].apply(lambda x: data.groupby('Country')['Discount'].count()[x])\n",
    "neg['SalesShare'] = neg['Sales'].apply(lambda x: x / emea['Sales'].sum())\n",
    "neg['PopulationShare'] = neg['Population'].apply(lambda x: x / (2*10**3))\n",
    "neg"
   ]
  },
  {
   "cell_type": "code",
   "execution_count": 455,
   "metadata": {},
   "outputs": [
    {
     "data": {
      "text/plain": [
       "301685.94299999997"
      ]
     },
     "execution_count": 455,
     "metadata": {},
     "output_type": "execute_result"
    }
   ],
   "source": [
    "emea['Sales'].sum()"
   ]
  },
  {
   "cell_type": "code",
   "execution_count": 463,
   "metadata": {},
   "outputs": [],
   "source": [
    "neg.to_excel('negative.xlsx')"
   ]
  },
  {
   "cell_type": "code",
   "execution_count": 466,
   "metadata": {},
   "outputs": [
    {
     "data": {
      "text/plain": [
       "0.14290754533046662"
      ]
     },
     "execution_count": 466,
     "metadata": {},
     "output_type": "execute_result"
    }
   ],
   "source": [
    "data['Discount'].mean()"
   ]
  },
  {
   "cell_type": "code",
   "execution_count": 465,
   "metadata": {},
   "outputs": [
    {
     "data": {
      "text/html": [
       "<div>\n",
       "<style scoped>\n",
       "    .dataframe tbody tr th:only-of-type {\n",
       "        vertical-align: middle;\n",
       "    }\n",
       "\n",
       "    .dataframe tbody tr th {\n",
       "        vertical-align: top;\n",
       "    }\n",
       "\n",
       "    .dataframe thead th {\n",
       "        text-align: right;\n",
       "    }\n",
       "</style>\n",
       "<table border=\"1\" class=\"dataframe\">\n",
       "  <thead>\n",
       "    <tr style=\"text-align: right;\">\n",
       "      <th></th>\n",
       "      <th>Market</th>\n",
       "      <th>Population</th>\n",
       "      <th>min_wage</th>\n",
       "    </tr>\n",
       "  </thead>\n",
       "  <tbody>\n",
       "    <tr>\n",
       "      <th>0</th>\n",
       "      <td>APAC</td>\n",
       "      <td>4.300000e+09</td>\n",
       "      <td>471.158234</td>\n",
       "    </tr>\n",
       "    <tr>\n",
       "      <th>3</th>\n",
       "      <td>Africa</td>\n",
       "      <td>1.210000e+09</td>\n",
       "      <td>125.069787</td>\n",
       "    </tr>\n",
       "    <tr>\n",
       "      <th>6</th>\n",
       "      <td>Canada</td>\n",
       "      <td>3.500000e+07</td>\n",
       "      <td>1478.729000</td>\n",
       "    </tr>\n",
       "    <tr>\n",
       "      <th>4</th>\n",
       "      <td>EMEA</td>\n",
       "      <td>2.000000e+09</td>\n",
       "      <td>335.453893</td>\n",
       "    </tr>\n",
       "    <tr>\n",
       "      <th>1</th>\n",
       "      <td>EU</td>\n",
       "      <td>4.420000e+08</td>\n",
       "      <td>1806.227815</td>\n",
       "    </tr>\n",
       "    <tr>\n",
       "      <th>5</th>\n",
       "      <td>LATAM</td>\n",
       "      <td>6.160000e+08</td>\n",
       "      <td>315.980889</td>\n",
       "    </tr>\n",
       "    <tr>\n",
       "      <th>2</th>\n",
       "      <td>US</td>\n",
       "      <td>3.180000e+08</td>\n",
       "      <td>1256.670000</td>\n",
       "    </tr>\n",
       "  </tbody>\n",
       "</table>\n",
       "</div>"
      ],
      "text/plain": [
       "   Market    Population     min_wage\n",
       "0    APAC  4.300000e+09   471.158234\n",
       "3  Africa  1.210000e+09   125.069787\n",
       "6  Canada  3.500000e+07  1478.729000\n",
       "4    EMEA  2.000000e+09   335.453893\n",
       "1      EU  4.420000e+08  1806.227815\n",
       "5   LATAM  6.160000e+08   315.980889\n",
       "2      US  3.180000e+08  1256.670000"
      ]
     },
     "execution_count": 465,
     "metadata": {},
     "output_type": "execute_result"
    }
   ],
   "source": [
    "mark"
   ]
  },
  {
   "cell_type": "code",
   "execution_count": null,
   "metadata": {},
   "outputs": [],
   "source": []
  },
  {
   "cell_type": "code",
   "execution_count": 469,
   "metadata": {},
   "outputs": [
    {
     "data": {
      "text/plain": [
       "year\n",
       "2011    102\n",
       "2012    137\n",
       "2013    163\n",
       "2014    206\n",
       "Name: Customer ID, dtype: int64"
      ]
     },
     "execution_count": 469,
     "metadata": {},
     "output_type": "execute_result"
    }
   ],
   "source": [
    "data[data['Country']=='Turkey'].groupby('year')['Customer ID'].nunique()"
   ]
  },
  {
   "cell_type": "code",
   "execution_count": null,
   "metadata": {},
   "outputs": [],
   "source": [
    "data[data['Country']=='Turkey'].groupby('year')['Customer ID'].nunique()"
   ]
  },
  {
   "cell_type": "code",
   "execution_count": 472,
   "metadata": {},
   "outputs": [
    {
     "data": {
      "text/plain": [
       "year\n",
       "2011    1\n",
       "2014    1\n",
       "Name: Customer ID, dtype: int64"
      ]
     },
     "execution_count": 472,
     "metadata": {},
     "output_type": "execute_result"
    }
   ],
   "source": [
    "data[data['Country']=='Tajikistan'].groupby('year')['Customer ID'].nunique()"
   ]
  },
  {
   "cell_type": "code",
   "execution_count": 470,
   "metadata": {},
   "outputs": [
    {
     "data": {
      "text/plain": [
       "year\n",
       "2011    329\n",
       "2012    372\n",
       "2013    471\n",
       "2014    544\n",
       "Name: Customer ID, dtype: int64"
      ]
     },
     "execution_count": 470,
     "metadata": {},
     "output_type": "execute_result"
    }
   ],
   "source": [
    "data[data['Market']=='EMEA'].groupby('year')['Customer ID'].nunique()"
   ]
  },
  {
   "cell_type": "code",
   "execution_count": null,
   "metadata": {},
   "outputs": [],
   "source": []
  },
  {
   "cell_type": "code",
   "execution_count": 474,
   "metadata": {},
   "outputs": [],
   "source": [
    "data.to_excel('data2.xlsx')"
   ]
  },
  {
   "cell_type": "code",
   "execution_count": null,
   "metadata": {},
   "outputs": [],
   "source": []
  },
  {
   "cell_type": "code",
   "execution_count": null,
   "metadata": {},
   "outputs": [],
   "source": []
  },
  {
   "cell_type": "code",
   "execution_count": null,
   "metadata": {},
   "outputs": [],
   "source": []
  },
  {
   "cell_type": "code",
   "execution_count": null,
   "metadata": {},
   "outputs": [],
   "source": []
  },
  {
   "cell_type": "code",
   "execution_count": null,
   "metadata": {},
   "outputs": [],
   "source": []
  },
  {
   "cell_type": "code",
   "execution_count": null,
   "metadata": {},
   "outputs": [],
   "source": []
  },
  {
   "cell_type": "code",
   "execution_count": null,
   "metadata": {},
   "outputs": [],
   "source": []
  }
 ],
 "metadata": {
  "kernelspec": {
   "display_name": "Python 3",
   "language": "python",
   "name": "python3"
  },
  "language_info": {
   "codemirror_mode": {
    "name": "ipython",
    "version": 3
   },
   "file_extension": ".py",
   "mimetype": "text/x-python",
   "name": "python",
   "nbconvert_exporter": "python",
   "pygments_lexer": "ipython3",
   "version": "3.7.4"
  }
 },
 "nbformat": 4,
 "nbformat_minor": 2
}
